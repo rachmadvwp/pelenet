{
 "cells": [
  {
   "cell_type": "code",
   "execution_count": 1,
   "metadata": {},
   "outputs": [
    {
     "output_type": "stream",
     "name": "stdout",
     "text": [
      "\n"
     ]
    }
   ],
   "source": [
    "\"\"\"\n",
    "First insights:\n",
    "\n",
    "* If an input is trained, it will stay stable, even if it receives less inputs in a second run\n",
    "* If an input was trained less in a first run, it will strenghten its connections later if its stimuated more often then\n",
    "* But in this case it will take much more time, since only few spikes are available which takes some time to build up\n",
    "* If both inputs are trained strongly, further activating patterns have not really any impact anymore\n",
    "-> An input aquires a specific amount of neurons and stably saturates\n",
    "-> If it's relatively weak in the beginning it can still become saturates, but then it takes longer\n",
    "\n",
    "Next steps:\n",
    "* What happens when the network is bigger?\n",
    "* What happens when the input it smaller/bigger?\n",
    "* What happens when a third input comes into play?\n",
    "* Add noise to allow re-allocation\n",
    "\n",
    "\"\"\"\n",
    "print('')"
   ]
  },
  {
   "cell_type": "code",
   "execution_count": 2,
   "metadata": {},
   "outputs": [],
   "source": [
    "import os\n",
    "import sys\n",
    "\n",
    "path = '/home/seq/pelenet'\n",
    "sys.path.append(path)\n",
    "os.chdir(path)"
   ]
  },
  {
   "cell_type": "code",
   "execution_count": 3,
   "metadata": {},
   "outputs": [],
   "source": [
    "# Allow reload of objects\n",
    "%load_ext autoreload\n",
    "%autoreload\n",
    "\n",
    "from pelenet.utils import Utils\n",
    "from pelenet.experiments.assemblies import AssemblyExperiment\n",
    "\n",
    "# Official modules\n",
    "import numpy as np\n",
    "import nxsdk.api.n2a as nx\n",
    "import matplotlib\n",
    "import matplotlib.pyplot as plt\n",
    "from time import time\n",
    "from copy import deepcopy"
   ]
  },
  {
   "cell_type": "code",
   "execution_count": 4,
   "metadata": {},
   "outputs": [],
   "source": [
    "# Overwrite default parameters (pelenet/parameters/ and pelenet/experiments/random.py)\n",
    "parameters = {\n",
    "    # Experiment\n",
    "    'seed': 1,  # Random seed\n",
    "    'trials': 20,  # Number of trials\n",
    "    'stepsPerTrial': 50,  # Number of simulation steps for every trial\n",
    "    'isReset': True,  # Activate reset after every trial\n",
    "    # Network\n",
    "    'reservoirExSize': 400,  # Number of excitatory neurons\n",
    "    'reservoirConnPerNeuron': 35, #35 # Number of connections per neuron\n",
    "    # Noise\n",
    "    'isNoise': True,\n",
    "    # Neurons\n",
    "    'refractoryDelay': 2, # Refactory period\n",
    "    'voltageTau': 100, #100 # Voltage time constant\n",
    "    'currentTau': 6, #5 # Current time constant\n",
    "    'thresholdMant': 1200, #1200  # Spiking threshold for membrane potential\n",
    "    # Plasticity\n",
    "    'isLearningRule': True,\n",
    "    'learningEpoch': 4,\n",
    "    'learningRule': '2^-2*x1*y0 - 2^-2*y1*x0 + 2^-4*x1*y1*x0*y0 - 2^-3*y0*w*w', #'2^-2*x1*y0 - 2^-2*y1*x0 + 2^-4*x1*y1*y0 - 2^-3*y0*w*w',\n",
    "    # Input\n",
    "    'inputIsVary': True,\n",
    "    'inputVaryProbs': [0.1, 0.9],\n",
    "    'inputGenSpikeProb': 0.8,  # Probability of spikes for the spike generators\n",
    "    'inputNumTargetNeurons': 40,  # Number of neurons targeted by the spike generators\n",
    "    'inputSteps': 30,  # Number of steps the input is active\n",
    "    # Probes\n",
    "    'isExSpikeProbe': True,  # Probe excitatory spikes\n",
    "    'isInSpikeProbe': True,  # Probe inhibitory spikes\n",
    "    'isWeightProbe': True  # Probe weight matrix at the end of the simulation\n",
    "}"
   ]
  },
  {
   "cell_type": "code",
   "execution_count": 5,
   "metadata": {},
   "outputs": [],
   "source": [
    "# Initilizes the experiment and utils\n",
    "exp = AssemblyExperiment(name='assemblies', parameters=parameters)\n",
    "utils = Utils.instance()"
   ]
  },
  {
   "cell_type": "code",
   "execution_count": 6,
   "metadata": {},
   "outputs": [
    {
     "output_type": "execute_result",
     "data": {
      "text/plain": [
       "0.922"
      ]
     },
     "metadata": {},
     "execution_count": 6
    }
   ],
   "source": [
    "# Build network\n",
    "exp.build()\n",
    "\n",
    "# Get spectral radius\n",
    "utils.getSpectralRadius(exp.net.initialWeights)"
   ]
  },
  {
   "cell_type": "code",
   "execution_count": 7,
   "metadata": {},
   "outputs": [
    {
     "output_type": "execute_result",
     "data": {
      "text/plain": [
       "25"
      ]
     },
     "metadata": {},
     "execution_count": 7
    }
   ],
   "source": [
    "exp.net.numCoresUsed"
   ]
  },
  {
   "cell_type": "code",
   "execution_count": 8,
   "metadata": {},
   "outputs": [
    {
     "output_type": "stream",
     "name": "stdout",
     "text": [
      "\u001b[1;30m\u001b[1;30mWARNING\u001b[0m\u001b[0m:\u001b[34m\u001b[34mDRV\u001b[0m\u001b[0m:  \u001b[33melementType would be deprecated in 0.9 in favor of messageSize, which provides more flexibility\u001b[0m\n",
      "\u001b[1;30m\u001b[1;30mINFO\u001b[0m\u001b[0m:\u001b[34m\u001b[34mDRV\u001b[0m\u001b[0m:  Connecting to 127.0.0.1:46869\n",
      "\u001b[1;30m\u001b[1;30mINFO\u001b[0m\u001b[0m:\u001b[34m\u001b[34mDRV\u001b[0m\u001b[0m:      Host server up..............Done 0.68s\n",
      "\u001b[1;30m\u001b[1;30mINFO\u001b[0m\u001b[0m:\u001b[34m\u001b[34mDRV\u001b[0m\u001b[0m:      Encoding axons/synapses.....Done 0.41s\n",
      "\u001b[1;30m\u001b[1;30mWARNING\u001b[0m\u001b[0m:\u001b[34m\u001b[34mDRV\u001b[0m\u001b[0m:  \u001b[33m~/.local/share/virtualenvs/seq-r0_WvjRo/lib/python3.5/site-packages ~/pelenet\n",
      "Compiling in directory : /home/seq/.local/share/virtualenvs/seq-r0_WvjRo/lib/python3.5/site-packages/nxsdk/driver/compilers/../../../temp/1606406847.1417167\n",
      "Include dir is : /home/seq/.local/share/virtualenvs/seq-r0_WvjRo/lib/python3.5/site-packages/nxsdk/graph/nxinputgen/../../snips/ -I/home/seq/pelenet/pelenet/snips/\n",
      "Compiling -c /home/seq/.local/share/virtualenvs/seq-r0_WvjRo/lib/python3.5/site-packages/nxsdk/driver/compilers/../../../temp/1606406847.1417167/initnetwork_0_0.c\n",
      "gcc -Wall -I/home/seq/.local/share/virtualenvs/seq-r0_WvjRo/lib/python3.5/site-packages/nxsdk/graph/nxinputgen/../../snips/ -I/home/seq/pelenet/pelenet/snips/ -Inxsdk/include -fno-stack-protector -msoft-float -m32 -march=i586 -fno-builtin-printf -fno-builtin-sprintf -fno-builtin-fprintf -fno-builtin-memcpy -fstrict-volatile-bitfields -Os -DNDEBUG -std=c99 -o /home/seq/.local/share/virtualenvs/seq-r0_WvjRo/lib/python3.5/site-packages/nxsdk/driver/compilers/../../../temp/1606406847.1417167/initnetwork_0_0.c.o -c /home/seq/.local/share/virtualenvs/seq-r0_WvjRo/lib/python3.5/site-packages/nxsdk/driver/compilers/../../../temp/1606406847.1417167/initnetwork_0_0.c\n",
      "Compiling without -c /home/seq/.local/share/virtualenvs/seq-r0_WvjRo/lib/python3.5/site-packages/nxsdk/driver/compilers/../../../temp/1606406847.1417167/0_spiking_packed.c\n",
      "gcc -Wall -I/home/seq/.local/share/virtualenvs/seq-r0_WvjRo/lib/python3.5/site-packages/nxsdk/graph/nxinputgen/../../snips/ -I/home/seq/pelenet/pelenet/snips/ -Inxsdk/include -fno-stack-protector -msoft-float -m32 -march=i586 -fno-builtin-printf -fno-builtin-sprintf -fno-builtin-fprintf -fno-builtin-memcpy -fstrict-volatile-bitfields -Os -DNDEBUG -std=c99 -o /home/seq/.local/share/virtualenvs/seq-r0_WvjRo/lib/python3.5/site-packages/nxsdk/driver/compilers/../../../temp/1606406847.1417167/0_spiking_packed.c.o -c /home/seq/.local/share/virtualenvs/seq-r0_WvjRo/lib/python3.5/site-packages/nxsdk/driver/compilers/../../../temp/1606406847.1417167/0_spiking_packed.c\n",
      "Compiling without -c /home/seq/.local/share/virtualenvs/seq-r0_WvjRo/lib/python3.5/site-packages/nxsdk/driver/compilers/../../../temp/1606406847.1417167/1_reset_init.c\n",
      "gcc -Wall -I/home/seq/.local/share/virtualenvs/seq-r0_WvjRo/lib/python3.5/site-packages/nxsdk/graph/nxinputgen/../../snips/ -I/home/seq/pelenet/pelenet/snips/ -Inxsdk/include -fno-stack-protector -msoft-float -m32 -march=i586 -fno-builtin-printf -fno-builtin-sprintf -fno-builtin-fprintf -fno-builtin-memcpy -fstrict-volatile-bitfields -Os -DNDEBUG -std=c99 -o /home/seq/.local/share/virtualenvs/seq-r0_WvjRo/lib/python3.5/site-packages/nxsdk/driver/compilers/../../../temp/1606406847.1417167/1_reset_init.c.o -c /home/seq/.local/share/virtualenvs/seq-r0_WvjRo/lib/python3.5/site-packages/nxsdk/driver/compilers/../../../temp/1606406847.1417167/1_reset_init.c\n",
      "Compiling without -c /home/seq/.local/share/virtualenvs/seq-r0_WvjRo/lib/python3.5/site-packages/nxsdk/driver/compilers/../../../temp/1606406847.1417167/2_reset.c\n",
      "gcc -Wall -I/home/seq/.local/share/virtualenvs/seq-r0_WvjRo/lib/python3.5/site-packages/nxsdk/graph/nxinputgen/../../snips/ -I/home/seq/pelenet/pelenet/snips/ -Inxsdk/include -fno-stack-protector -msoft-float -m32 -march=i586 -fno-builtin-printf -fno-builtin-sprintf -fno-builtin-fprintf -fno-builtin-memcpy -fstrict-volatile-bitfields -Os -DNDEBUG -std=c99 -o /home/seq/.local/share/virtualenvs/seq-r0_WvjRo/lib/python3.5/site-packages/nxsdk/driver/compilers/../../../temp/1606406847.1417167/2_reset.c.o -c /home/seq/.local/share/virtualenvs/seq-r0_WvjRo/lib/python3.5/site-packages/nxsdk/driver/compilers/../../../temp/1606406847.1417167/2_reset.c\n",
      "/home/seq/pelenet/pelenet/snips//reset.c: In function ‘reset’:\n",
      "/home/seq/pelenet/pelenet/snips//reset.c:51:9: warning: dereferencing type-punned pointer will break strict-aliasing rules [-Wstrict-aliasing]\n",
      "         nx_fast_init64(nc->cx_state, neuronsPerCore, *(uint64_t*)&cxs);\n",
      "         ^~~~~~~~~~~~~~\n",
      "/home/seq/pelenet/pelenet/snips//reset.c:79:13: warning: dereferencing type-punned pointer will break strict-aliasing rules [-Wstrict-aliasing]\n",
      "             nx_fast_init32(nc->cx_meta_state, neuronsPerCore/4, *(uint32_t*)&ms);\n",
      "             ^~~~~~~~~~~~~~\n",
      "Compiling without -c /home/seq/.local/share/virtualenvs/seq-r0_WvjRo/lib/python3.5/site-packages/nxsdk/driver/compilers/../../../temp/1606406847.1417167/main_0_0.c\n",
      "gcc -Wall -I/home/seq/.local/share/virtualenvs/seq-r0_WvjRo/lib/python3.5/site-packages/nxsdk/graph/nxinputgen/../../snips/ -I/home/seq/pelenet/pelenet/snips/ -Inxsdk/include -fno-stack-protector -msoft-float -m32 -march=i586 -fno-builtin-printf -fno-builtin-sprintf -fno-builtin-fprintf -fno-builtin-memcpy -fstrict-volatile-bitfields -Os -DNDEBUG -std=c99 -o /home/seq/.local/share/virtualenvs/seq-r0_WvjRo/lib/python3.5/site-packages/nxsdk/driver/compilers/../../../temp/1606406847.1417167/main_0_0.c.o -c /home/seq/.local/share/virtualenvs/seq-r0_WvjRo/lib/python3.5/site-packages/nxsdk/driver/compilers/../../../temp/1606406847.1417167/main_0_0.c\n",
      "OBJFILES :  /home/seq/.local/share/virtualenvs/seq-r0_WvjRo/lib/python3.5/site-packages/nxsdk/driver/compilers/../../../temp/1606406847.1417167/initnetwork_0_0.c.o /home/seq/.local/share/virtualenvs/seq-r0_WvjRo/lib/python3.5/site-packages/nxsdk/driver/compilers/../../../temp/1606406847.1417167/0_spiking_packed.c.o /home/seq/.local/share/virtualenvs/seq-r0_WvjRo/lib/python3.5/site-packages/nxsdk/driver/compilers/../../../temp/1606406847.1417167/1_reset_init.c.o /home/seq/.local/share/virtualenvs/seq-r0_WvjRo/lib/python3.5/site-packages/nxsdk/driver/compilers/../../../temp/1606406847.1417167/2_reset.c.o /home/seq/.local/share/virtualenvs/seq-r0_WvjRo/lib/python3.5/site-packages/nxsdk/driver/compilers/../../../temp/1606406847.1417167/main_0_0.c.o\n",
      "gcc -Wall -fno-stack-protector -msoft-float -m32 -march=i586 -fno-builtin-printf -fno-builtin-sprintf -fno-builtin-fprintf -fno-builtin-memcpy -fstrict-volatile-bitfields -Os -DNDEBUG -std=c99 /home/seq/.local/share/virtualenvs/seq-r0_WvjRo/lib/python3.5/site-packages/nxsdk/driver/compilers/../../../temp/1606406847.1417167/initnetwork_0_0.c.o /home/seq/.local/share/virtualenvs/seq-r0_WvjRo/lib/python3.5/site-packages/nxsdk/driver/compilers/../../../temp/1606406847.1417167/0_spiking_packed.c.o /home/seq/.local/share/virtualenvs/seq-r0_WvjRo/lib/python3.5/site-packages/nxsdk/driver/compilers/../../../temp/1606406847.1417167/1_reset_init.c.o /home/seq/.local/share/virtualenvs/seq-r0_WvjRo/lib/python3.5/site-packages/nxsdk/driver/compilers/../../../temp/1606406847.1417167/2_reset.c.o /home/seq/.local/share/virtualenvs/seq-r0_WvjRo/lib/python3.5/site-packages/nxsdk/driver/compilers/../../../temp/1606406847.1417167/main_0_0.c.o -o /home/seq/.local/share/virtualenvs/seq-r0_WvjRo/lib/python3.5/site-packages/nxsdk/driver/compilers/../../../temp/1606406847.1417167/launcher.link nxsdk/lib/embedded/libboot.a nxsdk/lib/embedded/libembedded_nx.a nxsdk/lib/embedded/liblmt.a nxsdk/lib/embedded/libnx.a -Wl,--script=nxsdk/utils/linker.scr -Wl,--build-id=none -Wl,-N -nostdlib\n",
      "\u001b[0m\n",
      "\u001b[1;30m\u001b[1;30mINFO\u001b[0m\u001b[0m:\u001b[34m\u001b[34mDRV\u001b[0m\u001b[0m:      Compiling Embedded snips....Done 0.17s\n",
      "\u001b[1;30m\u001b[1;30mINFO\u001b[0m\u001b[0m:\u001b[34m\u001b[34mDRV\u001b[0m\u001b[0m:      Booting up..................Done 0.93s\n",
      "\u001b[1;30m\u001b[1;30mINFO\u001b[0m\u001b[0m:\u001b[34m\u001b[34mDRV\u001b[0m\u001b[0m:      Encoding probes.............Done 0.02s\n",
      "\u001b[1;30m\u001b[1;30mINFO\u001b[0m\u001b[0m:\u001b[34m\u001b[34mDRV\u001b[0m\u001b[0m:      Transferring probes.........Done 0.09s\n",
      "\u001b[1;30m\u001b[1;30mINFO\u001b[0m\u001b[0m:\u001b[34m\u001b[34mDRV\u001b[0m\u001b[0m:      Configuring registers.......Done 0.46s\n",
      "\u001b[1;30m\u001b[1;30mINFO\u001b[0m\u001b[0m:\u001b[34m\u001b[34mDRV\u001b[0m\u001b[0m:      Transferring spikes.........Done 0.55s\n",
      "\u001b[1;30m\u001b[1;30mINFO\u001b[0m\u001b[0m:\u001b[34m\u001b[34mHST\u001b[0m\u001b[0m:  Using Kapoho Bay serial number 308\n",
      "\u001b[1;30m\u001b[1;30mINFO\u001b[0m\u001b[0m:\u001b[34m\u001b[34mHST\u001b[0m\u001b[0m:  Args chip=0 cpu=0 /home/seq/.local/share/virtualenvs/seq-r0_WvjRo/lib/python3.5/site-packages/nxsdk/driver/compilers/../../../temp/1606406847.1417167/launcher_chip0_lmt0.bin --chips=1 --remote-relay=0 --epoch=4 \n",
      "\u001b[1;30m\u001b[1;30mINFO\u001b[0m\u001b[0m:\u001b[34m\u001b[34mHST\u001b[0m\u001b[0m:  Lakemont_driver...\n",
      "\u001b[1;30m\u001b[1;30mINFO\u001b[0m\u001b[0m:\u001b[34m\u001b[34mHST\u001b[0m\u001b[0m:  chip=0 cpu=0 Transfered values 20, 70, 10 \n",
      "\u001b[1;30m\u001b[1;30mINFO\u001b[0m\u001b[0m:\u001b[34m\u001b[34mHST\u001b[0m\u001b[0m:  chip=0 cpu=0 Reset at 1\n",
      "\u001b[1;30m\u001b[1;30mINFO\u001b[0m\u001b[0m:\u001b[34m\u001b[34mHST\u001b[0m\u001b[0m:  chip=0 cpu=0 Disable learning at 1\n",
      "\u001b[1;30m\u001b[1;30mINFO\u001b[0m\u001b[0m:\u001b[34m\u001b[34mHST\u001b[0m\u001b[0m:  chip=0 cpu=0 Reset at 2\n",
      "\u001b[1;30m\u001b[1;30mINFO\u001b[0m\u001b[0m:\u001b[34m\u001b[34mHST\u001b[0m\u001b[0m:  chip=0 cpu=0 Reset at 3\n",
      "\u001b[1;30m\u001b[1;30mINFO\u001b[0m\u001b[0m:\u001b[34m\u001b[34mHST\u001b[0m\u001b[0m:  chip=0 cpu=0 Reset at 4\n",
      "\u001b[1;30m\u001b[1;30mWARNING\u001b[0m\u001b[0m:\u001b[34m\u001b[34mNET\u001b[0m\u001b[0m:  \u001b[33mReceived Signal: 2. Kill Subprocess PID: 9607\u001b[0m\n",
      "\u001b[1;30m\u001b[1;30mINFO\u001b[0m\u001b[0m:\u001b[34m\u001b[34mDRV\u001b[0m\u001b[0m:      Executing...................Done 4.77s\n",
      "\u001b[1;30m\u001b[1;30mINFO\u001b[0m\u001b[0m:\u001b[34m\u001b[34mDRV\u001b[0m\u001b[0m:  Executor: 1400 timesteps........Done 5.91s\n"
     ]
    },
    {
     "output_type": "error",
     "ename": "SystemExit",
     "evalue": "1",
     "traceback": [
      "An exception has occurred, use %tb to see the full traceback.\n",
      "\u001b[0;31mSystemExit\u001b[0m\u001b[0;31m:\u001b[0m 1\n"
     ]
    }
   ],
   "source": [
    "# Run network\n",
    "exp.run()"
   ]
  },
  {
   "cell_type": "code",
   "execution_count": null,
   "metadata": {},
   "outputs": [],
   "source": [
    "# Plot spike trains of the excitatory (red) and inhibitory (blue) neurons\n",
    "exp.net.plot.reservoirSpikeTrain(figsize=(12,6))"
   ]
  },
  {
   "cell_type": "code",
   "execution_count": null,
   "metadata": {},
   "outputs": [],
   "source": [
    "# Weight matrix before learning\n",
    "exp.net.plot.initialExWeightMatrix()"
   ]
  },
  {
   "cell_type": "code",
   "execution_count": null,
   "metadata": {},
   "outputs": [],
   "source": [
    "# Weight matrix after learning\n",
    "exp.net.plot.trainedExWeightMatrix()"
   ]
  },
  {
   "cell_type": "code",
   "execution_count": null,
   "metadata": {},
   "outputs": [],
   "source": [
    "# Sorted weight matrix after learning\n",
    "expSupportMask = utils.getSupportWeightsMask(exp.net.trainedWeightsExex[-1])\n",
    "exp.net.plot.weightsSortedBySupport(expSupportMask, exp.net.trainedWeightsExex[-1])"
   ]
  },
  {
   "cell_type": "code",
   "execution_count": null,
   "metadata": {},
   "outputs": [],
   "source": [
    "inputs = utils.getInputLetterList(exp.net.inputTrials)"
   ]
  },
  {
   "cell_type": "code",
   "execution_count": null,
   "metadata": {},
   "outputs": [],
   "source": [
    "supportMasks = utils.getSupportMasksForAllTrials(exp.net.initialWeights.exex, exp.net.trainedWeightsExex)"
   ]
  },
  {
   "cell_type": "code",
   "execution_count": null,
   "metadata": {},
   "outputs": [],
   "source": [
    "exp.net.plot.supportShare(supportMasks)"
   ]
  },
  {
   "cell_type": "code",
   "execution_count": null,
   "metadata": {},
   "outputs": [],
   "source": [
    "exp.net.plot.supportTurnover(supportMasks)"
   ]
  },
  {
   "cell_type": "code",
   "execution_count": null,
   "metadata": {},
   "outputs": [],
   "source": [
    "# New parameters\n",
    "newParameters = {\n",
    "    **parameters,\n",
    "    'trials': 50, #100,\n",
    "    'inputVaryProbs': [0.9, 0.1]\n",
    "}"
   ]
  },
  {
   "cell_type": "code",
   "execution_count": null,
   "metadata": {},
   "outputs": [],
   "source": [
    "# Initilizes a second experiment\n",
    "exp2 = AssemblyExperiment(name='assemblies-retrain', parameters=newParameters)"
   ]
  },
  {
   "cell_type": "code",
   "execution_count": null,
   "metadata": {},
   "outputs": [],
   "source": [
    "#np.array_equal(exp.initialMasks.exex.toarray(), exp2.initialMasks.exex.toarray())"
   ]
  },
  {
   "cell_type": "code",
   "execution_count": null,
   "metadata": {},
   "outputs": [],
   "source": [
    "# Build network\n",
    "weights = deepcopy(exp.net.initialWeights)\n",
    "weights.exex = exp.net.trainedWeightsExex[-1]\n",
    "exp2.buildWithGivenMaskAndWeights(exp.net.initialMasks, weights)"
   ]
  },
  {
   "cell_type": "code",
   "execution_count": null,
   "metadata": {
    "tags": [
     "outputPrepend"
    ]
   },
   "outputs": [],
   "source": [
    "# Run network\n",
    "exp2.run()"
   ]
  },
  {
   "cell_type": "code",
   "execution_count": null,
   "metadata": {},
   "outputs": [],
   "source": [
    "# Plot spike trains of the excitatory (red) and inhibitory (blue) neurons\n",
    "#exp2.net.plot.reservoirSpikeTrain(figsize=(12,6))"
   ]
  },
  {
   "cell_type": "code",
   "execution_count": null,
   "metadata": {},
   "outputs": [],
   "source": [
    "# Weight matrix before learning\n",
    "exp2.net.plot.initialExWeightMatrix()"
   ]
  },
  {
   "cell_type": "code",
   "execution_count": null,
   "metadata": {},
   "outputs": [],
   "source": [
    "# Weight matrix after learning\n",
    "exp2.net.plot.trainedExWeightMatrix()"
   ]
  },
  {
   "cell_type": "code",
   "execution_count": null,
   "metadata": {},
   "outputs": [],
   "source": [
    "# Sorted weight matrix after learning\n",
    "exp2SupportMask = utils.getSupportWeightsMask(exp2.net.trainedWeightsExex[-1])\n",
    "exp2.net.plot.weightsSortedBySupport(exp2SupportMask, exp2.net.trainedWeightsExex[-1])"
   ]
  },
  {
   "cell_type": "code",
   "execution_count": null,
   "metadata": {},
   "outputs": [],
   "source": [
    "supportMasks = utils.getSupportMasksForAllTrials(exp2.net.initialWeights.exex, exp2.net.trainedWeightsExex)"
   ]
  },
  {
   "cell_type": "code",
   "execution_count": null,
   "metadata": {},
   "outputs": [],
   "source": [
    "exp2.net.plot.supportShare(supportMasks)\n",
    "# TODO More trials do not help, need more noise?"
   ]
  },
  {
   "cell_type": "code",
   "execution_count": null,
   "metadata": {},
   "outputs": [],
   "source": [
    "exp2.net.plot.supportTurnover(supportMasks)"
   ]
  }
 ],
 "metadata": {
  "kernelspec": {
   "display_name": "Python 3",
   "language": "python",
   "name": "python3"
  },
  "language_info": {
   "codemirror_mode": {
    "name": "ipython",
    "version": 3
   },
   "file_extension": ".py",
   "mimetype": "text/x-python",
   "name": "python",
   "nbconvert_exporter": "python",
   "pygments_lexer": "ipython3",
   "version": "3.6.9-final"
  }
 },
 "nbformat": 4,
 "nbformat_minor": 2
}