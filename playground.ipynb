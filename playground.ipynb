{
 "cells": [
  {
   "cell_type": "code",
   "execution_count": 2,
   "metadata": {},
   "outputs": [],
   "source": [
    "import numpy as np\n",
    "import matplotlib.pyplot as plt\n",
    "from tqdm import tqdm\n",
    "import math"
   ]
  },
  {
   "cell_type": "code",
   "execution_count": 1,
   "metadata": {},
   "outputs": [],
   "source": [
    "np.random.seed(seed=0)\n",
    "\n",
    "N = 2000  #Number of neurons \n",
    "dt = 5e-5\n",
    "tref = 2e-3 #Refractory time constant in seconds\n",
    "tm = 1e-2 #Membrane time constant \n",
    "vreset = -65 #Voltage reset \n",
    "vthr = -40 #Voltage threshold\n",
    "vpeak = 30\n",
    "\n",
    "td = 2e-2\n",
    "tr = 2e-3\n",
    "\n",
    "alpha = dt*0.1 #Sets the rate of weight change, too fast is unstable, too slow is bad as well.  \n",
    "Pinv = np.eye(N)*alpha #initialize the correlation weight matrix for RLMS\n",
    "p = 0.1 #Set the network sparsity \n",
    "\n",
    "\n",
    "#Target Dynamics for Product of Sine Waves\n",
    "T = 15 # Simulation time (s)\n",
    "imin = round(5/dt) # beginning time step of RLS training \n",
    "icrit = round(10/dt) # end time step of RLS training\n",
    "step = 50 # weights update time step\n",
    "nt = round(T/dt) # Simulation time step\n",
    "Q = 10; G = 0.04;\n",
    "zx = np.sin(2*math.pi*np.arange(nt)*dt*5) # Target signal\n",
    "\n",
    "k = 1 # number of output unit\n",
    "IPSC = np.zeros(N) #post synaptic current storage variable \n",
    "h = np.zeros(N) #Storage variable for filtered firing rates\n",
    "r = np.zeros((N,1)) #second storage variable for filtered rates \n",
    "hr = np.zeros(N) #Third variable for filtered rates \n",
    "JD = np.zeros(N) #storage variable required for each spike time \n",
    "tspike = np.zeros((4*nt,2)) #Storage variable for spike times \n",
    "ns = 0 #Number of spikes, counts during simulation  \n",
    "z = np.zeros(k) #Initialize the approximant \n",
    " \n",
    "v = vreset + np.random.rand(N)*(vpeak-vreset) #Initialize neuronal voltage with random distribtuions\n",
    "\n",
    "\n",
    "OMEGA = G*(np.random.randn(N,N))*(np.random.rand(N,N)<p)/(math.sqrt(N)*p) #The initial weight matrix with fixed random weights  \n",
    "BPhi = np.zeros(N) #The initial matrix that will be learned by FORCE method\n",
    "\n",
    "#Set the row average weight to be zero, explicitly.\n",
    "for i in range(N):\n",
    "    QS = np.where(np.abs(OMEGA[i,:])>0)[0]\n",
    "    OMEGA[i,QS] = OMEGA[i,QS] - np.sum(OMEGA[i,QS], axis=0)/len(QS)\n",
    "\n",
    "E = (2*np.random.rand(N)-1)*Q #n\n",
    "\n",
    "# arrays to save\n",
    "RECB = np.zeros((nt, 10)) #Storage matrix for the synaptic weights (a subset of them) \n",
    "REC2 = np.zeros((nt,20))\n",
    "REC = np.zeros((nt,10))\n",
    "current = np.zeros(nt) #storage variable for output current/approximant \n",
    "\n",
    "tlast = np.zeros(N) #This vector is used to set  the refractory times \n",
    "BIAS = vthr #Set the BIAS current, can help decrease/increase firing rates.  0 is fine."
   ]
  },
  {
   "cell_type": "code",
   "execution_count": 2,
   "metadata": {},
   "outputs": [],
   "source": [
    "nt = 1"
   ]
  },
  {
   "cell_type": "code",
   "execution_count": 3,
   "metadata": {},
   "outputs": [
    {
     "name": "stderr",
     "output_type": "stream",
     "text": [
      "100%|██████████| 1/1 [00:00<00:00, 27.36it/s]\n"
     ]
    }
   ],
   "source": [
    "for i in tqdm(range(nt)):\n",
    "    I = IPSC + E*z + BIAS #Neuronal Current \n",
    "    dv = ((dt*i) > (tlast + tref))*(-v + I) / tm #Voltage equation with refractory period \n",
    "    v = v + dt*dv\n",
    "    \n",
    "    index = np.where(v>=vthr)[0] #Find the neurons that have spiked \n",
    "    \n",
    "    # Store spike times, and get the weight matrix column sum of spikers \n",
    "    len_idx = len(index)\n",
    "    if len_idx>0:\n",
    "        JD = np.sum(OMEGA[:, index], axis=1) #compute the increase in current due to spiking  \n",
    "        tspike[ns:ns+len_idx,:] = np.vstack((index, 0*index+dt*i)).T\n",
    "        ns = ns + len_idx # total number of psikes so far\n",
    "\n",
    "    tlast = tlast + (dt*i - tlast)*(v>=vthr) #Used to set the refractory period of LIF neurons \n",
    " \n",
    "    # Code if the rise time is 0, and if the rise time is positive \n",
    "    if tr == 0:  \n",
    "        # synapse for single exponential \n",
    "        IPSC = IPSC*math.exp(-dt/td) + JD*(len_idx>0)/td\n",
    "        r = r[:,0]*math.exp(-dt/td) + (v>=vthr)/td\n",
    "    else:\n",
    "        # synapse for double exponential\n",
    "        IPSC = IPSC*math.exp(-dt/tr) + h*dt        \n",
    "        h = h*math.exp(-dt/td) + JD*(len_idx>0)/(tr*td) #Integrate the current        \n",
    "        r = r[:,0]*math.exp(-dt/tr) + hr*dt \n",
    "        hr = hr*math.exp(-dt/td) + (v>=vthr)/(tr*td)\n",
    "    \n",
    "    r = np.expand_dims(r,1) # (N,) -> (N, 1)\n",
    "    \n",
    "    # Implement RLMS with the FORCE method \n",
    "    z = BPhi.T @ r #approximant \n",
    "    err = z - zx[i] #error \n",
    "\n",
    "    # RLMS \n",
    "    if i % step == 1:\n",
    "        if i > imin:\n",
    "            if i < icrit:\n",
    "                cd = (Pinv @ r)\n",
    "                BPhi = BPhi - (cd @ err.T)\n",
    "                Pinv = Pinv - (cd @ cd.T) / (1.0 + r.T @ cd)\n",
    "    \n",
    "    v = v + (vpeak - v)*(v>=vthr) # set peak voltage\n",
    "    \n",
    "    REC[i] = v[:10] #Record a random voltage \n",
    "    \n",
    "    v = v + (vreset - v)*(v>=vthr) #reset with spike time interpolant implemented.\n",
    "    \n",
    "    current[i] = z\n",
    "    RECB[i,:] = BPhi[:10]  \n",
    "    REC2[i,:] = r[:20,0]"
   ]
  },
  {
   "cell_type": "code",
   "execution_count": 4,
   "metadata": {},
   "outputs": [
    {
     "data": {
      "text/plain": [
       "array([ 0.03489599, -0.01047135,  0.08708232, ..., -0.0718441 ,\n",
       "       -0.03307458, -0.00837583])"
      ]
     },
     "execution_count": 4,
     "metadata": {},
     "output_type": "execute_result"
    }
   ],
   "source": [
    "np.sum(OMEGA[:, index], axis=1)"
   ]
  },
  {
   "cell_type": "code",
   "execution_count": 5,
   "metadata": {},
   "outputs": [
    {
     "data": {
      "text/plain": [
       "array([0., 0., 0., ..., 0., 0., 0.])"
      ]
     },
     "execution_count": 5,
     "metadata": {},
     "output_type": "execute_result"
    }
   ],
   "source": [
    "r[:,0]"
   ]
  },
  {
   "cell_type": "code",
   "execution_count": 6,
   "metadata": {},
   "outputs": [
    {
     "data": {
      "text/plain": [
       "array([[0.],\n",
       "       [0.],\n",
       "       [0.],\n",
       "       ...,\n",
       "       [0.],\n",
       "       [0.],\n",
       "       [0.]])"
      ]
     },
     "execution_count": 6,
     "metadata": {},
     "output_type": "execute_result"
    }
   ],
   "source": [
    "r"
   ]
  },
  {
   "cell_type": "code",
   "execution_count": 8,
   "metadata": {},
   "outputs": [
    {
     "data": {
      "text/plain": [
       "array([1, 2, 1, 2, 1, 2, 1, 2])"
      ]
     },
     "execution_count": 8,
     "metadata": {},
     "output_type": "execute_result"
    }
   ],
   "source": [
    "np.tile([1,2], 4)"
   ]
  },
  {
   "cell_type": "code",
   "execution_count": 11,
   "metadata": {},
   "outputs": [
    {
     "data": {
      "text/plain": [
       "[<matplotlib.lines.Line2D at 0x7ffaa59b6a20>]"
      ]
     },
     "execution_count": 11,
     "metadata": {},
     "output_type": "execute_result"
    },
    {
     "data": {
      "image/png": "[encoded data removed]",
      "text/plain": [
       "<Figure size 432x288 with 1 Axes>"
      ]
     },
     "metadata": {
      "needs_background": "light"
     },
     "output_type": "display_data"
    }
   ],
   "source": [
    "nTs = 200\n",
    "y = 0.5+0.5*np.sin((np.pi/(0.5*nTs))*np.arange(nTs))\n",
    "plt.plot(y)"
   ]
  },
  {
   "cell_type": "code",
   "execution_count": 31,
   "metadata": {},
   "outputs": [
    {
     "data": {
      "text/plain": [
       "(10, 4, 9)"
      ]
     },
     "execution_count": 31,
     "metadata": {},
     "output_type": "execute_result"
    }
   ],
   "source": [
    "inp = np.empty((2,3))\n",
    "inpTile = np.tile(inp, (10,*inp.shape))\n",
    "inpTile.shape"
   ]
  },
  {
   "cell_type": "code",
   "execution_count": 23,
   "metadata": {},
   "outputs": [
    {
     "name": "stdout",
     "output_type": "stream",
     "text": [
      "(10, 200)\n"
     ]
    },
    {
     "data": {
      "image/png": "[encoded data removed]",
      "text/plain": [
       "<Figure size 432x288 with 1 Axes>"
      ]
     },
     "metadata": {
      "needs_background": "light"
     },
     "output_type": "display_data"
    }
   ],
   "source": [
    "y2 = np.tile(y, (10,1))\n",
    "plt.plot(y2[2])\n",
    "print(y2.shape)"
   ]
  },
  {
   "cell_type": "code",
   "execution_count": 36,
   "metadata": {},
   "outputs": [
    {
     "data": {
      "text/plain": [
       "(10, 2, 3)"
      ]
     },
     "execution_count": 36,
     "metadata": {},
     "output_type": "execute_result"
    }
   ],
   "source": [
    "inpTile = np.repeat(inp[np.newaxis,...], 10, axis=0)\n",
    "inpTile.shape"
   ]
  },
  {
   "cell_type": "code",
   "execution_count": 31,
   "metadata": {},
   "outputs": [
    {
     "data": {
      "text/plain": [
       "array([[1, 1, 1],\n",
       "       [1, 1, 1]])"
      ]
     },
     "execution_count": 31,
     "metadata": {},
     "output_type": "execute_result"
    }
   ],
   "source": [
    "spikes = (np.random.rand(2,3) > 0.5).astype(int)\n",
    "spikes"
   ]
  },
  {
   "cell_type": "code",
   "execution_count": 32,
   "metadata": {},
   "outputs": [
    {
     "data": {
      "text/plain": [
       "array([[ True, False, False],\n",
       "       [False, False, False]])"
      ]
     },
     "execution_count": 32,
     "metadata": {},
     "output_type": "execute_result"
    }
   ],
   "source": [
    "flips = np.random.rand(2,3) > 0.8\n",
    "flips"
   ]
  },
  {
   "cell_type": "code",
   "execution_count": 33,
   "metadata": {},
   "outputs": [
    {
     "data": {
      "text/plain": [
       "array([[0, 1, 1],\n",
       "       [1, 1, 1]])"
      ]
     },
     "execution_count": 33,
     "metadata": {},
     "output_type": "execute_result"
    }
   ],
   "source": [
    "np.logical_xor(spikes, flips).astype(int)"
   ]
  },
  {
   "cell_type": "code",
   "execution_count": 21,
   "metadata": {},
   "outputs": [
    {
     "data": {
      "text/plain": [
       "array([ True, False, False, False,  True,  True,  True, False, False,\n",
       "       False])"
      ]
     },
     "execution_count": 21,
     "metadata": {},
     "output_type": "execute_result"
    }
   ],
   "source": [
    "pp = (np.random.rand(10) < 0.2)\n",
    "pp"
   ]
  },
  {
   "cell_type": "code",
   "execution_count": 39,
   "metadata": {},
   "outputs": [
    {
     "name": "stdout",
     "output_type": "stream",
     "text": [
      "[array([10, 14, 15, 16]), array([60, 64, 65, 66]), array([110, 114, 115, 116]), array([160, 164, 165, 166]), array([210, 214, 215, 216])]\n"
     ]
    }
   ],
   "source": [
    "tt = [ np.where(pp)[0] + 10 + i*50 for i in range(5) ]\n",
    "print(tt)"
   ]
  },
  {
   "cell_type": "code",
   "execution_count": 40,
   "metadata": {},
   "outputs": [],
   "source": [
    "import itertools"
   ]
  },
  {
   "cell_type": "code",
   "execution_count": 44,
   "metadata": {},
   "outputs": [
    {
     "data": {
      "text/plain": [
       "[10,\n",
       " 14,\n",
       " 15,\n",
       " 16,\n",
       " 60,\n",
       " 64,\n",
       " 65,\n",
       " 66,\n",
       " 110,\n",
       " 114,\n",
       " 115,\n",
       " 116,\n",
       " 160,\n",
       " 164,\n",
       " 165,\n",
       " 166,\n",
       " 210,\n",
       " 214,\n",
       " 215,\n",
       " 216]"
      ]
     },
     "execution_count": 44,
     "metadata": {},
     "output_type": "execute_result"
    }
   ],
   "source": [
    "list(itertools.chain(*tt))"
   ]
  },
  {
   "cell_type": "code",
   "execution_count": null,
   "metadata": {},
   "outputs": [],
   "source": []
  }
 ],
 "metadata": {
  "kernelspec": {
   "display_name": "Python 3",
   "language": "python",
   "name": "python3"
  },
  "language_info": {
   "codemirror_mode": {
    "name": "ipython",
    "version": 3
   },
   "file_extension": ".py",
   "mimetype": "text/x-python",
   "name": "python",
   "nbconvert_exporter": "python",
   "pygments_lexer": "ipython3",
   "version": "3.5.2"
  }
 },
 "nbformat": 4,
 "nbformat_minor": 2
}
