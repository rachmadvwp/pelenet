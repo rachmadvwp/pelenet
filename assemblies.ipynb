{
 "cells": [
  {
   "cell_type": "code",
   "execution_count": null,
   "metadata": {},
   "outputs": [],
   "source": [
    "# Allow reload of objects\n",
    "%load_ext autoreload\n",
    "%autoreload\n",
    "from pelenet.utils import Utils\n",
    "from pelenet.experiments.assembly import Experiment\n",
    "\n",
    "# Official modules\n",
    "import numpy as np\n",
    "import nxsdk.api.n2a as nx\n",
    "import matplotlib\n",
    "import matplotlib.pyplot as plt\n",
    "from time import time"
   ]
  },
  {
   "cell_type": "code",
   "execution_count": null,
   "metadata": {},
   "outputs": [],
   "source": [
    "# Initilizes the experiment and utils\n",
    "utils = Utils.instance()\n",
    "exp = Experiment()"
   ]
  },
  {
   "cell_type": "code",
   "execution_count": null,
   "metadata": {},
   "outputs": [],
   "source": [
    "# Build network\n",
    "exp.build()\n",
    "\n",
    "# Get spectral radius\n",
    "utils.getSpectralRadius(exp.net.initialWeights)"
   ]
  },
  {
   "cell_type": "code",
   "execution_count": null,
   "metadata": {},
   "outputs": [],
   "source": [
    "exp.run()"
   ]
  }
 ],
 "metadata": {
  "kernelspec": {
   "display_name": "Python 3",
   "language": "python",
   "name": "python3"
  },
  "language_info": {
   "codemirror_mode": {
    "name": "ipython",
    "version": 3
   },
   "file_extension": ".py",
   "mimetype": "text/x-python",
   "name": "python",
   "nbconvert_exporter": "python",
   "pygments_lexer": "ipython3",
   "version": "3.5.2"
  }
 },
 "nbformat": 4,
 "nbformat_minor": 2
}
