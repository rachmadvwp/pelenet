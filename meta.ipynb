{
 "cells": [
  {
   "cell_type": "code",
   "execution_count": 1,
   "metadata": {},
   "outputs": [],
   "source": [
    "import numpy as np\n",
    "import matplotlib.pyplot as plt\n",
    "from scipy import stats"
   ]
  },
  {
   "cell_type": "code",
   "execution_count": 2,
   "metadata": {},
   "outputs": [
    {
     "data": {
      "text/plain": [
       "'\\n0 Random - Representation - Reservoir\\n1 Random - Representation - Pool \\n2 Random - Generalisation - Reservoir\\n3 Random - Generalisation - Pool\\n4 Anisotropic - Representation - Reservoir\\n5 Anisotropic - Representation - Pool \\n6 Anisotropic - Generalisation - Reservoir\\n7 Anisotropic - Generalisation - Pool\\n'"
      ]
     },
     "execution_count": 2,
     "metadata": {},
     "output_type": "execute_result"
    }
   ],
   "source": [
    "mseRand = np.load('data/trajectories_randomly.npy')\n",
    "mseAnis = np.load('data/trajectories_anisotropic.npy')\n",
    "\n",
    "mse = np.array([*mseRand, *mseAnis])\n",
    "\n",
    "\"\"\"\n",
    "0 Random - Representation - Reservoir\n",
    "1 Random - Representation - Pool \n",
    "2 Random - Generalisation - Reservoir\n",
    "3 Random - Generalisation - Pool\n",
    "4 Anisotropic - Representation - Reservoir\n",
    "5 Anisotropic - Representation - Pool \n",
    "6 Anisotropic - Generalisation - Reservoir\n",
    "7 Anisotropic - Generalisation - Pool\n",
    "\"\"\""
   ]
  },
  {
   "cell_type": "code",
   "execution_count": 3,
   "metadata": {},
   "outputs": [
    {
     "data": {
      "text/plain": [
       "(8, 7)"
      ]
     },
     "execution_count": 3,
     "metadata": {},
     "output_type": "execute_result"
    }
   ],
   "source": [
    "mse.shape"
   ]
  },
  {
   "cell_type": "code",
   "execution_count": 4,
   "metadata": {},
   "outputs": [],
   "source": [
    "mseMeans = np.mean(mse, axis=1)\n",
    "mseStd = np.std(mse, axis=1)"
   ]
  },
  {
   "cell_type": "code",
   "execution_count": 22,
   "metadata": {},
   "outputs": [
    {
     "data": {
      "text/plain": [
       "array([2.06517274e-06, 5.33804504e-03, 9.09230819e+18, 6.48405306e-03,\n",
       "       3.60796311e-07, 3.29593166e-05, 8.25975911e+16, 3.97844801e-05])"
      ]
     },
     "execution_count": 22,
     "metadata": {},
     "output_type": "execute_result"
    }
   ],
   "source": [
    "mseMeans"
   ]
  },
  {
   "cell_type": "code",
   "execution_count": 25,
   "metadata": {},
   "outputs": [
    {
     "data": {
      "text/plain": [
       "array([2.06517060e-06, 5.32384818e-03, 4.36539605e+01, 6.46312202e-03,\n",
       "       3.60796246e-07, 3.29587734e-05, 3.89527569e+01, 3.97836887e-05])"
      ]
     },
     "execution_count": 25,
     "metadata": {},
     "output_type": "execute_result"
    }
   ],
   "source": [
    "np.log(1+mseMeans)"
   ]
  },
  {
   "cell_type": "code",
   "execution_count": 6,
   "metadata": {},
   "outputs": [
    {
     "data": {
      "text/plain": [
       "array([8.94609357e-07, 2.36418490e-03, 3.57221485e+18, 2.86920431e-03,\n",
       "       1.52595548e-07, 1.43024380e-05, 3.07494632e+16, 1.68981326e-05])"
      ]
     },
     "execution_count": 6,
     "metadata": {},
     "output_type": "execute_result"
    }
   ],
   "source": [
    "mseStd"
   ]
  },
  {
   "cell_type": "code",
   "execution_count": 7,
   "metadata": {},
   "outputs": [],
   "source": [
    "plt.rcParams['axes.axisbelow'] = True\n",
    "plt.rcParams['font.family'] = 'CMU Sans Serif'\n",
    "plt.rcParams['font.size'] = 14"
   ]
  },
  {
   "cell_type": "code",
   "execution_count": 89,
   "metadata": {},
   "outputs": [
    {
     "data": {
      "image/png": "[encoded data removed]",
      "text/plain": [
       "<Figure size 432x288 with 1 Axes>"
      ]
     },
     "metadata": {
      "needs_background": "light"
     },
     "output_type": "display_data"
    }
   ],
   "source": [
    "barWidth = 1\n",
    "\n",
    "vals1 = np.array([mseMeans[0], mseMeans[1]])\n",
    "vals2 = np.array([mseMeans[4], mseMeans[5]])\n",
    "yerr1 = np.array([mseStd[0], mseStd[1]])\n",
    "yerr2 = np.array([mseStd[4], mseStd[5]])\n",
    "\n",
    "plt.bar([1,3.5], vals1, yerr=yerr1, width=barWidth, label='Random', color='#b78841', error_kw=dict(lw=1, capthick=1, capsize=4))\n",
    "plt.bar([2,4.5], vals2, yerr=yerr2, width=barWidth, label='Anisotropic', color='#41b74d', error_kw=dict(lw=1, capthick=1, capsize=4))\n",
    "plt.grid(axis='y')\n",
    "#plt.xticks(inds, labels)\n",
    "plt.xticks([1.5, 4], ['Reservoir', 'Pool'])\n",
    "plt.yscale('log')\n",
    "plt.title('Representation')\n",
    "plt.ylabel('Mean squared error')\n",
    "plt.legend()\n",
    "plt.show()"
   ]
  },
  {
   "cell_type": "code",
   "execution_count": 90,
   "metadata": {},
   "outputs": [
    {
     "data": {
      "image/png": "[encoded data removed]",
      "text/plain": [
       "<Figure size 432x288 with 1 Axes>"
      ]
     },
     "metadata": {
      "needs_background": "light"
     },
     "output_type": "display_data"
    }
   ],
   "source": [
    "barWidth = 1\n",
    "\n",
    "vals1 = np.array([mseMeans[2], mseMeans[3]])\n",
    "vals2 = np.array([mseMeans[6], mseMeans[7]])\n",
    "yerr1 = np.array([mseStd[2], mseStd[3]])\n",
    "yerr2 = np.array([mseStd[6], mseStd[7]])\n",
    "\n",
    "plt.bar([1,3.5], vals1, yerr=yerr1, width=barWidth, label='Random', color='#b78841', error_kw=dict(lw=1, capthick=1, capsize=4))\n",
    "plt.bar([2,4.5], vals2, yerr=yerr2, width=barWidth, label='Anisotropic', color='#41b74d', error_kw=dict(lw=1, capthick=1, capsize=4))\n",
    "plt.grid(axis='y')\n",
    "#plt.xticks(inds, labels)\n",
    "plt.xticks([1.5, 4], ['Reservoir', 'Pool'])\n",
    "plt.yscale('log')\n",
    "plt.title('Generalisation')\n",
    "plt.ylabel('Mean squared error')\n",
    "plt.legend()\n",
    "plt.show()"
   ]
  },
  {
   "cell_type": "code",
   "execution_count": 55,
   "metadata": {},
   "outputs": [],
   "source": [
    "def plotBar(means, stds, title):\n",
    "    vals = np.array([means[0], means[1]])\n",
    "    yerr = np.array([stds[0], stds[1]])\n",
    "    inds = [1,2]\n",
    "    labels=['Randomly', 'Anisotropic']\n",
    "\n",
    "    bars = plt.bar(inds, vals, yerr=yerr, error_kw=dict(lw=1, capthick=1, capsize=4))\n",
    "    plt.grid(axis='y')\n",
    "    plt.xticks(inds, labels)\n",
    "    plt.title(title)\n",
    "    plt.ylabel('Mean squared error')\n",
    "    bars[0].set_color('#b78841')\n",
    "    bars[1].set_color('#41b74d')\n",
    "    plt.yscale('log')\n",
    "    #plt.ticklabel_format(style='sci', axis='y', scilimits=(0,0))\n",
    "    plt.show()"
   ]
  },
  {
   "cell_type": "code",
   "execution_count": 56,
   "metadata": {},
   "outputs": [
    {
     "data": {
      "image/png": "[encoded data removed]",
      "text/plain": [
       "<Figure size 432x288 with 1 Axes>"
      ]
     },
     "metadata": {
      "needs_background": "light"
     },
     "output_type": "display_data"
    },
    {
     "data": {
      "text/plain": [
       "0.000610683223989594"
      ]
     },
     "execution_count": 56,
     "metadata": {},
     "output_type": "execute_result"
    }
   ],
   "source": [
    "# Representation - Reservoir\n",
    "i = [0,4]\n",
    "plotBar([mseMeans[i[0]], mseMeans[i[1]]], [mseStd[i[0]], mseStd[i[1]]], 'Representation - Reservoir')\n",
    "stats.ttest_ind(mse[i[0]], mse[i[1]])[1]"
   ]
  },
  {
   "cell_type": "code",
   "execution_count": 57,
   "metadata": {},
   "outputs": [
    {
     "data": {
      "image/png": "[encoded data removed]",
      "text/plain": [
       "<Figure size 432x288 with 1 Axes>"
      ]
     },
     "metadata": {
      "needs_background": "light"
     },
     "output_type": "display_data"
    },
    {
     "data": {
      "text/plain": [
       "0.00013704474032359305"
      ]
     },
     "execution_count": 57,
     "metadata": {},
     "output_type": "execute_result"
    }
   ],
   "source": [
    "# Representation - Pool\n",
    "i = [1,5]\n",
    "plotBar([mseMeans[i[0]], mseMeans[i[1]]], [mseStd[i[0]], mseStd[i[1]]], 'Representation - Pool')\n",
    "stats.ttest_ind(mse[i[0]], mse[i[1]])[1]"
   ]
  },
  {
   "cell_type": "code",
   "execution_count": 58,
   "metadata": {},
   "outputs": [
    {
     "data": {
      "image/png": "[encoded data removed]",
      "text/plain": [
       "<Figure size 432x288 with 1 Axes>"
      ]
     },
     "metadata": {
      "needs_background": "light"
     },
     "output_type": "display_data"
    },
    {
     "data": {
      "text/plain": [
       "4.7428277611598e-05"
      ]
     },
     "execution_count": 58,
     "metadata": {},
     "output_type": "execute_result"
    }
   ],
   "source": [
    "# Generalisation - Reservoir\n",
    "i = [2,6]\n",
    "plotBar([mseMeans[i[0]], mseMeans[i[1]]], [mseStd[i[0]], mseStd[i[1]]], 'Generalisation - Reservoir')\n",
    "stats.ttest_ind(mse[i[0]], mse[i[1]])[1]"
   ]
  },
  {
   "cell_type": "code",
   "execution_count": 59,
   "metadata": {},
   "outputs": [
    {
     "data": {
      "image/png": "[encoded data removed]",
      "text/plain": [
       "<Figure size 432x288 with 1 Axes>"
      ]
     },
     "metadata": {
      "needs_background": "light"
     },
     "output_type": "display_data"
    },
    {
     "data": {
      "text/plain": [
       "0.00013593101429457613"
      ]
     },
     "execution_count": 59,
     "metadata": {},
     "output_type": "execute_result"
    }
   ],
   "source": [
    "# Generalisation - Pool\n",
    "i = [3,7]\n",
    "plotBar([mseMeans[i[0]], mseMeans[i[1]]], [mseStd[i[0]], mseStd[i[1]]], 'Generalisation - Pool')\n",
    "stats.ttest_ind(mse[i[0]], mse[i[1]])[1]"
   ]
  }
 ],
 "metadata": {
  "kernelspec": {
   "display_name": "Python 3",
   "language": "python",
   "name": "python3"
  },
  "language_info": {
   "codemirror_mode": {
    "name": "ipython",
    "version": 3
   },
   "file_extension": ".py",
   "mimetype": "text/x-python",
   "name": "python",
   "nbconvert_exporter": "python",
   "pygments_lexer": "ipython3",
   "version": "3.5.2"
  }
 },
 "nbformat": 4,
 "nbformat_minor": 2
}
