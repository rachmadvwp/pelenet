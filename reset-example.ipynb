{
 "cells": [
  {
   "cell_type": "markdown",
   "metadata": {},
   "source": [
    "## Description\n",
    "\n",
    "In this example a recurrent network (reservoir network) is build. The activity in the network is started by an input. Since the network is in a relative stable state, the activity goes on after the input, whithout any further input (or noise or bias): spontaneous activity.\n",
    "\n",
    "Two snips are used. The first snip just initializes some parameters, the second snip stops/resets the activity in the network. The currents and voltages are set to zero for some timesteps in a row. After that, in a short period nothing happens, before exactly the same input starts again. This happens three times (3 trials).\n",
    "\n",
    "Therefore, the structure of one trial is as follows:\n",
    "\n",
    "1. Resetting the voltages/currents (10 timesteps)\n",
    "2. Wait some time doing nothing (10 timesteps)\n",
    "3. Give input (20 timesteps)\n",
    "4. Do nothing, but this time the network should spike spontaneously (80 timesteps)\n",
    "\n",
    "### What should happen?\n",
    "\n",
    "Since the input is exactly the same in every trial, the network should perform the same spiking pattern every time.\n",
    "\n",
    "### What happens?\n",
    "\n",
    "In the first trial, everythings seems to work. In the upcoming trials, the network behaves different.\n",
    "\n",
    "Especially the voltages are increasing stepwise in phase 2, where nothin should happen.\n"
   ]
  },
  {
   "cell_type": "code",
   "execution_count": 1,
   "metadata": {},
   "outputs": [],
   "source": [
    "# official\n",
    "import os\n",
    "import numpy as np\n",
    "from scipy import sparse\n",
    "import itertools\n",
    "\n",
    "# nxsdk\n",
    "import nxsdk.api.n2a as nx\n",
    "from nxsdk.graph.processes.phase_enums import Phase"
   ]
  },
  {
   "cell_type": "code",
   "execution_count": 2,
   "metadata": {},
   "outputs": [],
   "source": [
    "# Create nxnet object\n",
    "nxNet = nx.NxNet()"
   ]
  },
  {
   "cell_type": "code",
   "execution_count": 3,
   "metadata": {},
   "outputs": [],
   "source": [
    "\"\"\"\n",
    "Parameters\n",
    "\"\"\"\n",
    "\n",
    "# Experiment\n",
    "nTrials = 3  # number of trials\n",
    "\n",
    "# Network\n",
    "nEx = 400  # number of excitatory neurons\n",
    "nIn = int(400/4.)  # number of inhibitory neurons\n",
    "nTot = nEx + nIn\n",
    "trialSteps = 80  # number of timesteps the network runs spontaneously (without input, noise, bias, etc.)\n",
    "\n",
    "# Connections\n",
    "nConnectionsPerNeuron = 50\n",
    "connDens = nConnectionsPerNeuron/nTot\n",
    "\n",
    "# Input\n",
    "inputSpikeProb = 0.2  # probability for a spike of an input generator\n",
    "inputSteps = 20  # number of timesteps input is given\n",
    "inputGens = 20  # number of input generators\n",
    "inputDens = 0.2  # density of connections between input and excitatory neurons\n",
    "\n",
    "# Reset\n",
    "resetSteps = 10  # number of timesteps the voltage and the current is set to zero\n",
    "relaxSteps = 10  # number of timesteps after the network was resetted\n",
    "\n",
    "# Derived values\n",
    "totalStepsPerTrial = resetSteps + relaxSteps + inputSteps + trialSteps\n",
    "totalSteps = nTrials*totalStepsPerTrial"
   ]
  },
  {
   "cell_type": "code",
   "execution_count": 4,
   "metadata": {},
   "outputs": [],
   "source": [
    "\"\"\"\n",
    "Functions for creating masks and weights\n",
    "\"\"\"\n",
    "\n",
    "\"\"\"\n",
    "@desc: Create mask that determines the connections to establish\n",
    "\"\"\"\n",
    "def drawSparseMaskMatrix(dens, nSource, nDestination, avoidSelf=False):\n",
    "    # For creating sparse csr matrix, rows must be greater than cols\n",
    "    if (nSource > nDestination):\n",
    "        nRows = nSource\n",
    "        nCols = nDestination\n",
    "    else:\n",
    "        nRows = nDestination\n",
    "        nCols = nSource\n",
    "\n",
    "    indices = []  # column indices\n",
    "    indptr = [0]  # index pointer, start with 0\n",
    "    prevRowSum = 0\n",
    "\n",
    "    # Iterate over rows\n",
    "    for i in range(nRows):\n",
    "        if avoidSelf:\n",
    "            # Randomly draw a row\n",
    "            row = np.random.choice([0, 1], size=(nCols-1,), p=[1-dens, dens])\n",
    "            # Insert zero value at diagonal (if avoidSelf = True)\n",
    "            row = np.insert(row, i, 0)\n",
    "        else:\n",
    "            # Randomly draw a row\n",
    "            row = np.random.choice([0, 1], size=(nCols,), p=[1-dens, dens])\n",
    "\n",
    "        # Get indices where row entries are 1\n",
    "        rowIdx = np.where(row)[0]\n",
    "        indices.extend([rowIdx])\n",
    "\n",
    "        # Get cumulative sum of ones in row\n",
    "        rowSum = prevRowSum + np.sum(row)\n",
    "        indptr.extend([rowSum])\n",
    "\n",
    "        # Store current value of row sum for next iteration\n",
    "        prevRowSum = rowSum\n",
    "\n",
    "    # Flatten indices\n",
    "    indices = [x for y in indices for x in y]\n",
    "    # Create data: ones with length of indices\n",
    "    data = np.ones(len(indices)).astype(int)\n",
    "\n",
    "    # Build and return sparse mask matrix\n",
    "    return sparse.csr_matrix((data, indices, indptr), shape=(nRows, nCols))\n",
    "\n",
    "\"\"\"\n",
    "@desc: Get random values from a distribution (either normal or lognormal)\n",
    "\"\"\"\n",
    "def drawWeights(size, distribution):\n",
    "    weights = None\n",
    "\n",
    "    if distribution == 'lognormal':\n",
    "        hyp = 1.0\n",
    "        m = np.log(0.12) + hyp  # Default: np.log(0.2)+1.0; according to Teramae, Tsubo & Fukai (2012)\n",
    "        s = hyp  # Default: 1.0; according to Teramae, Tsubo & Fukai (2012)\n",
    "        # Draw weight from lognormal distribution\n",
    "        weights = (np.random.lognormal(m, s, size)*(255/20.)).astype(int)\n",
    "    elif distribution == 'normal':\n",
    "        m = 10  # mean\n",
    "        s = 5  # standard deviation\n",
    "        weights = np.random.normal(m, s, size).astype(int)\n",
    "\n",
    "    return weights\n",
    "\n",
    "\"\"\"\n",
    "@desc: Draw whole weight matrix with given dimensions for every mask value which equals 1\n",
    "@note: For this purpose NOT sparse\n",
    "\"\"\"\n",
    "def drawSparseWeightMatrix(mask, distribution='lognormal'):\n",
    "    # Get indices and index pointer from mask\n",
    "    indices = mask.indices\n",
    "    indptr = mask.indptr\n",
    "\n",
    "    # Get number of synapses\n",
    "    numSynapses = np.sum(len(indices))\n",
    "    # Draw weights\n",
    "    weights = drawWeights(numSynapses, distribution)\n",
    "\n",
    "    # Get indices of values were weight is greater than 255\n",
    "    idxNewValues = np.where(weights > 255)[0]\n",
    "    # Redraw values as long as all values are below 255\n",
    "    while len(idxNewValues) > 0:\n",
    "        # Draw new values\n",
    "        newValues = np.random.rand(len(idxNewValues))\n",
    "        # Replace previous values with new values\n",
    "        np.put(weights, idxNewValues, newValues)\n",
    "        # Get indices of values greater 255 again\n",
    "        idxNewValues = np.where(weights > 255)[0]\n",
    "\n",
    "    # Build sparse weight matrix and return\n",
    "    return sparse.csr_matrix((weights, indices, indptr), shape=np.shape(mask)).toarray()"
   ]
  },
  {
   "cell_type": "code",
   "execution_count": 5,
   "metadata": {},
   "outputs": [],
   "source": [
    "\"\"\"\n",
    "Create compartment groups\n",
    "\"\"\"\n",
    "\n",
    "# Define compartment prototypes\n",
    "exCompProto = nx.CompartmentPrototype(compartmentVoltageDecay=200, refractoryDelay=2, logicalCoreId=0)\n",
    "inCompProto = nx.CompartmentPrototype(compartmentVoltageDecay=200, refractoryDelay=2, logicalCoreId=0)\n",
    "\n",
    "# Create compartment groups\n",
    "exComp = nxNet.createCompartmentGroup(size=nEx, prototype=exCompProto)\n",
    "inComp = nxNet.createCompartmentGroup(size=nIn, prototype=inCompProto)"
   ]
  },
  {
   "cell_type": "code",
   "execution_count": 6,
   "metadata": {},
   "outputs": [
    {
     "data": {
      "text/plain": [
       "<nxsdk.net.groups.ConnectionGroup at 0x7fa44fe33908>"
      ]
     },
     "execution_count": 6,
     "metadata": {},
     "output_type": "execute_result"
    }
   ],
   "source": [
    "\"\"\"\n",
    "Connect compartment groups\n",
    "\"\"\"\n",
    "\n",
    "# Define connection prototypes\n",
    "exConnProto = nx.ConnectionPrototype(signMode=nx.SYNAPSE_SIGN_MODE.EXCITATORY)\n",
    "inConnProto = nx.ConnectionPrototype(signMode=nx.SYNAPSE_SIGN_MODE.INHIBITORY)\n",
    "\n",
    "# Draw mask and weights\n",
    "ma = drawSparseMaskMatrix(connDens, nTot, nTot, avoidSelf=True)\n",
    "we = drawSparseWeightMatrix(ma)\n",
    "\n",
    "# Interconnect compartment groups\n",
    "exComp.connect(exComp, connectionMask=ma[0:nEx, 0:nEx], weight=we[0:nEx, 0:nEx], prototype=exConnProto)\n",
    "exComp.connect(inComp, connectionMask=ma[nEx:nTot, 0:nEx], weight=we[nEx:nTot, 0:nEx], prototype=exConnProto)\n",
    "inComp.connect(exComp, connectionMask=ma[0:nEx, nEx:nTot], weight=we[0:nEx, nEx:nTot], prototype=inConnProto)\n",
    "inComp.connect(inComp, connectionMask=ma[nEx:nTot, nEx:nTot], weight=we[nEx:nTot, nEx:nTot], prototype=inConnProto)"
   ]
  },
  {
   "cell_type": "code",
   "execution_count": 7,
   "metadata": {},
   "outputs": [
    {
     "data": {
      "text/plain": [
       "<nxsdk.net.groups.ConnectionGroup at 0x7fa44feb1240>"
      ]
     },
     "execution_count": 7,
     "metadata": {},
     "output_type": "execute_result"
    }
   ],
   "source": [
    "\"\"\"\n",
    "Create and connect simple cue input to push the activity\n",
    "\"\"\"\n",
    "\n",
    "# Create spike generator\n",
    "sg = nxNet.createSpikeGenProcess(numPorts=inputGens)\n",
    "\n",
    "genInputs = []\n",
    "for i in range(inputGens):\n",
    "    # Generate spikes for spike current generator\n",
    "    spikes = (np.random.rand(inputSteps) < inputSpikeProb)\n",
    "    # Get indices from spikes\n",
    "    inputSpikesInd = [ ( np.where(spikes)[0] + totalStepsPerTrial*j + resetSteps + relaxSteps) for j in range(nTrials) ]\n",
    "\n",
    "    # Add spikes indices to current spike generator\n",
    "    sg.addSpikes(spikeInputPortNodeIds=i, spikeTimes=list(itertools.chain(*inputSpikesInd)))\n",
    "    \n",
    "    # Add to input list\n",
    "    genInputs.append(list(itertools.chain(*inputSpikesInd)))\n",
    "\n",
    "# Define mask\n",
    "inputMask = drawSparseMaskMatrix(inputDens, nEx, inputGens)\n",
    "\n",
    "# Define weights\n",
    "inputWeights = 10*np.random.rand(nEx, inputGens)\n",
    "\n",
    "# Connect generators to the reservoir network\n",
    "sg.connect(exComp, prototype=exConnProto, connectionMask=inputMask, weight=inputWeights)"
   ]
  },
  {
   "cell_type": "code",
   "execution_count": 8,
   "metadata": {},
   "outputs": [],
   "source": [
    "\"\"\"\n",
    "Add probing\n",
    "\"\"\"\n",
    "\n",
    "# Probe spikes\n",
    "exSpikeProbe = exComp.probe([nx.ProbeParameter.SPIKE])[0]\n",
    "inSpikeProbe = inComp.probe([nx.ProbeParameter.SPIKE])[0]\n",
    "\n",
    "# Probe voltages\n",
    "exVoltProbe = exComp.probe([nx.ProbeParameter.COMPARTMENT_VOLTAGE ])[0]\n",
    "inVoltProbe = inComp.probe([nx.ProbeParameter.COMPARTMENT_VOLTAGE ])[0]\n",
    "\n",
    "# Probe currents\n",
    "exCurrProbe = exComp.probe([nx.ProbeParameter.COMPARTMENT_CURRENT ])[0]\n",
    "inCurrProbe = inComp.probe([nx.ProbeParameter.COMPARTMENT_CURRENT ])[0]"
   ]
  },
  {
   "cell_type": "code",
   "execution_count": 9,
   "metadata": {},
   "outputs": [],
   "source": [
    "\"\"\"\n",
    "Compile network\n",
    "\"\"\"\n",
    "\n",
    "# Compile network\n",
    "compiler = nx.N2Compiler()\n",
    "board = compiler.compile(nxNet)"
   ]
  },
  {
   "cell_type": "code",
   "execution_count": 10,
   "metadata": {},
   "outputs": [
    {
     "data": {
      "text/plain": [
       "<nxsdk.graph.processes.embedded.embedded_snip.EmbeddedSnip at 0x7fa44e9025f8>"
      ]
     },
     "execution_count": 10,
     "metadata": {},
     "output_type": "execute_result"
    }
   ],
   "source": [
    "\"\"\"\n",
    "Add snips\n",
    "\"\"\"\n",
    "\n",
    "# Snip dir\n",
    "snipDir = os.path.abspath('')\n",
    "\n",
    "# Initialize reset SNIP for LMT1 (reset injection)\n",
    "reset_init = board.createSnip(\n",
    "    name='init',\n",
    "    cFilePath=snipDir + \"/pelenet/snips/reset_init.c\",\n",
    "    includeDir=snipDir + \"/pelenet/snips\",\n",
    "    funcName='initialize_reset',\n",
    "    phase=Phase.EMBEDDED_INIT,\n",
    "    lmtId=0,\n",
    "    chipId=0)\n",
    "\n",
    "# Reset SNIP\n",
    "board.createSnip(\n",
    "    name='reset',\n",
    "    cFilePath=snipDir + \"/pelenet/snips/reset.c\",\n",
    "    includeDir=snipDir + \"/pelenet/snips\",\n",
    "    guardName='do_reset',\n",
    "    funcName='reset',\n",
    "    phase=Phase.EMBEDDED_MGMT,\n",
    "    lmtId=0,\n",
    "    chipId=0)"
   ]
  },
  {
   "cell_type": "code",
   "execution_count": 11,
   "metadata": {},
   "outputs": [
    {
     "name": "stdout",
     "output_type": "stream",
     "text": [
      "\u001b[1;30mWARNING\u001b[0m:\u001b[34mDRV\u001b[0m:  \u001b[33melementType would be deprecated in 0.9 in favor of messageSize, which provides more flexibility\u001b[0m\n",
      "\u001b[1;30mINFO\u001b[0m:\u001b[34mDRV\u001b[0m:  Connecting to 127.0.0.1:34393\n",
      "\u001b[1;30mINFO\u001b[0m:\u001b[34mDRV\u001b[0m:      Host server up..............Done 0.03s\n",
      "\u001b[1;30mINFO\u001b[0m:\u001b[34mDRV\u001b[0m:      Encoding axons/synapses.....Done 0.09s\n",
      "\u001b[1;30mWARNING\u001b[0m:\u001b[34mDRV\u001b[0m:  \u001b[33m~/.local/share/virtualenvs/seq-r0_WvjRo/lib/python3.5/site-packages ~/04-anisotropic/v0.x\n",
      "Compiling in directory : /home/seq/.local/share/virtualenvs/seq-r0_WvjRo/lib/python3.5/site-packages/nxsdk/driver/compilers/../../../temp/1579190430.2289326\n",
      "Include dir is : /home/seq/.local/share/virtualenvs/seq-r0_WvjRo/lib/python3.5/site-packages/nxsdk/graph/nxinputgen/../../snips/ -I/home/seq/04-anisotropic/v0.x/pelenet/snips\n",
      "Compiling -c /home/seq/.local/share/virtualenvs/seq-r0_WvjRo/lib/python3.5/site-packages/nxsdk/driver/compilers/../../../temp/1579190430.2289326/initnetwork_0_0.c\n",
      "gcc -Wall -I/home/seq/.local/share/virtualenvs/seq-r0_WvjRo/lib/python3.5/site-packages/nxsdk/graph/nxinputgen/../../snips/ -I/home/seq/04-anisotropic/v0.x/pelenet/snips -Inxsdk/include -fno-stack-protector -msoft-float -m32 -march=i586 -fno-builtin-printf -fno-builtin-sprintf -fno-builtin-fprintf -fno-builtin-memcpy -fstrict-volatile-bitfields -Os -DNDEBUG -std=c99 -o /home/seq/.local/share/virtualenvs/seq-r0_WvjRo/lib/python3.5/site-packages/nxsdk/driver/compilers/../../../temp/1579190430.2289326/initnetwork_0_0.c.o -c /home/seq/.local/share/virtualenvs/seq-r0_WvjRo/lib/python3.5/site-packages/nxsdk/driver/compilers/../../../temp/1579190430.2289326/initnetwork_0_0.c\n",
      "Compiling without -c /home/seq/.local/share/virtualenvs/seq-r0_WvjRo/lib/python3.5/site-packages/nxsdk/driver/compilers/../../../temp/1579190430.2289326/0_spiking_packed.c\n",
      "gcc -Wall -I/home/seq/.local/share/virtualenvs/seq-r0_WvjRo/lib/python3.5/site-packages/nxsdk/graph/nxinputgen/../../snips/ -I/home/seq/04-anisotropic/v0.x/pelenet/snips -Inxsdk/include -fno-stack-protector -msoft-float -m32 -march=i586 -fno-builtin-printf -fno-builtin-sprintf -fno-builtin-fprintf -fno-builtin-memcpy -fstrict-volatile-bitfields -Os -DNDEBUG -std=c99 -o /home/seq/.local/share/virtualenvs/seq-r0_WvjRo/lib/python3.5/site-packages/nxsdk/driver/compilers/../../../temp/1579190430.2289326/0_spiking_packed.c.o -c /home/seq/.local/share/virtualenvs/seq-r0_WvjRo/lib/python3.5/site-packages/nxsdk/driver/compilers/../../../temp/1579190430.2289326/0_spiking_packed.c\n",
      "Compiling without -c /home/seq/.local/share/virtualenvs/seq-r0_WvjRo/lib/python3.5/site-packages/nxsdk/driver/compilers/../../../temp/1579190430.2289326/1_reset_init.c\n",
      "gcc -Wall -I/home/seq/.local/share/virtualenvs/seq-r0_WvjRo/lib/python3.5/site-packages/nxsdk/graph/nxinputgen/../../snips/ -I/home/seq/04-anisotropic/v0.x/pelenet/snips -Inxsdk/include -fno-stack-protector -msoft-float -m32 -march=i586 -fno-builtin-printf -fno-builtin-sprintf -fno-builtin-fprintf -fno-builtin-memcpy -fstrict-volatile-bitfields -Os -DNDEBUG -std=c99 -o /home/seq/.local/share/virtualenvs/seq-r0_WvjRo/lib/python3.5/site-packages/nxsdk/driver/compilers/../../../temp/1579190430.2289326/1_reset_init.c.o -c /home/seq/.local/share/virtualenvs/seq-r0_WvjRo/lib/python3.5/site-packages/nxsdk/driver/compilers/../../../temp/1579190430.2289326/1_reset_init.c\n",
      "Compiling without -c /home/seq/.local/share/virtualenvs/seq-r0_WvjRo/lib/python3.5/site-packages/nxsdk/driver/compilers/../../../temp/1579190430.2289326/2_reset.c\n",
      "gcc -Wall -I/home/seq/.local/share/virtualenvs/seq-r0_WvjRo/lib/python3.5/site-packages/nxsdk/graph/nxinputgen/../../snips/ -I/home/seq/04-anisotropic/v0.x/pelenet/snips -Inxsdk/include -fno-stack-protector -msoft-float -m32 -march=i586 -fno-builtin-printf -fno-builtin-sprintf -fno-builtin-fprintf -fno-builtin-memcpy -fstrict-volatile-bitfields -Os -DNDEBUG -std=c99 -o /home/seq/.local/share/virtualenvs/seq-r0_WvjRo/lib/python3.5/site-packages/nxsdk/driver/compilers/../../../temp/1579190430.2289326/2_reset.c.o -c /home/seq/.local/share/virtualenvs/seq-r0_WvjRo/lib/python3.5/site-packages/nxsdk/driver/compilers/../../../temp/1579190430.2289326/2_reset.c\n",
      "/home/seq/04-anisotropic/v0.x/pelenet/snips/reset.c: In function ‘reset’:\n",
      "/home/seq/04-anisotropic/v0.x/pelenet/snips/reset.c:59:9: warning: dereferencing type-punned pointer will break strict-aliasing rules [-Wstrict-aliasing]\n",
      "         nx_fast_init64(nc->cx_state, numNeuronsPerCore, *(uint64_t*)&cxs);\n",
      "         ^~~~~~~~~~~~~~\n",
      "Compiling without -c /home/seq/.local/share/virtualenvs/seq-r0_WvjRo/lib/python3.5/site-packages/nxsdk/driver/compilers/../../../temp/1579190430.2289326/main_0_0.c\n",
      "gcc -Wall -I/home/seq/.local/share/virtualenvs/seq-r0_WvjRo/lib/python3.5/site-packages/nxsdk/graph/nxinputgen/../../snips/ -I/home/seq/04-anisotropic/v0.x/pelenet/snips -Inxsdk/include -fno-stack-protector -msoft-float -m32 -march=i586 -fno-builtin-printf -fno-builtin-sprintf -fno-builtin-fprintf -fno-builtin-memcpy -fstrict-volatile-bitfields -Os -DNDEBUG -std=c99 -o /home/seq/.local/share/virtualenvs/seq-r0_WvjRo/lib/python3.5/site-packages/nxsdk/driver/compilers/../../../temp/1579190430.2289326/main_0_0.c.o -c /home/seq/.local/share/virtualenvs/seq-r0_WvjRo/lib/python3.5/site-packages/nxsdk/driver/compilers/../../../temp/1579190430.2289326/main_0_0.c\n",
      "OBJFILES :  /home/seq/.local/share/virtualenvs/seq-r0_WvjRo/lib/python3.5/site-packages/nxsdk/driver/compilers/../../../temp/1579190430.2289326/initnetwork_0_0.c.o /home/seq/.local/share/virtualenvs/seq-r0_WvjRo/lib/python3.5/site-packages/nxsdk/driver/compilers/../../../temp/1579190430.2289326/0_spiking_packed.c.o /home/seq/.local/share/virtualenvs/seq-r0_WvjRo/lib/python3.5/site-packages/nxsdk/driver/compilers/../../../temp/1579190430.2289326/1_reset_init.c.o /home/seq/.local/share/virtualenvs/seq-r0_WvjRo/lib/python3.5/site-packages/nxsdk/driver/compilers/../../../temp/1579190430.2289326/2_reset.c.o /home/seq/.local/share/virtualenvs/seq-r0_WvjRo/lib/python3.5/site-packages/nxsdk/driver/compilers/../../../temp/1579190430.2289326/main_0_0.c.o\n",
      "gcc -Wall -fno-stack-protector -msoft-float -m32 -march=i586 -fno-builtin-printf -fno-builtin-sprintf -fno-builtin-fprintf -fno-builtin-memcpy -fstrict-volatile-bitfields -Os -DNDEBUG -std=c99 /home/seq/.local/share/virtualenvs/seq-r0_WvjRo/lib/python3.5/site-packages/nxsdk/driver/compilers/../../../temp/1579190430.2289326/initnetwork_0_0.c.o /home/seq/.local/share/virtualenvs/seq-r0_WvjRo/lib/python3.5/site-packages/nxsdk/driver/compilers/../../../temp/1579190430.2289326/0_spiking_packed.c.o /home/seq/.local/share/virtualenvs/seq-r0_WvjRo/lib/python3.5/site-packages/nxsdk/driver/compilers/../../../temp/1579190430.2289326/1_reset_init.c.o /home/seq/.local/share/virtualenvs/seq-r0_WvjRo/lib/python3.5/site-packages/nxsdk/driver/compilers/../../../temp/1579190430.2289326/2_reset.c.o /home/seq/.local/share/virtualenvs/seq-r0_WvjRo/lib/python3.5/site-packages/nxsdk/driver/compilers/../../../temp/1579190430.2289326/main_0_0.c.o -o /home/seq/.local/share/virtualenvs/seq-r0_WvjRo/lib/python3.5/site-packages/nxsdk/driver/compilers/../../../temp/1579190430.2289326/launcher.link nxsdk/lib/embedded/libboot.a nxsdk/lib/embedded/libembedded_nx.a nxsdk/lib/embedded/liblmt.a nxsdk/lib/embedded/libnx.a -Wl,--script=nxsdk/utils/linker.scr -Wl,--build-id=none -Wl,-N -nostdlib\n",
      "\u001b[0m\n",
      "\u001b[1;30mINFO\u001b[0m:\u001b[34mDRV\u001b[0m:      Compiling Embedded snips....Done 0.15s\n",
      "\u001b[1;30mINFO\u001b[0m:\u001b[34mHST\u001b[0m:  Using Kapoho Bay serial number 308\n",
      "\u001b[1;30mINFO\u001b[0m:\u001b[34mHST\u001b[0m:  Args chip=0 cpu=0 /home/seq/.local/share/virtualenvs/seq-r0_WvjRo/lib/python3.5/site-packages/nxsdk/driver/compilers/../../../temp/1579190430.2289326/launcher_chip0_lmt0.bin --chips=1 --remote-relay=0 --epoch=0 \n",
      "\u001b[1;30mINFO\u001b[0m:\u001b[34mHST\u001b[0m:  Lakemont_driver...\n",
      "\u001b[1;30mINFO\u001b[0m:\u001b[34mDRV\u001b[0m:      Booting up..................Done 1.42s\n",
      "\u001b[1;30mINFO\u001b[0m:\u001b[34mDRV\u001b[0m:      Encoding probes.............Done 2.17ms\n",
      "\u001b[1;30mINFO\u001b[0m:\u001b[34mDRV\u001b[0m:      Configuring registers.......Done 0.14s\n",
      "\u001b[1;30mINFO\u001b[0m:\u001b[34mDRV\u001b[0m:      Transferring spikes.........Done 5.26ms\n",
      "\u001b[1;30mINFO\u001b[0m:\u001b[34mDRV\u001b[0m:      Transferring probes.........Done 0.01s\n",
      "\u001b[1;30mINFO\u001b[0m:\u001b[34mHST\u001b[0m:  chip=0 cpu=0 Transfered values 128, 120, 1 \n"
     ]
    },
    {
     "name": "stdout",
     "output_type": "stream",
     "text": [
      "\u001b[1;30mINFO\u001b[0m:\u001b[34mDRV\u001b[0m:      Executing...................Done 15.60s\n",
      "\u001b[1;30mINFO\u001b[0m:\u001b[34mDRV\u001b[0m:      Processing timeseries.......Done 0.81s\n",
      "\u001b[1;30mINFO\u001b[0m:\u001b[34mDRV\u001b[0m:  Executor: 360 timesteps.........Done 16.58s\n",
      "\u001b[1;30mINFO\u001b[0m:\u001b[34mHST\u001b[0m:  chip=0 cpu=0 halted, status=0x0\n"
     ]
    }
   ],
   "source": [
    "\"\"\"\n",
    "Init channel, start simulation and send data through channel\n",
    "\"\"\"\n",
    "\n",
    "# Create channel for init data with buffer size of 3\n",
    "initResetChannel = board.createChannel(bytes('initreset', 'utf-8'), \"int\", 3)\n",
    "# Connect channel to init snip\n",
    "initResetChannel.connect(None, reset_init)\n",
    "\n",
    "# Start board\n",
    "board.start()\n",
    "\n",
    "# Write data to channel (number of cores per chip, reset interval, reset lentgh, activate snip (0/1))\n",
    "#initResetChannel.write(4, [128, totalStepsPerTrial, resetSteps, 1])\n",
    "initResetChannel.write(3, [128, totalStepsPerTrial, 1])\n",
    "\n",
    "# Run\n",
    "board.run(totalSteps)\n",
    "\n",
    "# Disconnect\n",
    "board.disconnect()"
   ]
  },
  {
   "cell_type": "code",
   "execution_count": 17,
   "metadata": {},
   "outputs": [
    {
     "data": {
      "image/png": "[encoded data removed]",
      "text/plain": [
       "<Figure size 432x288 with 1 Axes>"
      ]
     },
     "metadata": {
      "needs_background": "light"
     },
     "output_type": "display_data"
    }
   ],
   "source": [
    "p = exSpikeProbe.plot()"
   ]
  },
  {
   "cell_type": "code",
   "execution_count": 12,
   "metadata": {},
   "outputs": [
    {
     "data": {
      "image/png": "[encoded data removed]",
      "text/plain": [
       "<Figure size 432x288 with 1 Axes>"
      ]
     },
     "metadata": {
      "needs_background": "light"
     },
     "output_type": "display_data"
    }
   ],
   "source": [
    "p = exVoltProbe.plot()"
   ]
  },
  {
   "cell_type": "code",
   "execution_count": 13,
   "metadata": {},
   "outputs": [
    {
     "data": {
      "image/png": "[encoded data removed]",
      "text/plain": [
       "<Figure size 432x288 with 1 Axes>"
      ]
     },
     "metadata": {
      "needs_background": "light"
     },
     "output_type": "display_data"
    }
   ],
   "source": [
    "p = inVoltProbe.plot()"
   ]
  },
  {
   "cell_type": "code",
   "execution_count": 14,
   "metadata": {},
   "outputs": [
    {
     "name": "stdout",
     "output_type": "stream",
     "text": [
      "[[23, 27, 30, 31, 36, 37, 143, 147, 150, 151, 156, 157, 263, 267, 270, 271, 276, 277], [23, 25, 26, 27, 31, 35, 143, 145, 146, 147, 151, 155, 263, 265, 266, 267, 271, 275], [20, 23, 25, 32, 34, 37, 38, 140, 143, 145, 152, 154, 157, 158, 260, 263, 265, 272, 274, 277, 278], [22, 27, 32, 142, 147, 152, 262, 267, 272], [20, 26, 30, 31, 34, 35, 36, 38, 140, 146, 150, 151, 154, 155, 156, 158, 260, 266, 270, 271, 274, 275, 276, 278], [24, 26, 29, 30, 37, 39, 144, 146, 149, 150, 157, 159, 264, 266, 269, 270, 277, 279], [28, 32, 39, 148, 152, 159, 268, 272, 279], [20, 25, 27, 31, 32, 140, 145, 147, 151, 152, 260, 265, 267, 271, 272], [23, 24, 26, 33, 38, 143, 144, 146, 153, 158, 263, 264, 266, 273, 278], [20, 25, 27, 30, 34, 37, 140, 145, 147, 150, 154, 157, 260, 265, 267, 270, 274, 277], [23, 25, 28, 31, 143, 145, 148, 151, 263, 265, 268, 271], [20, 24, 30, 34, 35, 140, 144, 150, 154, 155, 260, 264, 270, 274, 275], [38, 158, 278], [20, 30, 34, 140, 150, 154, 260, 270, 274], [25, 29, 36, 145, 149, 156, 265, 269, 276], [20, 29, 32, 33, 36, 140, 149, 152, 153, 156, 260, 269, 272, 273, 276], [20, 22, 32, 140, 142, 152, 260, 262, 272], [22, 23, 24, 25, 38, 142, 143, 144, 145, 158, 262, 263, 264, 265, 278], [22, 30, 35, 37, 39, 142, 150, 155, 157, 159, 262, 270, 275, 277, 279], [20, 23, 28, 29, 32, 36, 140, 143, 148, 149, 152, 156, 260, 263, 268, 269, 272, 276]]\n"
     ]
    }
   ],
   "source": [
    "print(genInputs)"
   ]
  },
  {
   "cell_type": "code",
   "execution_count": 15,
   "metadata": {},
   "outputs": [
    {
     "name": "stdout",
     "output_type": "stream",
     "text": [
      "[[ 0  0  0  0  0  0  0  0  0  1  2  3  4  5  6  7  8  9 10 11]\n",
      " [ 0  0  0  0  0  0  0  0  0  1  2  3  4  5  6  7  8  9 10 11]\n",
      " [ 0  0  0  0  0  0  0  0  0  1  2  3  4  5  6  7  8  9 10 11]\n",
      " [ 0  0  0  0  0  0  0  0  0  1  2  3  4  5  6  7  8  9 10 11]\n",
      " [ 0  0  0  0  0  0  0  0  0  1  2  3  4  5  6  7  8  9 10 11]\n",
      " [ 0  0  0  0  0  0  0  0  0  1  2  3  4  5  6  7  8  9 10 11]\n",
      " [ 0  0  0  0  0  0  0  0  0  0  0  0  0  0  0  0  0  0  0  0]\n",
      " [ 0  0  0  0  0  0  0  0  0  1  2  3  4  5  6  7  8  9 10 11]\n",
      " [ 0  0  0  0  0  0  0  0  0  1  2  3  4  5  6  7  8  9 10 11]\n",
      " [ 0  0  0  0  0  0  0  0  0  1  2  3  4  5  6  7  8  9 10 11]\n",
      " [ 0  0  0  0  0  0  0  0  0  1  2  3  4  5  6  7  8  9 10 11]\n",
      " [ 0  0  0  0  0  0  0  0  0  1  2  3  4  5  6  7  8  9 10 11]\n",
      " [ 0  0  0  0  0  0  0  0  0  0  0  0  0  0  0  0  0  0  0  0]\n",
      " [ 0  0  0  0  0  0  0  0  0  1  2  3  4  5  6  7  8  9 10 11]\n",
      " [ 0  0  0  0  0  0  0  0  0  0  0  0  0  0  0  0  0  0  0  0]\n",
      " [ 0  0  0  0  0  0  0  0  0  1  2  3  4  5  6  7  8  9 10 11]\n",
      " [ 0  0  0  0  0  0  0  0  0  1  2  3  4  5  6  7  8  9 10 11]\n",
      " [ 0  0  0  0  0  0  0  0  0  1  2  3  4  5  6  7  8  9 10 11]\n",
      " [ 0  0  0  0  0  0  0  0  0  1  2  3  4  5  6  7  8  9 10 11]\n",
      " [ 0  0  0  0  0  0  0  0  0  1  2  3  4  5  6  7  8  9 10 11]]\n"
     ]
    }
   ],
   "source": [
    "print(exVoltProbe.data[:20,120:140])"
   ]
  },
  {
   "cell_type": "code",
   "execution_count": 16,
   "metadata": {},
   "outputs": [
    {
     "name": "stdout",
     "output_type": "stream",
     "text": [
      "[[ 0  0  0  0  0  0  0  0  0  1  2  3  4  5  6  7  8  9 10 11]\n",
      " [ 0  0  0  0  0  0  0  0  0  1  2  3  4  5  6  7  8  9 10 11]\n",
      " [ 0  0  0  0  0  0  0  0  0  1  2  3  4  5  6  7  8  9 10 11]\n",
      " [ 0  0  0  0  0  0  0  0  0  1  2  3  4  5  6  7  8  9 10 11]\n",
      " [ 0  0  0  0  0  0  0  0  0  1  2  3  4  5  6  7  8  9 10 11]\n",
      " [ 0  0  0  0  0  0  0  0  0  1  2  3  4  5  6  7  8  9 10 11]\n",
      " [ 0  0  0  0  0  0  0  0  0  0  0  0  0  0  0  0  0  0  0  0]\n",
      " [ 0  0  0  0  0  0  0  0  0  1  2  3  4  5  6  7  8  9 10 11]\n",
      " [ 0  0  0  0  0  0  0  0  0  1  2  3  4  5  6  7  8  9 10 11]\n",
      " [ 0  0  0  0  0  0  0  0  0  1  2  3  4  5  6  7  8  9 10 11]\n",
      " [ 0  0  0  0  0  0  0  0  0  1  2  3  4  5  6  7  8  9 10 11]\n",
      " [ 0  0  0  0  0  0  0  0  0  1  2  3  4  5  6  7  8  9 10 11]\n",
      " [ 0  0  0  0  0  0  0  0  0  0  0  0  0  0  0  0  0  0  0  0]\n",
      " [ 0  0  0  0  0  0  0  0  0  1  2  3  4  5  6  7  8  9 10 11]\n",
      " [ 0  0  0  0  0  0  0  0  0  0  0  0  0  0  0  0  0  0  0  0]\n",
      " [ 0  0  0  0  0  0  0  0  0  1  2  3  4  5  6  7  8  9 10 11]\n",
      " [ 0  0  0  0  0  0  0  0  0  1  2  3  4  5  6  7  8  9 10 11]\n",
      " [ 0  0  0  0  0  0  0  0  0  1  2  3  4  5  6  7  8  9 10 11]\n",
      " [ 0  0  0  0  0  0  0  0  0  1  2  3  4  5  6  7  8  9 10 11]\n",
      " [ 0  0  0  0  0  0  0  0  0  1  2  3  4  5  6  7  8  9 10 11]]\n"
     ]
    }
   ],
   "source": [
    "print(exVoltProbe.data[:20,240:260])"
   ]
  }
 ],
 "metadata": {
  "kernelspec": {
   "display_name": "Python 3",
   "language": "python",
   "name": "python3"
  },
  "language_info": {
   "codemirror_mode": {
    "name": "ipython",
    "version": 3
   },
   "file_extension": ".py",
   "mimetype": "text/x-python",
   "name": "python",
   "nbconvert_exporter": "python",
   "pygments_lexer": "ipython3",
   "version": "3.5.2"
  }
 },
 "nbformat": 4,
 "nbformat_minor": 2
}
