{
 "cells": [
  {
   "cell_type": "code",
   "execution_count": 1,
   "metadata": {},
   "outputs": [],
   "source": [
    "# Allow reload of objects\n",
    "%load_ext autoreload\n",
    "%autoreload\n",
    "from pelenet.utils import Utils\n",
    "from pelenet.experiments.readout import ReadoutExperiment\n",
    "\n",
    "# Official modules\n",
    "import numpy as np\n",
    "import nxsdk.api.n2a as nx\n",
    "import matplotlib\n",
    "import matplotlib.pyplot as plt\n",
    "import os\n",
    "from time import time"
   ]
  },
  {
   "cell_type": "code",
   "execution_count": 2,
   "metadata": {},
   "outputs": [],
   "source": [
    "# Initilizes the experiment and utils\n",
    "utils = Utils.instance()\n",
    "exp = ReadoutExperiment()"
   ]
  },
  {
   "cell_type": "code",
   "execution_count": 3,
   "metadata": {
    "scrolled": true
   },
   "outputs": [
    {
     "name": "stderr",
     "output_type": "stream",
     "text": [
      "/home/seq/.local/share/virtualenvs/seq-r0_WvjRo/lib/python3.5/site-packages/scipy/sparse/compressed.py:746: SparseEfficiencyWarning: Changing the sparsity structure of a csr_matrix is expensive. lil_matrix is more efficient.\n",
      "  SparseEfficiencyWarning)\n"
     ]
    },
    {
     "data": {
      "text/plain": [
       "2.22"
      ]
     },
     "execution_count": 3,
     "metadata": {},
     "output_type": "execute_result"
    }
   ],
   "source": [
    "# Build network\n",
    "exp.build()\n",
    "\n",
    "# Get spectral radius\n",
    "utils.getSpectralRadius(exp.net.initialWeights)"
   ]
  },
  {
   "cell_type": "code",
   "execution_count": null,
   "metadata": {},
   "outputs": [
    {
     "name": "stdout",
     "output_type": "stream",
     "text": [
      "/home/seq/05-reward/v0.x/pelenet/snips\n",
      "/home/seq/05-reward/v0.x/pelenet/snips/\n",
      "\u001b[1;30m\u001b[1;30mWARNING\u001b[0m\u001b[0m:\u001b[34m\u001b[34mDRV\u001b[0m\u001b[0m:  \u001b[33melementType would be deprecated in 0.9 in favor of messageSize, which provides more flexibility\u001b[0m\n",
      "\u001b[1;30m\u001b[1;30mWARNING\u001b[0m\u001b[0m:\u001b[34m\u001b[34mDRV\u001b[0m\u001b[0m:  \u001b[33melementType would be deprecated in 0.9 in favor of messageSize, which provides more flexibility\u001b[0m\n",
      "\u001b[1;30m\u001b[1;30mINFO\u001b[0m\u001b[0m:\u001b[34m\u001b[34mDRV\u001b[0m\u001b[0m:  Connecting to 127.0.0.1:38077\n",
      "\u001b[1;30m\u001b[1;30mINFO\u001b[0m\u001b[0m:\u001b[34m\u001b[34mDRV\u001b[0m\u001b[0m:      Host server up..............Done 0.05s\n",
      "\u001b[1;30m\u001b[1;30mINFO\u001b[0m\u001b[0m:\u001b[34m\u001b[34mDRV\u001b[0m\u001b[0m:      Encoding axons/synapses.....Done 15.16s\n",
      "\u001b[1;30m\u001b[1;30mWARNING\u001b[0m\u001b[0m:\u001b[34m\u001b[34mDRV\u001b[0m\u001b[0m:  \u001b[33m~/.local/share/virtualenvs/seq-r0_WvjRo/lib/python3.5/site-packages ~/05-reward/v0.x\n",
      "Compiling in directory : /home/seq/.local/share/virtualenvs/seq-r0_WvjRo/lib/python3.5/site-packages/nxsdk/driver/compilers/../../../temp/1580222681.8247828\n",
      "Include dir is : /home/seq/05-reward/v0.x/pelenet/snips/ -I/home/seq/.local/share/virtualenvs/seq-r0_WvjRo/lib/python3.5/site-packages/nxsdk/graph/nxinputgen/../../snips/\n",
      "Compiling -c /home/seq/.local/share/virtualenvs/seq-r0_WvjRo/lib/python3.5/site-packages/nxsdk/driver/compilers/../../../temp/1580222681.8247828/initnetwork_0_0.c\n",
      "gcc -Wall -I/home/seq/05-reward/v0.x/pelenet/snips/ -I/home/seq/.local/share/virtualenvs/seq-r0_WvjRo/lib/python3.5/site-packages/nxsdk/graph/nxinputgen/../../snips/ -Inxsdk/include -fno-stack-protector -msoft-float -m32 -march=i586 -fno-builtin-printf -fno-builtin-sprintf -fno-builtin-fprintf -fno-builtin-memcpy -fstrict-volatile-bitfields -Os -DNDEBUG -std=c99 -o /home/seq/.local/share/virtualenvs/seq-r0_WvjRo/lib/python3.5/site-packages/nxsdk/driver/compilers/../../../temp/1580222681.8247828/initnetwork_0_0.c.o -c /home/seq/.local/share/virtualenvs/seq-r0_WvjRo/lib/python3.5/site-packages/nxsdk/driver/compilers/../../../temp/1580222681.8247828/initnetwork_0_0.c\n",
      "Compiling without -c /home/seq/.local/share/virtualenvs/seq-r0_WvjRo/lib/python3.5/site-packages/nxsdk/driver/compilers/../../../temp/1580222681.8247828/0_spiking_packed.c\n",
      "gcc -Wall -I/home/seq/05-reward/v0.x/pelenet/snips/ -I/home/seq/.local/share/virtualenvs/seq-r0_WvjRo/lib/python3.5/site-packages/nxsdk/graph/nxinputgen/../../snips/ -Inxsdk/include -fno-stack-protector -msoft-float -m32 -march=i586 -fno-builtin-printf -fno-builtin-sprintf -fno-builtin-fprintf -fno-builtin-memcpy -fstrict-volatile-bitfields -Os -DNDEBUG -std=c99 -o /home/seq/.local/share/virtualenvs/seq-r0_WvjRo/lib/python3.5/site-packages/nxsdk/driver/compilers/../../../temp/1580222681.8247828/0_spiking_packed.c.o -c /home/seq/.local/share/virtualenvs/seq-r0_WvjRo/lib/python3.5/site-packages/nxsdk/driver/compilers/../../../temp/1580222681.8247828/0_spiking_packed.c\n",
      "Compiling without -c /home/seq/.local/share/virtualenvs/seq-r0_WvjRo/lib/python3.5/site-packages/nxsdk/driver/compilers/../../../temp/1580222681.8247828/1_reset_init.c\n",
      "gcc -Wall -I/home/seq/05-reward/v0.x/pelenet/snips/ -I/home/seq/.local/share/virtualenvs/seq-r0_WvjRo/lib/python3.5/site-packages/nxsdk/graph/nxinputgen/../../snips/ -Inxsdk/include -fno-stack-protector -msoft-float -m32 -march=i586 -fno-builtin-printf -fno-builtin-sprintf -fno-builtin-fprintf -fno-builtin-memcpy -fstrict-volatile-bitfields -Os -DNDEBUG -std=c99 -o /home/seq/.local/share/virtualenvs/seq-r0_WvjRo/lib/python3.5/site-packages/nxsdk/driver/compilers/../../../temp/1580222681.8247828/1_reset_init.c.o -c /home/seq/.local/share/virtualenvs/seq-r0_WvjRo/lib/python3.5/site-packages/nxsdk/driver/compilers/../../../temp/1580222681.8247828/1_reset_init.c\n",
      "Compiling without -c /home/seq/.local/share/virtualenvs/seq-r0_WvjRo/lib/python3.5/site-packages/nxsdk/driver/compilers/../../../temp/1580222681.8247828/2_reset.c\n",
      "gcc -Wall -I/home/seq/05-reward/v0.x/pelenet/snips/ -I/home/seq/.local/share/virtualenvs/seq-r0_WvjRo/lib/python3.5/site-packages/nxsdk/graph/nxinputgen/../../snips/ -Inxsdk/include -fno-stack-protector -msoft-float -m32 -march=i586 -fno-builtin-printf -fno-builtin-sprintf -fno-builtin-fprintf -fno-builtin-memcpy -fstrict-volatile-bitfields -Os -DNDEBUG -std=c99 -o /home/seq/.local/share/virtualenvs/seq-r0_WvjRo/lib/python3.5/site-packages/nxsdk/driver/compilers/../../../temp/1580222681.8247828/2_reset.c.o -c /home/seq/.local/share/virtualenvs/seq-r0_WvjRo/lib/python3.5/site-packages/nxsdk/driver/compilers/../../../temp/1580222681.8247828/2_reset.c\n",
      "/home/seq/05-reward/v0.x/pelenet/snips//reset.c: In function ‘reset’:\n",
      "/home/seq/05-reward/v0.x/pelenet/snips//reset.c:36:9: warning: dereferencing type-punned pointer will break strict-aliasing rules [-Wstrict-aliasing]\n",
      "         nx_fast_init64(nc->cx_state, neuronsPerCore, *(uint64_t*)&cxs);\n",
      "         ^~~~~~~~~~~~~~\n",
      "Compiling without -c /home/seq/.local/share/virtualenvs/seq-r0_WvjRo/lib/python3.5/site-packages/nxsdk/driver/compilers/../../../temp/1580222681.8247828/main_0_0.c\n",
      "gcc -Wall -I/home/seq/05-reward/v0.x/pelenet/snips/ -I/home/seq/.local/share/virtualenvs/seq-r0_WvjRo/lib/python3.5/site-packages/nxsdk/graph/nxinputgen/../../snips/ -Inxsdk/include -fno-stack-protector -msoft-float -m32 -march=i586 -fno-builtin-printf -fno-builtin-sprintf -fno-builtin-fprintf -fno-builtin-memcpy -fstrict-volatile-bitfields -Os -DNDEBUG -std=c99 -o /home/seq/.local/share/virtualenvs/seq-r0_WvjRo/lib/python3.5/site-packages/nxsdk/driver/compilers/../../../temp/1580222681.8247828/main_0_0.c.o -c /home/seq/.local/share/virtualenvs/seq-r0_WvjRo/lib/python3.5/site-packages/nxsdk/driver/compilers/../../../temp/1580222681.8247828/main_0_0.c\n",
      "OBJFILES :  /home/seq/.local/share/virtualenvs/seq-r0_WvjRo/lib/python3.5/site-packages/nxsdk/driver/compilers/../../../temp/1580222681.8247828/initnetwork_0_0.c.o /home/seq/.local/share/virtualenvs/seq-r0_WvjRo/lib/python3.5/site-packages/nxsdk/driver/compilers/../../../temp/1580222681.8247828/0_spiking_packed.c.o /home/seq/.local/share/virtualenvs/seq-r0_WvjRo/lib/python3.5/site-packages/nxsdk/driver/compilers/../../../temp/1580222681.8247828/1_reset_init.c.o /home/seq/.local/share/virtualenvs/seq-r0_WvjRo/lib/python3.5/site-packages/nxsdk/driver/compilers/../../../temp/1580222681.8247828/2_reset.c.o /home/seq/.local/share/virtualenvs/seq-r0_WvjRo/lib/python3.5/site-packages/nxsdk/driver/compilers/../../../temp/1580222681.8247828/main_0_0.c.o\n",
      "gcc -Wall -fno-stack-protector -msoft-float -m32 -march=i586 -fno-builtin-printf -fno-builtin-sprintf -fno-builtin-fprintf -fno-builtin-memcpy -fstrict-volatile-bitfields -Os -DNDEBUG -std=c99 /home/seq/.local/share/virtualenvs/seq-r0_WvjRo/lib/python3.5/site-packages/nxsdk/driver/compilers/../../../temp/1580222681.8247828/initnetwork_0_0.c.o /home/seq/.local/share/virtualenvs/seq-r0_WvjRo/lib/python3.5/site-packages/nxsdk/driver/compilers/../../../temp/1580222681.8247828/0_spiking_packed.c.o /home/seq/.local/share/virtualenvs/seq-r0_WvjRo/lib/python3.5/site-packages/nxsdk/driver/compilers/../../../temp/1580222681.8247828/1_reset_init.c.o /home/seq/.local/share/virtualenvs/seq-r0_WvjRo/lib/python3.5/site-packages/nxsdk/driver/compilers/../../../temp/1580222681.8247828/2_reset.c.o /home/seq/.local/share/virtualenvs/seq-r0_WvjRo/lib/python3.5/site-packages/nxsdk/driver/compilers/../../../temp/1580222681.8247828/main_0_0.c.o -o /home/seq/.local/share/virtualenvs/seq-r0_WvjRo/lib/python3.5/site-packages/nxsdk/driver/compilers/../../../temp/1580222681.8247828/launcher.link nxsdk/lib/embedded/libboot.a nxsdk/lib/embedded/libembedded_nx.a nxsdk/lib/embedded/liblmt.a nxsdk/lib/embedded/libnx.a -Wl,--script=nxsdk/utils/linker.scr -Wl,--build-id=none -Wl,-N -nostdlib\n",
      "\u001b[0m\n",
      "\u001b[1;30m\u001b[1;30mWARNING\u001b[0m\u001b[0m:\u001b[34m\u001b[34mDRV\u001b[0m\u001b[0m:  \u001b[33m~/.local/share/virtualenvs/seq-r0_WvjRo/lib/python3.5/site-packages ~/05-reward/v0.x\n",
      "Compiling in directory : /home/seq/.local/share/virtualenvs/seq-r0_WvjRo/lib/python3.5/site-packages/nxsdk/driver/compilers/../../../temp/1580222681.8247828\n",
      "Include dir is : /home/seq/05-reward/v0.x/pelenet/snips/\n",
      "Compiling -c /home/seq/.local/share/virtualenvs/seq-r0_WvjRo/lib/python3.5/site-packages/nxsdk/driver/compilers/../../../temp/1580222681.8247828/initnetwork_1_0.c\n",
      "gcc -Wall -I/home/seq/05-reward/v0.x/pelenet/snips/ -Inxsdk/include -fno-stack-protector -msoft-float -m32 -march=i586 -fno-builtin-printf -fno-builtin-sprintf -fno-builtin-fprintf -fno-builtin-memcpy -fstrict-volatile-bitfields -Os -DNDEBUG -std=c99 -o /home/seq/.local/share/virtualenvs/seq-r0_WvjRo/lib/python3.5/site-packages/nxsdk/driver/compilers/../../../temp/1580222681.8247828/initnetwork_1_0.c.o -c /home/seq/.local/share/virtualenvs/seq-r0_WvjRo/lib/python3.5/site-packages/nxsdk/driver/compilers/../../../temp/1580222681.8247828/initnetwork_1_0.c\n",
      "Compiling without -c /home/seq/.local/share/virtualenvs/seq-r0_WvjRo/lib/python3.5/site-packages/nxsdk/driver/compilers/../../../temp/1580222681.8247828/0_reset_init.c\n",
      "gcc -Wall -I/home/seq/05-reward/v0.x/pelenet/snips/ -Inxsdk/include -fno-stack-protector -msoft-float -m32 -march=i586 -fno-builtin-printf -fno-builtin-sprintf -fno-builtin-fprintf -fno-builtin-memcpy -fstrict-volatile-bitfields -Os -DNDEBUG -std=c99 -o /home/seq/.local/share/virtualenvs/seq-r0_WvjRo/lib/python3.5/site-packages/nxsdk/driver/compilers/../../../temp/1580222681.8247828/0_reset_init.c.o -c /home/seq/.local/share/virtualenvs/seq-r0_WvjRo/lib/python3.5/site-packages/nxsdk/driver/compilers/../../../temp/1580222681.8247828/0_reset_init.c\n",
      "Compiling without -c /home/seq/.local/share/virtualenvs/seq-r0_WvjRo/lib/python3.5/site-packages/nxsdk/driver/compilers/../../../temp/1580222681.8247828/1_reset.c\n",
      "gcc -Wall -I/home/seq/05-reward/v0.x/pelenet/snips/ -Inxsdk/include -fno-stack-protector -msoft-float -m32 -march=i586 -fno-builtin-printf -fno-builtin-sprintf -fno-builtin-fprintf -fno-builtin-memcpy -fstrict-volatile-bitfields -Os -DNDEBUG -std=c99 -o /home/seq/.local/share/virtualenvs/seq-r0_WvjRo/lib/python3.5/site-packages/nxsdk/driver/compilers/../../../temp/1580222681.8247828/1_reset.c.o -c /home/seq/.local/share/virtualenvs/seq-r0_WvjRo/lib/python3.5/site-packages/nxsdk/driver/compilers/../../../temp/1580222681.8247828/1_reset.c\n",
      "/home/seq/05-reward/v0.x/pelenet/snips//reset.c: In function ‘reset’:\n",
      "/home/seq/05-reward/v0.x/pelenet/snips//reset.c:36:9: warning: dereferencing type-punned pointer will break strict-aliasing rules [-Wstrict-aliasing]\n",
      "         nx_fast_init64(nc->cx_state, neuronsPerCore, *(uint64_t*)&cxs);\n",
      "         ^~~~~~~~~~~~~~\n",
      "Compiling without -c /home/seq/.local/share/virtualenvs/seq-r0_WvjRo/lib/python3.5/site-packages/nxsdk/driver/compilers/../../../temp/1580222681.8247828/main_1_0.c\n",
      "gcc -Wall -I/home/seq/05-reward/v0.x/pelenet/snips/ -Inxsdk/include -fno-stack-protector -msoft-float -m32 -march=i586 -fno-builtin-printf -fno-builtin-sprintf -fno-builtin-fprintf -fno-builtin-memcpy -fstrict-volatile-bitfields -Os -DNDEBUG -std=c99 -o /home/seq/.local/share/virtualenvs/seq-r0_WvjRo/lib/python3.5/site-packages/nxsdk/driver/compilers/../../../temp/1580222681.8247828/main_1_0.c.o -c /home/seq/.local/share/virtualenvs/seq-r0_WvjRo/lib/python3.5/site-packages/nxsdk/driver/compilers/../../../temp/1580222681.8247828/main_1_0.c\n",
      "OBJFILES :  /home/seq/.local/share/virtualenvs/seq-r0_WvjRo/lib/python3.5/site-packages/nxsdk/driver/compilers/../../../temp/1580222681.8247828/initnetwork_1_0.c.o /home/seq/.local/share/virtualenvs/seq-r0_WvjRo/lib/python3.5/site-packages/nxsdk/driver/compilers/../../../temp/1580222681.8247828/0_reset_init.c.o /home/seq/.local/share/virtualenvs/seq-r0_WvjRo/lib/python3.5/site-packages/nxsdk/driver/compilers/../../../temp/1580222681.8247828/1_reset.c.o /home/seq/.local/share/virtualenvs/seq-r0_WvjRo/lib/python3.5/site-packages/nxsdk/driver/compilers/../../../temp/1580222681.8247828/main_1_0.c.o\n",
      "gcc -Wall -fno-stack-protector -msoft-float -m32 -march=i586 -fno-builtin-printf -fno-builtin-sprintf -fno-builtin-fprintf -fno-builtin-memcpy -fstrict-volatile-bitfields -Os -DNDEBUG -std=c99 /home/seq/.local/share/virtualenvs/seq-r0_WvjRo/lib/python3.5/site-packages/nxsdk/driver/compilers/../../../temp/1580222681.8247828/initnetwork_1_0.c.o /home/seq/.local/share/virtualenvs/seq-r0_WvjRo/lib/python3.5/site-packages/nxsdk/driver/compilers/../../../temp/1580222681.8247828/0_reset_init.c.o /home/seq/.local/share/virtualenvs/seq-r0_WvjRo/lib/python3.5/site-packages/nxsdk/driver/compilers/../../../temp/1580222681.8247828/1_reset.c.o /home/seq/.local/share/virtualenvs/seq-r0_WvjRo/lib/python3.5/site-packages/nxsdk/driver/compilers/../../../temp/1580222681.8247828/main_1_0.c.o -o /home/seq/.local/share/virtualenvs/seq-r0_WvjRo/lib/python3.5/site-packages/nxsdk/driver/compilers/../../../temp/1580222681.8247828/launcher.link nxsdk/lib/embedded/libboot.a nxsdk/lib/embedded/libembedded_nx.a nxsdk/lib/embedded/liblmt.a nxsdk/lib/embedded/libnx.a -Wl,--script=nxsdk/utils/linker.scr -Wl,--build-id=none -Wl,-N -nostdlib\n",
      "\u001b[0m\n"
     ]
    },
    {
     "name": "stdout",
     "output_type": "stream",
     "text": [
      "\u001b[1;30m\u001b[1;30mINFO\u001b[0m\u001b[0m:\u001b[34m\u001b[34mDRV\u001b[0m\u001b[0m:      Compiling Embedded snips....Done 0.55s\n",
      "\u001b[1;30m\u001b[1;30mINFO\u001b[0m\u001b[0m:\u001b[34m\u001b[34mDRV\u001b[0m\u001b[0m:      Encoding probes.............Done 3.92ms\n",
      "\u001b[1;30m\u001b[1;30mINFO\u001b[0m\u001b[0m:\u001b[34m\u001b[34mHST\u001b[0m\u001b[0m:  Using Kapoho Bay serial number 308\n",
      "\u001b[1;30m\u001b[1;30mINFO\u001b[0m\u001b[0m:\u001b[34m\u001b[34mHST\u001b[0m\u001b[0m:  Args chip=0 cpu=0 /home/seq/.local/share/virtualenvs/seq-r0_WvjRo/lib/python3.5/site-packages/nxsdk/driver/compilers/../../../temp/1580222681.8247828/launcher_chip0_lmt0.bin --chips=2 --remote-relay=0 --epoch=0 \n",
      "\u001b[1;30m\u001b[1;30mINFO\u001b[0m\u001b[0m:\u001b[34m\u001b[34mHST\u001b[0m\u001b[0m:  Args chip=1 cpu=0 /home/seq/.local/share/virtualenvs/seq-r0_WvjRo/lib/python3.5/site-packages/nxsdk/driver/compilers/../../../temp/1580222681.8247828/launcher_chip1_lmt0.bin --chips=2 --remote-relay=0 --epoch=0 \n",
      "\u001b[1;30m\u001b[1;30mINFO\u001b[0m\u001b[0m:\u001b[34m\u001b[34mHST\u001b[0m\u001b[0m:  Lakemont_driver...\n",
      "\u001b[1;30m\u001b[1;30mINFO\u001b[0m\u001b[0m:\u001b[34m\u001b[34mDRV\u001b[0m\u001b[0m:      Booting up..................Done 1.57s\n",
      "\u001b[1;30m\u001b[1;30mINFO\u001b[0m\u001b[0m:\u001b[34m\u001b[34mDRV\u001b[0m\u001b[0m:      Transferring probes.........Done 0.04s\n",
      "\u001b[1;30m\u001b[1;30mINFO\u001b[0m\u001b[0m:\u001b[34m\u001b[34mDRV\u001b[0m\u001b[0m:      Transferring spikes.........Done 0.01s\n",
      "\u001b[1;30m\u001b[1;30mINFO\u001b[0m\u001b[0m:\u001b[34m\u001b[34mDRV\u001b[0m\u001b[0m:      Configuring registers.......Done 15.72s\n",
      "\u001b[1;30m\u001b[1;30mINFO\u001b[0m\u001b[0m:\u001b[34m\u001b[34mHST\u001b[0m\u001b[0m:  chip=0 cpu=0 Transfered values 20, 400, 10 \n",
      "\u001b[1;30m\u001b[1;30mINFO\u001b[0m\u001b[0m:\u001b[34m\u001b[34mHST\u001b[0m\u001b[0m:  chip=1 cpu=0 Transfered values 20, 400, 10 \n"
     ]
    }
   ],
   "source": [
    "# Run network\n",
    "exp.run()"
   ]
  },
  {
   "cell_type": "code",
   "execution_count": null,
   "metadata": {},
   "outputs": [],
   "source": [
    "exp.net.plot.landscape()"
   ]
  },
  {
   "cell_type": "code",
   "execution_count": null,
   "metadata": {},
   "outputs": [],
   "source": [
    "#p = exp.net.exVoltageProbes[0].plot()"
   ]
  },
  {
   "cell_type": "code",
   "execution_count": null,
   "metadata": {},
   "outputs": [],
   "source": [
    "#p = exp.net.inVoltageProbes[0].plot()"
   ]
  },
  {
   "cell_type": "code",
   "execution_count": null,
   "metadata": {},
   "outputs": [],
   "source": [
    "exp.net.plot.reservoirSpikeTrain()"
   ]
  },
  {
   "cell_type": "code",
   "execution_count": null,
   "metadata": {},
   "outputs": [],
   "source": [
    "i = 10\n",
    "print(np.sum(exp.net.exSpikeProbes[i].data[:,15:400]))\n",
    "print(np.sum(exp.net.exSpikeProbes[i].data[:,415:800]))"
   ]
  },
  {
   "cell_type": "code",
   "execution_count": null,
   "metadata": {},
   "outputs": [],
   "source": [
    "t1 = exp.net.exSpikeTrains[:,15:400]\n",
    "t2 = exp.net.exSpikeTrains[:,415:800]\n",
    "t3 = exp.net.exSpikeTrains[:,815:1200]\n",
    "np.sum(np.abs(t1-t2))"
   ]
  },
  {
   "cell_type": "code",
   "execution_count": null,
   "metadata": {},
   "outputs": [],
   "source": [
    "offset = exp.p.breakSteps + exp.p.cueSteps + exp.p.cueRelaxation\n",
    "data = []\n",
    "for i in range(exp.p.trials):\n",
    "    fr, to = (i+1)*offset+i*exp.p.movementSteps, (i+1)*offset+(i+1)*exp.p.movementSteps\n",
    "    data.append(exp.net.exSpikeTrains[:,fr:to])\n",
    "data = np.array(data)\n",
    "shp = data.shape\n",
    "shp"
   ]
  },
  {
   "cell_type": "code",
   "execution_count": null,
   "metadata": {},
   "outputs": [],
   "source": [
    "binSize = 10\n",
    "(params, ye, performance) = utils.trainOLS(data[:2], data[2], exp.targetFunction, filter='bins', binSize=binSize)\n",
    "\n",
    "plt.title(performance.cor)\n",
    "plt.plot(ye)\n",
    "plt.plot(np.array([np.mean(exp.targetFunction[i:i+binSize]) for i in range(0,len(exp.targetFunction),binSize)]))\n",
    "p = plt.show()"
   ]
  },
  {
   "cell_type": "code",
   "execution_count": null,
   "metadata": {},
   "outputs": [],
   "source": []
  },
  {
   "cell_type": "code",
   "execution_count": null,
   "metadata": {},
   "outputs": [],
   "source": []
  },
  {
   "cell_type": "code",
   "execution_count": null,
   "metadata": {},
   "outputs": [],
   "source": []
  }
 ],
 "metadata": {
  "kernelspec": {
   "display_name": "Python 3",
   "language": "python",
   "name": "python3"
  },
  "language_info": {
   "codemirror_mode": {
    "name": "ipython",
    "version": 3
   },
   "file_extension": ".py",
   "mimetype": "text/x-python",
   "name": "python",
   "nbconvert_exporter": "python",
   "pygments_lexer": "ipython3",
   "version": "3.5.2"
  }
 },
 "nbformat": 4,
 "nbformat_minor": 2
}
