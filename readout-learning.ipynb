{
 "cells": [
  {
   "cell_type": "code",
   "execution_count": 1,
   "metadata": {},
   "outputs": [],
   "source": [
    "# Allow reload of objects\n",
    "%load_ext autoreload\n",
    "%autoreload\n",
    "from pelenet.utils import Utils\n",
    "from pelenet.experiments.readout import ReadoutExperiment\n",
    "\n",
    "# Official modules\n",
    "import numpy as np\n",
    "import nxsdk.api.n2a as nx\n",
    "import matplotlib\n",
    "import matplotlib.pyplot as plt\n",
    "import os\n",
    "from time import time"
   ]
  },
  {
   "cell_type": "code",
   "execution_count": 2,
   "metadata": {},
   "outputs": [],
   "source": [
    "# Initilizes the experiment and utils\n",
    "utils = Utils.instance()\n",
    "exp = ReadoutExperiment()"
   ]
  },
  {
   "cell_type": "code",
   "execution_count": 3,
   "metadata": {
    "scrolled": true
   },
   "outputs": [
    {
     "data": {
      "text/plain": [
       "1.665"
      ]
     },
     "execution_count": 3,
     "metadata": {},
     "output_type": "execute_result"
    }
   ],
   "source": [
    "# Build network\n",
    "exp.build()\n",
    "\n",
    "# Get spectral radius\n",
    "utils.getSpectralRadius(exp.net.initialWeights)"
   ]
  },
  {
   "cell_type": "code",
   "execution_count": null,
   "metadata": {},
   "outputs": [
    {
     "name": "stdout",
     "output_type": "stream",
     "text": [
      "\u001b[1;30m\u001b[1;30mWARNING\u001b[0m\u001b[0m:\u001b[34m\u001b[34mDRV\u001b[0m\u001b[0m:  \u001b[33melementType would be deprecated in 0.9 in favor of messageSize, which provides more flexibility\u001b[0m\n",
      "\u001b[1;30m\u001b[1;30mWARNING\u001b[0m\u001b[0m:\u001b[34m\u001b[34mDRV\u001b[0m\u001b[0m:  \u001b[33melementType would be deprecated in 0.9 in favor of messageSize, which provides more flexibility\u001b[0m\n",
      "\u001b[1;30m\u001b[1;30mINFO\u001b[0m\u001b[0m:\u001b[34m\u001b[34mDRV\u001b[0m\u001b[0m:  Connecting to 127.0.0.1:33359\n",
      "\u001b[1;30m\u001b[1;30mINFO\u001b[0m\u001b[0m:\u001b[34m\u001b[34mDRV\u001b[0m\u001b[0m:      Host server up..............Done 0.05s\n",
      "\u001b[1;30m\u001b[1;30mINFO\u001b[0m\u001b[0m:\u001b[34m\u001b[34mDRV\u001b[0m\u001b[0m:      Encoding axons/synapses.....Done 15.05s\n",
      "\u001b[1;30m\u001b[1;30mWARNING\u001b[0m\u001b[0m:\u001b[34m\u001b[34mDRV\u001b[0m\u001b[0m:  \u001b[33m~/.local/share/virtualenvs/seq-r0_WvjRo/lib/python3.5/site-packages ~/05-reward/v0.x\n",
      "Compiling in directory : /home/seq/.local/share/virtualenvs/seq-r0_WvjRo/lib/python3.5/site-packages/nxsdk/driver/compilers/../../../temp/1583238277.528742\n",
      "Include dir is : /home/seq/05-reward/v0.x/pelenet/snips/ -I/home/seq/.local/share/virtualenvs/seq-r0_WvjRo/lib/python3.5/site-packages/nxsdk/graph/nxinputgen/../../snips/\n",
      "Compiling -c /home/seq/.local/share/virtualenvs/seq-r0_WvjRo/lib/python3.5/site-packages/nxsdk/driver/compilers/../../../temp/1583238277.528742/initnetwork_0_0.c\n",
      "gcc -Wall -I/home/seq/05-reward/v0.x/pelenet/snips/ -I/home/seq/.local/share/virtualenvs/seq-r0_WvjRo/lib/python3.5/site-packages/nxsdk/graph/nxinputgen/../../snips/ -Inxsdk/include -fno-stack-protector -msoft-float -m32 -march=i586 -fno-builtin-printf -fno-builtin-sprintf -fno-builtin-fprintf -fno-builtin-memcpy -fstrict-volatile-bitfields -Os -DNDEBUG -std=c99 -o /home/seq/.local/share/virtualenvs/seq-r0_WvjRo/lib/python3.5/site-packages/nxsdk/driver/compilers/../../../temp/1583238277.528742/initnetwork_0_0.c.o -c /home/seq/.local/share/virtualenvs/seq-r0_WvjRo/lib/python3.5/site-packages/nxsdk/driver/compilers/../../../temp/1583238277.528742/initnetwork_0_0.c\n",
      "Compiling without -c /home/seq/.local/share/virtualenvs/seq-r0_WvjRo/lib/python3.5/site-packages/nxsdk/driver/compilers/../../../temp/1583238277.528742/0_spiking_packed.c\n",
      "gcc -Wall -I/home/seq/05-reward/v0.x/pelenet/snips/ -I/home/seq/.local/share/virtualenvs/seq-r0_WvjRo/lib/python3.5/site-packages/nxsdk/graph/nxinputgen/../../snips/ -Inxsdk/include -fno-stack-protector -msoft-float -m32 -march=i586 -fno-builtin-printf -fno-builtin-sprintf -fno-builtin-fprintf -fno-builtin-memcpy -fstrict-volatile-bitfields -Os -DNDEBUG -std=c99 -o /home/seq/.local/share/virtualenvs/seq-r0_WvjRo/lib/python3.5/site-packages/nxsdk/driver/compilers/../../../temp/1583238277.528742/0_spiking_packed.c.o -c /home/seq/.local/share/virtualenvs/seq-r0_WvjRo/lib/python3.5/site-packages/nxsdk/driver/compilers/../../../temp/1583238277.528742/0_spiking_packed.c\n",
      "Compiling without -c /home/seq/.local/share/virtualenvs/seq-r0_WvjRo/lib/python3.5/site-packages/nxsdk/driver/compilers/../../../temp/1583238277.528742/1_reset_init.c\n",
      "gcc -Wall -I/home/seq/05-reward/v0.x/pelenet/snips/ -I/home/seq/.local/share/virtualenvs/seq-r0_WvjRo/lib/python3.5/site-packages/nxsdk/graph/nxinputgen/../../snips/ -Inxsdk/include -fno-stack-protector -msoft-float -m32 -march=i586 -fno-builtin-printf -fno-builtin-sprintf -fno-builtin-fprintf -fno-builtin-memcpy -fstrict-volatile-bitfields -Os -DNDEBUG -std=c99 -o /home/seq/.local/share/virtualenvs/seq-r0_WvjRo/lib/python3.5/site-packages/nxsdk/driver/compilers/../../../temp/1583238277.528742/1_reset_init.c.o -c /home/seq/.local/share/virtualenvs/seq-r0_WvjRo/lib/python3.5/site-packages/nxsdk/driver/compilers/../../../temp/1583238277.528742/1_reset_init.c\n",
      "Compiling without -c /home/seq/.local/share/virtualenvs/seq-r0_WvjRo/lib/python3.5/site-packages/nxsdk/driver/compilers/../../../temp/1583238277.528742/2_reset.c\n",
      "gcc -Wall -I/home/seq/05-reward/v0.x/pelenet/snips/ -I/home/seq/.local/share/virtualenvs/seq-r0_WvjRo/lib/python3.5/site-packages/nxsdk/graph/nxinputgen/../../snips/ -Inxsdk/include -fno-stack-protector -msoft-float -m32 -march=i586 -fno-builtin-printf -fno-builtin-sprintf -fno-builtin-fprintf -fno-builtin-memcpy -fstrict-volatile-bitfields -Os -DNDEBUG -std=c99 -o /home/seq/.local/share/virtualenvs/seq-r0_WvjRo/lib/python3.5/site-packages/nxsdk/driver/compilers/../../../temp/1583238277.528742/2_reset.c.o -c /home/seq/.local/share/virtualenvs/seq-r0_WvjRo/lib/python3.5/site-packages/nxsdk/driver/compilers/../../../temp/1583238277.528742/2_reset.c\n",
      "/home/seq/05-reward/v0.x/pelenet/snips//reset.c: In function ‘reset’:\n",
      "/home/seq/05-reward/v0.x/pelenet/snips//reset.c:45:9: warning: dereferencing type-punned pointer will break strict-aliasing rules [-Wstrict-aliasing]\n",
      "         nx_fast_init64(nc->cx_state, neuronsPerCore, *(uint64_t*)&cxs);\n",
      "         ^~~~~~~~~~~~~~\n",
      "/home/seq/05-reward/v0.x/pelenet/snips//reset.c:60:13: warning: dereferencing type-punned pointer will break strict-aliasing rules [-Wstrict-aliasing]\n",
      "             nx_fast_init32(nc->cx_meta_state, neuronsPerCore/4, *(uint32_t*)&ms);\n",
      "             ^~~~~~~~~~~~~~\n",
      "Compiling without -c /home/seq/.local/share/virtualenvs/seq-r0_WvjRo/lib/python3.5/site-packages/nxsdk/driver/compilers/../../../temp/1583238277.528742/main_0_0.c\n",
      "gcc -Wall -I/home/seq/05-reward/v0.x/pelenet/snips/ -I/home/seq/.local/share/virtualenvs/seq-r0_WvjRo/lib/python3.5/site-packages/nxsdk/graph/nxinputgen/../../snips/ -Inxsdk/include -fno-stack-protector -msoft-float -m32 -march=i586 -fno-builtin-printf -fno-builtin-sprintf -fno-builtin-fprintf -fno-builtin-memcpy -fstrict-volatile-bitfields -Os -DNDEBUG -std=c99 -o /home/seq/.local/share/virtualenvs/seq-r0_WvjRo/lib/python3.5/site-packages/nxsdk/driver/compilers/../../../temp/1583238277.528742/main_0_0.c.o -c /home/seq/.local/share/virtualenvs/seq-r0_WvjRo/lib/python3.5/site-packages/nxsdk/driver/compilers/../../../temp/1583238277.528742/main_0_0.c\n",
      "OBJFILES :  /home/seq/.local/share/virtualenvs/seq-r0_WvjRo/lib/python3.5/site-packages/nxsdk/driver/compilers/../../../temp/1583238277.528742/initnetwork_0_0.c.o /home/seq/.local/share/virtualenvs/seq-r0_WvjRo/lib/python3.5/site-packages/nxsdk/driver/compilers/../../../temp/1583238277.528742/0_spiking_packed.c.o /home/seq/.local/share/virtualenvs/seq-r0_WvjRo/lib/python3.5/site-packages/nxsdk/driver/compilers/../../../temp/1583238277.528742/1_reset_init.c.o /home/seq/.local/share/virtualenvs/seq-r0_WvjRo/lib/python3.5/site-packages/nxsdk/driver/compilers/../../../temp/1583238277.528742/2_reset.c.o /home/seq/.local/share/virtualenvs/seq-r0_WvjRo/lib/python3.5/site-packages/nxsdk/driver/compilers/../../../temp/1583238277.528742/main_0_0.c.o\n",
      "gcc -Wall -fno-stack-protector -msoft-float -m32 -march=i586 -fno-builtin-printf -fno-builtin-sprintf -fno-builtin-fprintf -fno-builtin-memcpy -fstrict-volatile-bitfields -Os -DNDEBUG -std=c99 /home/seq/.local/share/virtualenvs/seq-r0_WvjRo/lib/python3.5/site-packages/nxsdk/driver/compilers/../../../temp/1583238277.528742/initnetwork_0_0.c.o /home/seq/.local/share/virtualenvs/seq-r0_WvjRo/lib/python3.5/site-packages/nxsdk/driver/compilers/../../../temp/1583238277.528742/0_spiking_packed.c.o /home/seq/.local/share/virtualenvs/seq-r0_WvjRo/lib/python3.5/site-packages/nxsdk/driver/compilers/../../../temp/1583238277.528742/1_reset_init.c.o /home/seq/.local/share/virtualenvs/seq-r0_WvjRo/lib/python3.5/site-packages/nxsdk/driver/compilers/../../../temp/1583238277.528742/2_reset.c.o /home/seq/.local/share/virtualenvs/seq-r0_WvjRo/lib/python3.5/site-packages/nxsdk/driver/compilers/../../../temp/1583238277.528742/main_0_0.c.o -o /home/seq/.local/share/virtualenvs/seq-r0_WvjRo/lib/python3.5/site-packages/nxsdk/driver/compilers/../../../temp/1583238277.528742/launcher.link nxsdk/lib/embedded/libboot.a nxsdk/lib/embedded/libembedded_nx.a nxsdk/lib/embedded/liblmt.a nxsdk/lib/embedded/libnx.a -Wl,--script=nxsdk/utils/linker.scr -Wl,--build-id=none -Wl,-N -nostdlib\n",
      "\u001b[0m\n",
      "\u001b[1;30m\u001b[1;30mWARNING\u001b[0m\u001b[0m:\u001b[34m\u001b[34mDRV\u001b[0m\u001b[0m:  \u001b[33m~/.local/share/virtualenvs/seq-r0_WvjRo/lib/python3.5/site-packages ~/05-reward/v0.x\n",
      "Compiling in directory : /home/seq/.local/share/virtualenvs/seq-r0_WvjRo/lib/python3.5/site-packages/nxsdk/driver/compilers/../../../temp/1583238277.528742\n",
      "Include dir is : /home/seq/05-reward/v0.x/pelenet/snips/\n",
      "Compiling -c /home/seq/.local/share/virtualenvs/seq-r0_WvjRo/lib/python3.5/site-packages/nxsdk/driver/compilers/../../../temp/1583238277.528742/initnetwork_1_0.c\n",
      "gcc -Wall -I/home/seq/05-reward/v0.x/pelenet/snips/ -Inxsdk/include -fno-stack-protector -msoft-float -m32 -march=i586 -fno-builtin-printf -fno-builtin-sprintf -fno-builtin-fprintf -fno-builtin-memcpy -fstrict-volatile-bitfields -Os -DNDEBUG -std=c99 -o /home/seq/.local/share/virtualenvs/seq-r0_WvjRo/lib/python3.5/site-packages/nxsdk/driver/compilers/../../../temp/1583238277.528742/initnetwork_1_0.c.o -c /home/seq/.local/share/virtualenvs/seq-r0_WvjRo/lib/python3.5/site-packages/nxsdk/driver/compilers/../../../temp/1583238277.528742/initnetwork_1_0.c\n",
      "Compiling without -c /home/seq/.local/share/virtualenvs/seq-r0_WvjRo/lib/python3.5/site-packages/nxsdk/driver/compilers/../../../temp/1583238277.528742/0_reset_init.c\n",
      "gcc -Wall -I/home/seq/05-reward/v0.x/pelenet/snips/ -Inxsdk/include -fno-stack-protector -msoft-float -m32 -march=i586 -fno-builtin-printf -fno-builtin-sprintf -fno-builtin-fprintf -fno-builtin-memcpy -fstrict-volatile-bitfields -Os -DNDEBUG -std=c99 -o /home/seq/.local/share/virtualenvs/seq-r0_WvjRo/lib/python3.5/site-packages/nxsdk/driver/compilers/../../../temp/1583238277.528742/0_reset_init.c.o -c /home/seq/.local/share/virtualenvs/seq-r0_WvjRo/lib/python3.5/site-packages/nxsdk/driver/compilers/../../../temp/1583238277.528742/0_reset_init.c\n",
      "Compiling without -c /home/seq/.local/share/virtualenvs/seq-r0_WvjRo/lib/python3.5/site-packages/nxsdk/driver/compilers/../../../temp/1583238277.528742/1_reset.c\n",
      "gcc -Wall -I/home/seq/05-reward/v0.x/pelenet/snips/ -Inxsdk/include -fno-stack-protector -msoft-float -m32 -march=i586 -fno-builtin-printf -fno-builtin-sprintf -fno-builtin-fprintf -fno-builtin-memcpy -fstrict-volatile-bitfields -Os -DNDEBUG -std=c99 -o /home/seq/.local/share/virtualenvs/seq-r0_WvjRo/lib/python3.5/site-packages/nxsdk/driver/compilers/../../../temp/1583238277.528742/1_reset.c.o -c /home/seq/.local/share/virtualenvs/seq-r0_WvjRo/lib/python3.5/site-packages/nxsdk/driver/compilers/../../../temp/1583238277.528742/1_reset.c\n",
      "/home/seq/05-reward/v0.x/pelenet/snips//reset.c: In function ‘reset’:\n",
      "/home/seq/05-reward/v0.x/pelenet/snips//reset.c:45:9: warning: dereferencing type-punned pointer will break strict-aliasing rules [-Wstrict-aliasing]\n",
      "         nx_fast_init64(nc->cx_state, neuronsPerCore, *(uint64_t*)&cxs);\n",
      "         ^~~~~~~~~~~~~~\n",
      "/home/seq/05-reward/v0.x/pelenet/snips//reset.c:60:13: warning: dereferencing type-punned pointer will break strict-aliasing rules [-Wstrict-aliasing]\n",
      "             nx_fast_init32(nc->cx_meta_state, neuronsPerCore/4, *(uint32_t*)&ms);\n",
      "             ^~~~~~~~~~~~~~\n",
      "Compiling without -c /home/seq/.local/share/virtualenvs/seq-r0_WvjRo/lib/python3.5/site-packages/nxsdk/driver/compilers/../../../temp/1583238277.528742/main_1_0.c\n",
      "gcc -Wall -I/home/seq/05-reward/v0.x/pelenet/snips/ -Inxsdk/include -fno-stack-protector -msoft-float -m32 -march=i586 -fno-builtin-printf -fno-builtin-sprintf -fno-builtin-fprintf -fno-builtin-memcpy -fstrict-volatile-bitfields -Os -DNDEBUG -std=c99 -o /home/seq/.local/share/virtualenvs/seq-r0_WvjRo/lib/python3.5/site-packages/nxsdk/driver/compilers/../../../temp/1583238277.528742/main_1_0.c.o -c /home/seq/.local/share/virtualenvs/seq-r0_WvjRo/lib/python3.5/site-packages/nxsdk/driver/compilers/../../../temp/1583238277.528742/main_1_0.c\n",
      "OBJFILES :  /home/seq/.local/share/virtualenvs/seq-r0_WvjRo/lib/python3.5/site-packages/nxsdk/driver/compilers/../../../temp/1583238277.528742/initnetwork_1_0.c.o /home/seq/.local/share/virtualenvs/seq-r0_WvjRo/lib/python3.5/site-packages/nxsdk/driver/compilers/../../../temp/1583238277.528742/0_reset_init.c.o /home/seq/.local/share/virtualenvs/seq-r0_WvjRo/lib/python3.5/site-packages/nxsdk/driver/compilers/../../../temp/1583238277.528742/1_reset.c.o /home/seq/.local/share/virtualenvs/seq-r0_WvjRo/lib/python3.5/site-packages/nxsdk/driver/compilers/../../../temp/1583238277.528742/main_1_0.c.o\n",
      "gcc -Wall -fno-stack-protector -msoft-float -m32 -march=i586 -fno-builtin-printf -fno-builtin-sprintf -fno-builtin-fprintf -fno-builtin-memcpy -fstrict-volatile-bitfields -Os -DNDEBUG -std=c99 /home/seq/.local/share/virtualenvs/seq-r0_WvjRo/lib/python3.5/site-packages/nxsdk/driver/compilers/../../../temp/1583238277.528742/initnetwork_1_0.c.o /home/seq/.local/share/virtualenvs/seq-r0_WvjRo/lib/python3.5/site-packages/nxsdk/driver/compilers/../../../temp/1583238277.528742/0_reset_init.c.o /home/seq/.local/share/virtualenvs/seq-r0_WvjRo/lib/python3.5/site-packages/nxsdk/driver/compilers/../../../temp/1583238277.528742/1_reset.c.o /home/seq/.local/share/virtualenvs/seq-r0_WvjRo/lib/python3.5/site-packages/nxsdk/driver/compilers/../../../temp/1583238277.528742/main_1_0.c.o -o /home/seq/.local/share/virtualenvs/seq-r0_WvjRo/lib/python3.5/site-packages/nxsdk/driver/compilers/../../../temp/1583238277.528742/launcher.link nxsdk/lib/embedded/libboot.a nxsdk/lib/embedded/libembedded_nx.a nxsdk/lib/embedded/liblmt.a nxsdk/lib/embedded/libnx.a -Wl,--script=nxsdk/utils/linker.scr -Wl,--build-id=none -Wl,-N -nostdlib\n",
      "\u001b[0m\n"
     ]
    },
    {
     "name": "stdout",
     "output_type": "stream",
     "text": [
      "\u001b[1;30m\u001b[1;30mINFO\u001b[0m\u001b[0m:\u001b[34m\u001b[34mDRV\u001b[0m\u001b[0m:      Compiling Embedded snips....Done 0.58s\n",
      "    Booting up... \r"
     ]
    }
   ],
   "source": [
    "# Run network\n",
    "exp.run()"
   ]
  },
  {
   "cell_type": "code",
   "execution_count": null,
   "metadata": {},
   "outputs": [],
   "source": [
    "exp.net.plot.landscape()"
   ]
  },
  {
   "cell_type": "code",
   "execution_count": null,
   "metadata": {},
   "outputs": [],
   "source": [
    "#exp.net.plot.reservoirSpikeTrain(fr=0, to=3000)\n",
    "exp.net.plot.reservoirSpikeTrain()"
   ]
  },
  {
   "cell_type": "code",
   "execution_count": null,
   "metadata": {},
   "outputs": [],
   "source": [
    "#exp.net.plot.outputSpikeTrain(fr=0,to=5000)\n",
    "exp.net.plot.outputSpikeTrain()"
   ]
  },
  {
   "cell_type": "code",
   "execution_count": null,
   "metadata": {},
   "outputs": [],
   "source": [
    "offset = exp.p.resetOffset + exp.p.inputOffset\n",
    "data = []\n",
    "for i in range(exp.p.trials):\n",
    "    fr, to = (i+1)*offset+i*exp.p.stepsPerTrial, (i+1)*offset+(i+1)*exp.p.stepsPerTrial\n",
    "    #data.append(exp.net.outSpikeTrains[:,fr:to])\n",
    "    data.append(exp.net.exSpikeTrains[:,fr:to])\n",
    "    #data.append(exp.net.outVoltageTrains[:,fr:to])\n",
    "    #print(exp.net.outSpikeTrains[:,fr:to].shape)\n",
    "data = np.array(data)\n",
    "\n",
    "data.shape"
   ]
  },
  {
   "cell_type": "code",
   "execution_count": null,
   "metadata": {},
   "outputs": [],
   "source": [
    "diff01 = np.abs(data[0] - data[2])\n",
    "p = plt.plot(np.sum(diff01, axis=0))\n",
    "plt.ylim(0,700)\n",
    "\n",
    "#plt.figure(figsize=(16, 16))\n",
    "#p = plt.imshow(diff01)"
   ]
  },
  {
   "cell_type": "code",
   "execution_count": null,
   "metadata": {},
   "outputs": [],
   "source": [
    "binSize = 20\n",
    "bins = np.array([np.mean(data[:, :, i:i+binSize], axis=2) for i in range(0,data.shape[2],binSize)])\n",
    "bins.shape  # time, trials, neurons"
   ]
  },
  {
   "cell_type": "code",
   "execution_count": null,
   "metadata": {},
   "outputs": [],
   "source": [
    "difs = []\n",
    "for i in range(1,16):\n",
    "    dif = np.abs(bins[:,i,:] - bins[:,i+1,:])\n",
    "    difs.append(dif)\n",
    "difs = np.array(difs)\n",
    "    \n",
    "dif_mean = np.sum(difs, axis=(0,2))/3600\n",
    "dif_sd = np.std(difs, axis=(0,2))\n",
    "\n",
    "#p = plt.errorbar(dif_mean, yerr=dif_sd)"
   ]
  },
  {
   "cell_type": "code",
   "execution_count": null,
   "metadata": {},
   "outputs": [],
   "source": [
    "data = data[:,:,:-400]\n",
    "data.shape"
   ]
  },
  {
   "cell_type": "code",
   "execution_count": null,
   "metadata": {},
   "outputs": [],
   "source": [
    "tt = np.vstack([ np.mean(data[:24,:,i+j:i+(j+1)+binSize], axis=2) for j in range(step)])\n",
    "tt.shape\n",
    "#np.swapaxes(tt, 0, 1).shape"
   ]
  },
  {
   "cell_type": "code",
   "execution_count": null,
   "metadata": {},
   "outputs": [],
   "source": [
    "np.repeat(target[0:2], 24).shape"
   ]
  },
  {
   "cell_type": "code",
   "execution_count": null,
   "metadata": {},
   "outputs": [],
   "source": [
    "data.shape"
   ]
  },
  {
   "cell_type": "code",
   "execution_count": null,
   "metadata": {},
   "outputs": [],
   "source": [
    "import statsmodels.api as sm\n",
    "from scipy.signal import savgol_filter\n",
    "import time\n",
    "import sys\n",
    "\n",
    "[t,n,s] = data.shape\n",
    "binSize = 20\n",
    "l = s-binSize\n",
    "\n",
    "tgtSin = 1.0-0.1*np.sin((np.pi/(0.3*l))*np.arange(l))\n",
    "tgtLin = 1+np.arange(l)/l\n",
    "tgtExp = np.exp(5*np.arange(l)/l)\n",
    "tgtCon = np.repeat(1.0, l)\n",
    "\n",
    "# FIXME intercept?\n",
    "\n",
    "# TODO\n",
    "# * do regression for at least 2 time steps\n",
    "def estimate(target):\n",
    "    yes = []\n",
    "    t0 = time.time()\n",
    "    for i in range(0,l,step):\n",
    "        # Fit\n",
    "        x = np.mean(data[:24,:,i:i+binSize], axis=2)\n",
    "        #x = np.vstack([ np.mean(data[:24,:,i:i+j+binSize], axis=2) for j in range(step)])\n",
    "        #x = np.insert(x, 0, 1.0, axis=1)  # Add intercept?\n",
    "        y = np.tile(target[i], 24)\n",
    "        #y = np.tile(target[i:i+step-1, np.newaxis], 24).T\n",
    "        model = sm.OLS(y, x)\n",
    "        #params = model.fit().params\n",
    "        #params = model.fit_regularized(alpha=0.001, L1_wt=0.1).params\n",
    "        params = model.fit_regularized(alpha=0.0, L1_wt=0.0).params\n",
    "        # Predict\n",
    "        xe = np.mean(data[24,:,i:i+binSize], axis=1)\n",
    "        #xe = np.insert(xe, 0, 1.0, axis=0)  # Add intercept?\n",
    "        ye = np.dot(xe.T, params)\n",
    "        yes.append(ye)\n",
    "\n",
    "        t1 = time.time()\n",
    "        print(\"{}/{}, t = {}\".format(i+1, l, np.round(t1-t0,2)), end=\"\\r\")\n",
    "    return np.array(yes)"
   ]
  },
  {
   "cell_type": "code",
   "execution_count": null,
   "metadata": {},
   "outputs": [],
   "source": [
    "yes1 = estimate(tgtSin)\n",
    "yes2 = estimate(tgtLin)\n",
    "yes3 = estimate(tgtExp)\n",
    "yes4 = estimate(tgtCon)"
   ]
  },
  {
   "cell_type": "code",
   "execution_count": null,
   "metadata": {},
   "outputs": [],
   "source": [
    "e1 = np.sum((np.abs(yes1 - tgtSin))/tgtSin)\n",
    "print(e1)\n",
    "\n",
    "e2 = np.sum((np.abs(yes2 - tgtLin))/tgtLin)\n",
    "print(e2)\n",
    "\n",
    "e3 = np.sum((np.abs(yes3 - tgtExp))/tgtExp)\n",
    "print(e3)\n",
    "\n",
    "e4 = np.sum((np.abs(yes4 - tgtCon))/tgtCon)\n",
    "print(e4)"
   ]
  },
  {
   "cell_type": "code",
   "execution_count": null,
   "metadata": {},
   "outputs": [],
   "source": [
    "plt.plot(tgtExp, linewidth=3.0)\n",
    "#plt.plot(savgol_filter(yes3, 201, 1), linewidth=3.0)\n",
    "#plt.plot(savgol_filter(yes3, 201, 1), linewidth=3.0)\n",
    "plt.plot(yes3, linewidth=3.0)\n",
    "#plt.xlim((0,100))\n",
    "#plt.ylim((0.0,2.0))\n",
    "#plt.savefig(exp.net.plot.plotDir + 'output_prediction_smoothed.' + exp.p.pltFileType)\n",
    "plt.grid()\n",
    "\n",
    "p = plt.show()"
   ]
  },
  {
   "cell_type": "code",
   "execution_count": null,
   "metadata": {},
   "outputs": [],
   "source": [
    "plt.plot(tgtExp, linewidth=3.0)\n",
    "#plt.plot(savgol_filter(yes3, 201, 1), linewidth=3.0)\n",
    "#plt.plot(savgol_filter(yes3, 201, 1), linewidth=3.0)\n",
    "plt.plot(yes3, linewidth=3.0)\n",
    "#plt.xlim((0,100))\n",
    "#plt.ylim((0.0,2.0))\n",
    "#plt.savefig(exp.net.plot.plotDir + 'output_prediction_smoothed.' + exp.p.pltFileType)\n",
    "plt.grid()\n",
    "\n",
    "p = plt.show()"
   ]
  },
  {
   "cell_type": "code",
   "execution_count": null,
   "metadata": {},
   "outputs": [],
   "source": [
    "plt.plot(yes2)\n",
    "plt.plot(target[:-binSize])\n",
    "#plt.xlim((0,100))\n",
    "#plt.ylim((0.0,2.0))\n",
    "plt.savefig(exp.net.plot.plotDir + 'output_prediction.' + exp.p.pltFileType)\n",
    "p = plt.show()"
   ]
  },
  {
   "cell_type": "code",
   "execution_count": null,
   "metadata": {},
   "outputs": [],
   "source": [
    "plt.plot(yes2)\n",
    "plt.plot(target[:-binSize])\n",
    "#plt.xlim((0,100))\n",
    "#plt.ylim((0.0,2.0))\n",
    "plt.savefig(exp.net.plot.plotDir + 'output_prediction_all.' + exp.p.pltFileType)\n",
    "p = plt.show()"
   ]
  },
  {
   "cell_type": "code",
   "execution_count": null,
   "metadata": {},
   "outputs": [],
   "source": [
    "data = data[:,:,:50]"
   ]
  },
  {
   "cell_type": "code",
   "execution_count": null,
   "metadata": {},
   "outputs": [],
   "source": [
    "data.shape"
   ]
  },
  {
   "cell_type": "code",
   "execution_count": null,
   "metadata": {},
   "outputs": [],
   "source": [
    "30*24"
   ]
  },
  {
   "cell_type": "code",
   "execution_count": null,
   "metadata": {},
   "outputs": [],
   "source": [
    "np.vstack((x[:,0,:], x[:,1,:])).shape"
   ]
  },
  {
   "cell_type": "code",
   "execution_count": null,
   "metadata": {},
   "outputs": [],
   "source": [
    "train = data[:24,:,:]\n",
    "B, N, T = train.shape\n",
    "binSize = 2\n",
    "\n",
    "#target = 0.0-0.5*np.sin((np.pi/(0.3*s))*np.arange(s-binSize))\n",
    "#target = 1+np.arange(s)/s\n",
    "#target = np.exp(5*np.arange(s-binSize)/s)\n",
    "target = np.repeat(1.0, s-binSize)\n",
    "\n",
    "x = np.array([np.mean(train[:,:,i:i+binSize], axis=2) for i in range(T-binSize)])\n",
    "\n",
    "x = np.vstack(tuple( x[:,i,:] for i in range(B) ))\n",
    "\n",
    "x = np.insert(x, 0, 1.0, axis=1)  # Add intercept?\n",
    "\n",
    "print(x.shape)\n",
    "\n",
    "y = np.tile(target, B)\n",
    "\n",
    "model = sm.OLS(y, x)\n",
    "params = model.fit_regularized(alpha=0.0, L1_wt=0.0).params\n",
    "\n",
    "xe = data[24,:,:-binSize].T\n",
    "xe = np.insert(xe, 0, 1.0, axis=1)  # Add intercept?\n",
    "\n",
    "print(xe.shape)\n",
    "\n",
    "ye = np.dot(xe, params)\n",
    "\n",
    "plt.plot(target)\n",
    "plt.plot(ye)\n",
    "p = plt.show()"
   ]
  },
  {
   "cell_type": "code",
   "execution_count": null,
   "metadata": {},
   "outputs": [],
   "source": [
    "[t,n,s] = data.shape\n",
    "#target = 1.0-0.1*np.sin((np.pi/(0.3*s))*np.arange(s))\n",
    "#target = 1+np.arange(s)/s\n",
    "target = np.exp(5*np.arange(s)/s)\n",
    "#target = np.repeat(1.0, s)\n",
    "binSize = 10\n",
    "\n",
    "\n",
    "\n",
    "\n",
    "yes = []\n",
    "t0 = time.time()\n",
    "for i in range(0,s-binSize,step):\n",
    "    # Fit\n",
    "    x = np.mean(data[:24,:,i:i+binSize], axis=2)\n",
    "    #x = np.vstack([ np.mean(data[:24,:,i:i+j+binSize], axis=2) for j in range(step)])\n",
    "    #x = np.insert(x, 0, 1.0, axis=1)  # Add intercept?\n",
    "    y = np.tile(target[i], 24)\n",
    "    #y = np.tile(target[i:i+step-1, np.newaxis], 24).T\n",
    "    model = sm.OLS(y, x)\n",
    "    #params = model.fit().params\n",
    "    #params = model.fit_regularized(alpha=0.001, L1_wt=0.1).params\n",
    "    params = model.fit_regularized(alpha=0.0, L1_wt=0.0).params\n",
    "    # Predict\n",
    "    xe = np.mean(data[24,:,i:i+binSize], axis=1)\n",
    "    #xe = np.insert(xe, 0, 1.0, axis=0)  # Add intercept?\n",
    "    ye = np.dot(xe.T, params)\n",
    "    yes.append(ye)\n",
    "    \n",
    "    t1 = time.time()\n",
    "    print(\"{}/{}, t = {}\".format(i+1, int((s-binSize)/step), np.round(t1-t0,2)), end=\"\\r\")\n",
    "yes1 = np.array(yes)"
   ]
  },
  {
   "cell_type": "code",
   "execution_count": null,
   "metadata": {},
   "outputs": [],
   "source": [
    "data.shape"
   ]
  },
  {
   "cell_type": "code",
   "execution_count": null,
   "metadata": {},
   "outputs": [],
   "source": [
    "#target = exp.targetFunction\n",
    "[t,n,s] = data.shape\n",
    "target = np.exp(5*np.arange(s)/s)\n",
    "\n",
    "alpha = 0 #0.1 #0.001\n",
    "l1w= 0 #0.0005\n",
    "filter = \"bins\"\n",
    "binSize = 10\n",
    "\n",
    "(params, ye, performance) = utils.trainOLS(data[:24], data[24], target, alpha=alpha, l1w=l1w, filter=filter, binSize=binSize)\n",
    "\n",
    "print('Parameters set to zero: {}'.format(len(params[params==0])))\n",
    "\n",
    "#plt.title(\"p = \"+str(np.round(performance.cor, 2))+\", mse = \"+str(np.round(performance.mse, 2)))\n",
    "plt.plot(ye)\n",
    "#plt.plot(tgt)\n",
    "plt.plot(np.array([np.mean(target[i:i+binSize]) for i in range(0,len(target),binSize)]))\n",
    "p = plt.show()"
   ]
  },
  {
   "cell_type": "code",
   "execution_count": null,
   "metadata": {},
   "outputs": [],
   "source": [
    "tt = np.arange(exp.p.numChips*exp.p.numCoresPerChip)"
   ]
  },
  {
   "cell_type": "code",
   "execution_count": null,
   "metadata": {},
   "outputs": [],
   "source": [
    "ts = np.delete(tt, [0])\n",
    "np.delete(ts, [0])"
   ]
  },
  {
   "cell_type": "code",
   "execution_count": null,
   "metadata": {},
   "outputs": [],
   "source": []
  },
  {
   "cell_type": "code",
   "execution_count": null,
   "metadata": {},
   "outputs": [],
   "source": [
    "import os\n",
    "dirPath = os.getcwd()\n",
    "#dirPath\n",
    "#np.save(dirPath+'/data-out_2020-02-25_16-06.npy', data)"
   ]
  },
  {
   "cell_type": "code",
   "execution_count": null,
   "metadata": {},
   "outputs": [],
   "source": [
    "binSize = 10\n",
    "\n",
    "dtrans = []\n",
    "for i in range(data.shape[0]):\n",
    "    dataBinned = np.array([np.mean(data[i, :, j:j+binSize], axis=1) for j in range(0,data[i].shape[1],binSize)])\n",
    "    (d, evals, evecs) = utils.pca(dataBinned.astype(float), dims_rescaled_data=1)\n",
    "    dtrans.append(d)"
   ]
  },
  {
   "cell_type": "code",
   "execution_count": null,
   "metadata": {},
   "outputs": [],
   "source": [
    "plt.plot(dtrans[0])\n",
    "plt.plot(dtrans[1])\n",
    "plt.plot(dtrans[2])\n",
    "plt.plot(dtrans[3])\n",
    "plt.plot(dtrans[4])\n",
    "plt.plot(dtrans[10])"
   ]
  },
  {
   "cell_type": "code",
   "execution_count": null,
   "metadata": {},
   "outputs": [],
   "source": [
    "#for i in range(data.shape[0]):\n",
    "\n",
    "for i in range(25):\n",
    "    plt.plot(dtrans[i])"
   ]
  },
  {
   "cell_type": "code",
   "execution_count": null,
   "metadata": {},
   "outputs": [],
   "source": [
    "#import subprocess\n",
    "#subprocess.call(shlex.split(\"jupyter nbconvert notebook.ipynb --to pdf\"))"
   ]
  },
  {
   "cell_type": "code",
   "execution_count": null,
   "metadata": {},
   "outputs": [],
   "source": []
  }
 ],
 "metadata": {
  "kernelspec": {
   "display_name": "Python 3",
   "language": "python",
   "name": "python3"
  },
  "language_info": {
   "codemirror_mode": {
    "name": "ipython",
    "version": 3
   },
   "file_extension": ".py",
   "mimetype": "text/x-python",
   "name": "python",
   "nbconvert_exporter": "python",
   "pygments_lexer": "ipython3",
   "version": "3.5.2"
  }
 },
 "nbformat": 4,
 "nbformat_minor": 2
}
