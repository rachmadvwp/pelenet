{
 "cells": [
  {
   "cell_type": "code",
   "execution_count": 1,
   "metadata": {},
   "outputs": [],
   "source": [
    "# Allow reload of objects\n",
    "%load_ext autoreload\n",
    "%autoreload\n",
    "from pelenet.utils import Utils\n",
    "from pelenet.experiments.nestcomparison import NestComparison\n",
    "from pelenet.network import ReservoirNetwork\n",
    "\n",
    "# Official modules\n",
    "import numpy as np\n",
    "import scipy\n",
    "from scipy.sparse import csr_matrix\n",
    "import nxsdk.api.n2a as nx\n",
    "import matplotlib\n",
    "import matplotlib.pyplot as plt\n",
    "from matplotlib import colors\n",
    "import os\n",
    "from time import time\n",
    "import copy"
   ]
  },
  {
   "cell_type": "code",
   "execution_count": 2,
   "metadata": {},
   "outputs": [],
   "source": [
    "# Initilize utils\n",
    "utils = Utils.instance()"
   ]
  },
  {
   "cell_type": "code",
   "execution_count": 3,
   "metadata": {},
   "outputs": [],
   "source": [
    "def execRun(name, i):\n",
    "    \"\"\"\n",
    "    Read data\n",
    "    \"\"\"\n",
    "    # Add input\n",
    "    inp = np.load('data/nest2/'+str(name)+'/input_pop_'+str(i)+'.npy')\n",
    "\n",
    "    # Add mask\n",
    "    exex = csr_matrix(np.load('data/nest2/'+str(name)+'/weights_ee_'+str(i)+'.npy'))\n",
    "    exin = csr_matrix(np.load('data/nest2/'+str(name)+'/weights_ei_'+str(i)+'.npy'))\n",
    "    inex = csr_matrix(np.load('data/nest2/'+str(name)+'/weights_ii_'+str(i)+'.npy'))\n",
    "    inin = csr_matrix(np.load('data/nest2/'+str(name)+'/weights_ie_'+str(i)+'.npy'))\n",
    "    ma = { 'exex': exex, 'inin': inin, 'inex': inex, 'exin': exin }\n",
    "    \n",
    "    \"\"\"\n",
    "    Run experiment\n",
    "    \"\"\"\n",
    "    # Init experiment\n",
    "    exp = NestComparison()\n",
    "\n",
    "    # Build network\n",
    "    exp.net = ReservoirNetwork(exp.p)\n",
    "\n",
    "    # Define mask\n",
    "    exp.net.initialMasks.exex = ma['exex']\n",
    "    exp.net.initialMasks.exin = ma['exin']\n",
    "    exp.net.initialMasks.inex = ma['inex']\n",
    "    exp.net.initialMasks.inin = ma['inin']\n",
    "\n",
    "    # Set weights\n",
    "    exp.setSparseWeightMatrix()\n",
    "\n",
    "    # Connect\n",
    "    exp.net.connectReservoir()\n",
    "\n",
    "    # Add patch input\n",
    "    exp.net.addRepeatedPatchGenerator(idc = inp-1)\n",
    "\n",
    "    # Build the network structure\n",
    "    exp.net.build()\n",
    "\n",
    "    # Run network\n",
    "    exp.run()\n",
    "    \n",
    "    \"\"\"\n",
    "    Store data\n",
    "    \"\"\"\n",
    "    \n",
    "    spikes = exp.net.exSpikeTrains[:,exp.p.resetOffset:500+exp.p.resetOffset]\n",
    "    np.save('data/loihi/'+str(name)+'/spikes_'+str(i)+'.npy', spikes)\n",
    "    \n",
    "    #if i==0:\n",
    "    #    parameters = copy.deepcopy(exp.p)\n",
    "    #    np.save('data/loihi/'+str(name)+'/parameters.npy',parameters)"
   ]
  },
  {
   "cell_type": "code",
   "execution_count": 4,
   "metadata": {},
   "outputs": [
    {
     "name": "stdout",
     "output_type": "stream",
     "text": [
      "\u001b[1;30m\u001b[1;30mWARNING\u001b[0m\u001b[0m:\u001b[34m\u001b[34mDRV\u001b[0m\u001b[0m:  \u001b[33melementType would be deprecated in 0.9 in favor of messageSize, which provides more flexibility\u001b[0m\n",
      "\u001b[1;30m\u001b[1;30mWARNING\u001b[0m\u001b[0m:\u001b[34m\u001b[34mDRV\u001b[0m\u001b[0m:  \u001b[33melementType would be deprecated in 0.9 in favor of messageSize, which provides more flexibility\u001b[0m\n",
      "\u001b[1;30m\u001b[1;30mINFO\u001b[0m\u001b[0m:\u001b[34m\u001b[34mDRV\u001b[0m\u001b[0m:  Connecting to 127.0.0.1:35085\n",
      "\u001b[1;30m\u001b[1;30mINFO\u001b[0m\u001b[0m:\u001b[34m\u001b[34mDRV\u001b[0m\u001b[0m:      Host server up..............Done 0.05s\n",
      "\u001b[1;30m\u001b[1;30mINFO\u001b[0m\u001b[0m:\u001b[34m\u001b[34mDRV\u001b[0m\u001b[0m:      Encoding axons/synapses.....Done 14.64s\n",
      "\u001b[1;30m\u001b[1;30mWARNING\u001b[0m\u001b[0m:\u001b[34m\u001b[34mDRV\u001b[0m\u001b[0m:  \u001b[33m~/.local/share/virtualenvs/seq-r0_WvjRo/lib/python3.5/site-packages ~/05-reward/v0.x\n",
      "Compiling in directory : /home/seq/.local/share/virtualenvs/seq-r0_WvjRo/lib/python3.5/site-packages/nxsdk/driver/compilers/../../../temp/1592569539.891523\n",
      "Include dir is : /home/seq/.local/share/virtualenvs/seq-r0_WvjRo/lib/python3.5/site-packages/nxsdk/graph/nxinputgen/../../snips/ -I/home/seq/05-reward/v0.x/pelenet/snips/\n",
      "Compiling -c /home/seq/.local/share/virtualenvs/seq-r0_WvjRo/lib/python3.5/site-packages/nxsdk/driver/compilers/../../../temp/1592569539.891523/initnetwork_0_0.c\n",
      "gcc -Wall -I/home/seq/.local/share/virtualenvs/seq-r0_WvjRo/lib/python3.5/site-packages/nxsdk/graph/nxinputgen/../../snips/ -I/home/seq/05-reward/v0.x/pelenet/snips/ -Inxsdk/include -fno-stack-protector -msoft-float -m32 -march=i586 -fno-builtin-printf -fno-builtin-sprintf -fno-builtin-fprintf -fno-builtin-memcpy -fstrict-volatile-bitfields -Os -DNDEBUG -std=c99 -o /home/seq/.local/share/virtualenvs/seq-r0_WvjRo/lib/python3.5/site-packages/nxsdk/driver/compilers/../../../temp/1592569539.891523/initnetwork_0_0.c.o -c /home/seq/.local/share/virtualenvs/seq-r0_WvjRo/lib/python3.5/site-packages/nxsdk/driver/compilers/../../../temp/1592569539.891523/initnetwork_0_0.c\n",
      "Compiling without -c /home/seq/.local/share/virtualenvs/seq-r0_WvjRo/lib/python3.5/site-packages/nxsdk/driver/compilers/../../../temp/1592569539.891523/0_spiking_packed.c\n",
      "gcc -Wall -I/home/seq/.local/share/virtualenvs/seq-r0_WvjRo/lib/python3.5/site-packages/nxsdk/graph/nxinputgen/../../snips/ -I/home/seq/05-reward/v0.x/pelenet/snips/ -Inxsdk/include -fno-stack-protector -msoft-float -m32 -march=i586 -fno-builtin-printf -fno-builtin-sprintf -fno-builtin-fprintf -fno-builtin-memcpy -fstrict-volatile-bitfields -Os -DNDEBUG -std=c99 -o /home/seq/.local/share/virtualenvs/seq-r0_WvjRo/lib/python3.5/site-packages/nxsdk/driver/compilers/../../../temp/1592569539.891523/0_spiking_packed.c.o -c /home/seq/.local/share/virtualenvs/seq-r0_WvjRo/lib/python3.5/site-packages/nxsdk/driver/compilers/../../../temp/1592569539.891523/0_spiking_packed.c\n",
      "Compiling without -c /home/seq/.local/share/virtualenvs/seq-r0_WvjRo/lib/python3.5/site-packages/nxsdk/driver/compilers/../../../temp/1592569539.891523/1_reset_init.c\n",
      "gcc -Wall -I/home/seq/.local/share/virtualenvs/seq-r0_WvjRo/lib/python3.5/site-packages/nxsdk/graph/nxinputgen/../../snips/ -I/home/seq/05-reward/v0.x/pelenet/snips/ -Inxsdk/include -fno-stack-protector -msoft-float -m32 -march=i586 -fno-builtin-printf -fno-builtin-sprintf -fno-builtin-fprintf -fno-builtin-memcpy -fstrict-volatile-bitfields -Os -DNDEBUG -std=c99 -o /home/seq/.local/share/virtualenvs/seq-r0_WvjRo/lib/python3.5/site-packages/nxsdk/driver/compilers/../../../temp/1592569539.891523/1_reset_init.c.o -c /home/seq/.local/share/virtualenvs/seq-r0_WvjRo/lib/python3.5/site-packages/nxsdk/driver/compilers/../../../temp/1592569539.891523/1_reset_init.c\n",
      "Compiling without -c /home/seq/.local/share/virtualenvs/seq-r0_WvjRo/lib/python3.5/site-packages/nxsdk/driver/compilers/../../../temp/1592569539.891523/2_reset.c\n",
      "gcc -Wall -I/home/seq/.local/share/virtualenvs/seq-r0_WvjRo/lib/python3.5/site-packages/nxsdk/graph/nxinputgen/../../snips/ -I/home/seq/05-reward/v0.x/pelenet/snips/ -Inxsdk/include -fno-stack-protector -msoft-float -m32 -march=i586 -fno-builtin-printf -fno-builtin-sprintf -fno-builtin-fprintf -fno-builtin-memcpy -fstrict-volatile-bitfields -Os -DNDEBUG -std=c99 -o /home/seq/.local/share/virtualenvs/seq-r0_WvjRo/lib/python3.5/site-packages/nxsdk/driver/compilers/../../../temp/1592569539.891523/2_reset.c.o -c /home/seq/.local/share/virtualenvs/seq-r0_WvjRo/lib/python3.5/site-packages/nxsdk/driver/compilers/../../../temp/1592569539.891523/2_reset.c\n",
      "/home/seq/05-reward/v0.x/pelenet/snips//reset.c: In function ‘reset’:\n",
      "/home/seq/05-reward/v0.x/pelenet/snips//reset.c:45:9: warning: dereferencing type-punned pointer will break strict-aliasing rules [-Wstrict-aliasing]\n",
      "         nx_fast_init64(nc->cx_state, neuronsPerCore, *(uint64_t*)&cxs);\n",
      "         ^~~~~~~~~~~~~~\n",
      "/home/seq/05-reward/v0.x/pelenet/snips//reset.c:60:13: warning: dereferencing type-punned pointer will break strict-aliasing rules [-Wstrict-aliasing]\n",
      "             nx_fast_init32(nc->cx_meta_state, neuronsPerCore/4, *(uint32_t*)&ms);\n",
      "             ^~~~~~~~~~~~~~\n",
      "Compiling without -c /home/seq/.local/share/virtualenvs/seq-r0_WvjRo/lib/python3.5/site-packages/nxsdk/driver/compilers/../../../temp/1592569539.891523/main_0_0.c\n",
      "gcc -Wall -I/home/seq/.local/share/virtualenvs/seq-r0_WvjRo/lib/python3.5/site-packages/nxsdk/graph/nxinputgen/../../snips/ -I/home/seq/05-reward/v0.x/pelenet/snips/ -Inxsdk/include -fno-stack-protector -msoft-float -m32 -march=i586 -fno-builtin-printf -fno-builtin-sprintf -fno-builtin-fprintf -fno-builtin-memcpy -fstrict-volatile-bitfields -Os -DNDEBUG -std=c99 -o /home/seq/.local/share/virtualenvs/seq-r0_WvjRo/lib/python3.5/site-packages/nxsdk/driver/compilers/../../../temp/1592569539.891523/main_0_0.c.o -c /home/seq/.local/share/virtualenvs/seq-r0_WvjRo/lib/python3.5/site-packages/nxsdk/driver/compilers/../../../temp/1592569539.891523/main_0_0.c\n",
      "OBJFILES :  /home/seq/.local/share/virtualenvs/seq-r0_WvjRo/lib/python3.5/site-packages/nxsdk/driver/compilers/../../../temp/1592569539.891523/initnetwork_0_0.c.o /home/seq/.local/share/virtualenvs/seq-r0_WvjRo/lib/python3.5/site-packages/nxsdk/driver/compilers/../../../temp/1592569539.891523/0_spiking_packed.c.o /home/seq/.local/share/virtualenvs/seq-r0_WvjRo/lib/python3.5/site-packages/nxsdk/driver/compilers/../../../temp/1592569539.891523/1_reset_init.c.o /home/seq/.local/share/virtualenvs/seq-r0_WvjRo/lib/python3.5/site-packages/nxsdk/driver/compilers/../../../temp/1592569539.891523/2_reset.c.o /home/seq/.local/share/virtualenvs/seq-r0_WvjRo/lib/python3.5/site-packages/nxsdk/driver/compilers/../../../temp/1592569539.891523/main_0_0.c.o\n",
      "gcc -Wall -fno-stack-protector -msoft-float -m32 -march=i586 -fno-builtin-printf -fno-builtin-sprintf -fno-builtin-fprintf -fno-builtin-memcpy -fstrict-volatile-bitfields -Os -DNDEBUG -std=c99 /home/seq/.local/share/virtualenvs/seq-r0_WvjRo/lib/python3.5/site-packages/nxsdk/driver/compilers/../../../temp/1592569539.891523/initnetwork_0_0.c.o /home/seq/.local/share/virtualenvs/seq-r0_WvjRo/lib/python3.5/site-packages/nxsdk/driver/compilers/../../../temp/1592569539.891523/0_spiking_packed.c.o /home/seq/.local/share/virtualenvs/seq-r0_WvjRo/lib/python3.5/site-packages/nxsdk/driver/compilers/../../../temp/1592569539.891523/1_reset_init.c.o /home/seq/.local/share/virtualenvs/seq-r0_WvjRo/lib/python3.5/site-packages/nxsdk/driver/compilers/../../../temp/1592569539.891523/2_reset.c.o /home/seq/.local/share/virtualenvs/seq-r0_WvjRo/lib/python3.5/site-packages/nxsdk/driver/compilers/../../../temp/1592569539.891523/main_0_0.c.o -o /home/seq/.local/share/virtualenvs/seq-r0_WvjRo/lib/python3.5/site-packages/nxsdk/driver/compilers/../../../temp/1592569539.891523/launcher.link nxsdk/lib/embedded/libboot.a nxsdk/lib/embedded/libembedded_nx.a nxsdk/lib/embedded/liblmt.a nxsdk/lib/embedded/libnx.a -Wl,--script=nxsdk/utils/linker.scr -Wl,--build-id=none -Wl,-N -nostdlib\n",
      "\u001b[0m\n",
      "\u001b[1;30m\u001b[1;30mWARNING\u001b[0m\u001b[0m:\u001b[34m\u001b[34mDRV\u001b[0m\u001b[0m:  \u001b[33m~/.local/share/virtualenvs/seq-r0_WvjRo/lib/python3.5/site-packages ~/05-reward/v0.x\n",
      "Compiling in directory : /home/seq/.local/share/virtualenvs/seq-r0_WvjRo/lib/python3.5/site-packages/nxsdk/driver/compilers/../../../temp/1592569539.891523\n",
      "Include dir is : /home/seq/05-reward/v0.x/pelenet/snips/\n",
      "Compiling -c /home/seq/.local/share/virtualenvs/seq-r0_WvjRo/lib/python3.5/site-packages/nxsdk/driver/compilers/../../../temp/1592569539.891523/initnetwork_1_0.c\n",
      "gcc -Wall -I/home/seq/05-reward/v0.x/pelenet/snips/ -Inxsdk/include -fno-stack-protector -msoft-float -m32 -march=i586 -fno-builtin-printf -fno-builtin-sprintf -fno-builtin-fprintf -fno-builtin-memcpy -fstrict-volatile-bitfields -Os -DNDEBUG -std=c99 -o /home/seq/.local/share/virtualenvs/seq-r0_WvjRo/lib/python3.5/site-packages/nxsdk/driver/compilers/../../../temp/1592569539.891523/initnetwork_1_0.c.o -c /home/seq/.local/share/virtualenvs/seq-r0_WvjRo/lib/python3.5/site-packages/nxsdk/driver/compilers/../../../temp/1592569539.891523/initnetwork_1_0.c\n",
      "Compiling without -c /home/seq/.local/share/virtualenvs/seq-r0_WvjRo/lib/python3.5/site-packages/nxsdk/driver/compilers/../../../temp/1592569539.891523/0_reset_init.c\n",
      "gcc -Wall -I/home/seq/05-reward/v0.x/pelenet/snips/ -Inxsdk/include -fno-stack-protector -msoft-float -m32 -march=i586 -fno-builtin-printf -fno-builtin-sprintf -fno-builtin-fprintf -fno-builtin-memcpy -fstrict-volatile-bitfields -Os -DNDEBUG -std=c99 -o /home/seq/.local/share/virtualenvs/seq-r0_WvjRo/lib/python3.5/site-packages/nxsdk/driver/compilers/../../../temp/1592569539.891523/0_reset_init.c.o -c /home/seq/.local/share/virtualenvs/seq-r0_WvjRo/lib/python3.5/site-packages/nxsdk/driver/compilers/../../../temp/1592569539.891523/0_reset_init.c\n",
      "Compiling without -c /home/seq/.local/share/virtualenvs/seq-r0_WvjRo/lib/python3.5/site-packages/nxsdk/driver/compilers/../../../temp/1592569539.891523/1_reset.c\n",
      "gcc -Wall -I/home/seq/05-reward/v0.x/pelenet/snips/ -Inxsdk/include -fno-stack-protector -msoft-float -m32 -march=i586 -fno-builtin-printf -fno-builtin-sprintf -fno-builtin-fprintf -fno-builtin-memcpy -fstrict-volatile-bitfields -Os -DNDEBUG -std=c99 -o /home/seq/.local/share/virtualenvs/seq-r0_WvjRo/lib/python3.5/site-packages/nxsdk/driver/compilers/../../../temp/1592569539.891523/1_reset.c.o -c /home/seq/.local/share/virtualenvs/seq-r0_WvjRo/lib/python3.5/site-packages/nxsdk/driver/compilers/../../../temp/1592569539.891523/1_reset.c\n",
      "/home/seq/05-reward/v0.x/pelenet/snips//reset.c: In function ‘reset’:\n",
      "/home/seq/05-reward/v0.x/pelenet/snips//reset.c:45:9: warning: dereferencing type-punned pointer will break strict-aliasing rules [-Wstrict-aliasing]\n",
      "         nx_fast_init64(nc->cx_state, neuronsPerCore, *(uint64_t*)&cxs);\n",
      "         ^~~~~~~~~~~~~~\n",
      "/home/seq/05-reward/v0.x/pelenet/snips//reset.c:60:13: warning: dereferencing type-punned pointer will break strict-aliasing rules [-Wstrict-aliasing]\n",
      "             nx_fast_init32(nc->cx_meta_state, neuronsPerCore/4, *(uint32_t*)&ms);\n",
      "             ^~~~~~~~~~~~~~\n",
      "Compiling without -c /home/seq/.local/share/virtualenvs/seq-r0_WvjRo/lib/python3.5/site-packages/nxsdk/driver/compilers/../../../temp/1592569539.891523/main_1_0.c\n",
      "gcc -Wall -I/home/seq/05-reward/v0.x/pelenet/snips/ -Inxsdk/include -fno-stack-protector -msoft-float -m32 -march=i586 -fno-builtin-printf -fno-builtin-sprintf -fno-builtin-fprintf -fno-builtin-memcpy -fstrict-volatile-bitfields -Os -DNDEBUG -std=c99 -o /home/seq/.local/share/virtualenvs/seq-r0_WvjRo/lib/python3.5/site-packages/nxsdk/driver/compilers/../../../temp/1592569539.891523/main_1_0.c.o -c /home/seq/.local/share/virtualenvs/seq-r0_WvjRo/lib/python3.5/site-packages/nxsdk/driver/compilers/../../../temp/1592569539.891523/main_1_0.c\n",
      "OBJFILES :  /home/seq/.local/share/virtualenvs/seq-r0_WvjRo/lib/python3.5/site-packages/nxsdk/driver/compilers/../../../temp/1592569539.891523/initnetwork_1_0.c.o /home/seq/.local/share/virtualenvs/seq-r0_WvjRo/lib/python3.5/site-packages/nxsdk/driver/compilers/../../../temp/1592569539.891523/0_reset_init.c.o /home/seq/.local/share/virtualenvs/seq-r0_WvjRo/lib/python3.5/site-packages/nxsdk/driver/compilers/../../../temp/1592569539.891523/1_reset.c.o /home/seq/.local/share/virtualenvs/seq-r0_WvjRo/lib/python3.5/site-packages/nxsdk/driver/compilers/../../../temp/1592569539.891523/main_1_0.c.o\n",
      "gcc -Wall -fno-stack-protector -msoft-float -m32 -march=i586 -fno-builtin-printf -fno-builtin-sprintf -fno-builtin-fprintf -fno-builtin-memcpy -fstrict-volatile-bitfields -Os -DNDEBUG -std=c99 /home/seq/.local/share/virtualenvs/seq-r0_WvjRo/lib/python3.5/site-packages/nxsdk/driver/compilers/../../../temp/1592569539.891523/initnetwork_1_0.c.o /home/seq/.local/share/virtualenvs/seq-r0_WvjRo/lib/python3.5/site-packages/nxsdk/driver/compilers/../../../temp/1592569539.891523/0_reset_init.c.o /home/seq/.local/share/virtualenvs/seq-r0_WvjRo/lib/python3.5/site-packages/nxsdk/driver/compilers/../../../temp/1592569539.891523/1_reset.c.o /home/seq/.local/share/virtualenvs/seq-r0_WvjRo/lib/python3.5/site-packages/nxsdk/driver/compilers/../../../temp/1592569539.891523/main_1_0.c.o -o /home/seq/.local/share/virtualenvs/seq-r0_WvjRo/lib/python3.5/site-packages/nxsdk/driver/compilers/../../../temp/1592569539.891523/launcher.link nxsdk/lib/embedded/libboot.a nxsdk/lib/embedded/libembedded_nx.a nxsdk/lib/embedded/liblmt.a nxsdk/lib/embedded/libnx.a -Wl,--script=nxsdk/utils/linker.scr -Wl,--build-id=none -Wl,-N -nostdlib\n",
      "\u001b[0m\n"
     ]
    },
    {
     "name": "stdout",
     "output_type": "stream",
     "text": [
      "\u001b[1;30m\u001b[1;30mINFO\u001b[0m\u001b[0m:\u001b[34m\u001b[34mDRV\u001b[0m\u001b[0m:      Compiling Embedded snips....Done 0.56s\n",
      "\u001b[1;30m\u001b[1;30mINFO\u001b[0m\u001b[0m:\u001b[34m\u001b[34mDRV\u001b[0m\u001b[0m:      Encoding probes.............Done 3.89ms\n",
      "\u001b[1;30m\u001b[1;30mINFO\u001b[0m\u001b[0m:\u001b[34m\u001b[34mHST\u001b[0m\u001b[0m:  Using Kapoho Bay serial number 308\n",
      "\u001b[1;30m\u001b[1;30mINFO\u001b[0m\u001b[0m:\u001b[34m\u001b[34mHST\u001b[0m\u001b[0m:  Args chip=0 cpu=0 /home/seq/.local/share/virtualenvs/seq-r0_WvjRo/lib/python3.5/site-packages/nxsdk/driver/compilers/../../../temp/1592569539.891523/launcher_chip0_lmt0.bin --chips=2 --remote-relay=0 --epoch=0 \n",
      "\u001b[1;30m\u001b[1;30mINFO\u001b[0m\u001b[0m:\u001b[34m\u001b[34mHST\u001b[0m\u001b[0m:  Args chip=1 cpu=0 /home/seq/.local/share/virtualenvs/seq-r0_WvjRo/lib/python3.5/site-packages/nxsdk/driver/compilers/../../../temp/1592569539.891523/launcher_chip1_lmt0.bin --chips=2 --remote-relay=0 --epoch=0 \n",
      "\u001b[1;30m\u001b[1;30mINFO\u001b[0m\u001b[0m:\u001b[34m\u001b[34mHST\u001b[0m\u001b[0m:  Lakemont_driver...\n",
      "\u001b[1;30m\u001b[1;30mINFO\u001b[0m\u001b[0m:\u001b[34m\u001b[34mDRV\u001b[0m\u001b[0m:      Booting up..................Done 1.50s\n",
      "\u001b[1;30m\u001b[1;30mINFO\u001b[0m\u001b[0m:\u001b[34m\u001b[34mDRV\u001b[0m\u001b[0m:      Transferring probes.........Done 0.02s\n",
      "\u001b[1;30m\u001b[1;30mINFO\u001b[0m\u001b[0m:\u001b[34m\u001b[34mDRV\u001b[0m\u001b[0m:      Configuring registers.......Done 16.27s\n",
      "\u001b[1;30m\u001b[1;30mINFO\u001b[0m\u001b[0m:\u001b[34m\u001b[34mDRV\u001b[0m\u001b[0m:      Transferring spikes.........Done 6.73ms\n",
      "\u001b[1;30m\u001b[1;30mINFO\u001b[0m\u001b[0m:\u001b[34m\u001b[34mHST\u001b[0m\u001b[0m:  chip=1 cpu=0 Transfered values 20, 535, 30 \n",
      "\u001b[1;30m\u001b[1;30mINFO\u001b[0m\u001b[0m:\u001b[34m\u001b[34mHST\u001b[0m\u001b[0m:  chip=0 cpu=0 Transfered values 20, 535, 30 \n",
      "\u001b[1;30m\u001b[1;30mINFO\u001b[0m\u001b[0m:\u001b[34m\u001b[34mHST\u001b[0m\u001b[0m:  chip=0 cpu=0 Reset current/voltage from time step 0 to 30\n",
      "\u001b[1;30m\u001b[1;30mINFO\u001b[0m\u001b[0m:\u001b[34m\u001b[34mHST\u001b[0m\u001b[0m:  chip=1 cpu=0 Reset current/voltage from time step 0 to 30\n",
      "\u001b[1;30m\u001b[1;30mINFO\u001b[0m\u001b[0m:\u001b[34m\u001b[34mHST\u001b[0m\u001b[0m:  chip=0 cpu=0 Reset functional state at 30\n",
      "\u001b[1;30m\u001b[1;30mINFO\u001b[0m\u001b[0m:\u001b[34m\u001b[34mHST\u001b[0m\u001b[0m:  chip=1 cpu=0 Reset functional state at 30\n",
      "\u001b[1;30m\u001b[1;30mINFO\u001b[0m\u001b[0m:\u001b[34m\u001b[34mDRV\u001b[0m\u001b[0m:      Executing...................Done 34.34s\n",
      "\u001b[1;30m\u001b[1;30mINFO\u001b[0m\u001b[0m:\u001b[34m\u001b[34mDRV\u001b[0m\u001b[0m:      Processing timeseries.......Done 0.24s\n",
      "\u001b[1;30m\u001b[1;30mINFO\u001b[0m\u001b[0m:\u001b[34m\u001b[34mDRV\u001b[0m\u001b[0m:  Executor: 535 timesteps.........Done 50.88s\n",
      "\u001b[1;30m\u001b[1;30mINFO\u001b[0m\u001b[0m:\u001b[34m\u001b[34mHST\u001b[0m\u001b[0m:  chip=0 cpu=0 halted, status=0x0\n",
      "\u001b[1;30m\u001b[1;30mINFO\u001b[0m\u001b[0m:\u001b[34m\u001b[34mHST\u001b[0m\u001b[0m:  chip=1 cpu=0 halted, status=0x0\n",
      "\u001b[1;30m\u001b[1;30m\u001b[1;30mWARNING\u001b[0m\u001b[0m\u001b[0m:\u001b[34m\u001b[34m\u001b[34mDRV\u001b[0m\u001b[0m\u001b[0m:  \u001b[33melementType would be deprecated in 0.9 in favor of messageSize, which provides more flexibility\u001b[0m\n",
      "\u001b[1;30m\u001b[1;30m\u001b[1;30mWARNING\u001b[0m\u001b[0m\u001b[0m:\u001b[34m\u001b[34m\u001b[34mDRV\u001b[0m\u001b[0m\u001b[0m:  \u001b[33melementType would be deprecated in 0.9 in favor of messageSize, which provides more flexibility\u001b[0m\n",
      "\u001b[1;30m\u001b[1;30m\u001b[1;30mINFO\u001b[0m\u001b[0m\u001b[0m:\u001b[34m\u001b[34m\u001b[34mDRV\u001b[0m\u001b[0m\u001b[0m:  Connecting to 127.0.0.1:37403\n",
      "\u001b[1;30m\u001b[1;30m\u001b[1;30mINFO\u001b[0m\u001b[0m\u001b[0m:\u001b[34m\u001b[34m\u001b[34mDRV\u001b[0m\u001b[0m\u001b[0m:      Host server up..............Done 0.07s\n",
      "\u001b[1;30m\u001b[1;30m\u001b[1;30mINFO\u001b[0m\u001b[0m\u001b[0m:\u001b[34m\u001b[34m\u001b[34mDRV\u001b[0m\u001b[0m\u001b[0m:      Encoding axons/synapses.....Done 14.65s\n",
      "\u001b[1;30m\u001b[1;30m\u001b[1;30mWARNING\u001b[0m\u001b[0m\u001b[0m:\u001b[34m\u001b[34m\u001b[34mDRV\u001b[0m\u001b[0m\u001b[0m:  \u001b[33m~/.local/share/virtualenvs/seq-r0_WvjRo/lib/python3.5/site-packages ~/05-reward/v0.x\n",
      "Compiling in directory : /home/seq/.local/share/virtualenvs/seq-r0_WvjRo/lib/python3.5/site-packages/nxsdk/driver/compilers/../../../temp/1592569746.8206239\n",
      "Include dir is : /home/seq/.local/share/virtualenvs/seq-r0_WvjRo/lib/python3.5/site-packages/nxsdk/graph/nxinputgen/../../snips/ -I/home/seq/05-reward/v0.x/pelenet/snips/\n",
      "Compiling -c /home/seq/.local/share/virtualenvs/seq-r0_WvjRo/lib/python3.5/site-packages/nxsdk/driver/compilers/../../../temp/1592569746.8206239/initnetwork_0_0.c\n",
      "gcc -Wall -I/home/seq/.local/share/virtualenvs/seq-r0_WvjRo/lib/python3.5/site-packages/nxsdk/graph/nxinputgen/../../snips/ -I/home/seq/05-reward/v0.x/pelenet/snips/ -Inxsdk/include -fno-stack-protector -msoft-float -m32 -march=i586 -fno-builtin-printf -fno-builtin-sprintf -fno-builtin-fprintf -fno-builtin-memcpy -fstrict-volatile-bitfields -Os -DNDEBUG -std=c99 -o /home/seq/.local/share/virtualenvs/seq-r0_WvjRo/lib/python3.5/site-packages/nxsdk/driver/compilers/../../../temp/1592569746.8206239/initnetwork_0_0.c.o -c /home/seq/.local/share/virtualenvs/seq-r0_WvjRo/lib/python3.5/site-packages/nxsdk/driver/compilers/../../../temp/1592569746.8206239/initnetwork_0_0.c\n",
      "Compiling without -c /home/seq/.local/share/virtualenvs/seq-r0_WvjRo/lib/python3.5/site-packages/nxsdk/driver/compilers/../../../temp/1592569746.8206239/0_spiking_packed.c\n",
      "gcc -Wall -I/home/seq/.local/share/virtualenvs/seq-r0_WvjRo/lib/python3.5/site-packages/nxsdk/graph/nxinputgen/../../snips/ -I/home/seq/05-reward/v0.x/pelenet/snips/ -Inxsdk/include -fno-stack-protector -msoft-float -m32 -march=i586 -fno-builtin-printf -fno-builtin-sprintf -fno-builtin-fprintf -fno-builtin-memcpy -fstrict-volatile-bitfields -Os -DNDEBUG -std=c99 -o /home/seq/.local/share/virtualenvs/seq-r0_WvjRo/lib/python3.5/site-packages/nxsdk/driver/compilers/../../../temp/1592569746.8206239/0_spiking_packed.c.o -c /home/seq/.local/share/virtualenvs/seq-r0_WvjRo/lib/python3.5/site-packages/nxsdk/driver/compilers/../../../temp/1592569746.8206239/0_spiking_packed.c\n",
      "Compiling without -c /home/seq/.local/share/virtualenvs/seq-r0_WvjRo/lib/python3.5/site-packages/nxsdk/driver/compilers/../../../temp/1592569746.8206239/1_reset_init.c\n",
      "gcc -Wall -I/home/seq/.local/share/virtualenvs/seq-r0_WvjRo/lib/python3.5/site-packages/nxsdk/graph/nxinputgen/../../snips/ -I/home/seq/05-reward/v0.x/pelenet/snips/ -Inxsdk/include -fno-stack-protector -msoft-float -m32 -march=i586 -fno-builtin-printf -fno-builtin-sprintf -fno-builtin-fprintf -fno-builtin-memcpy -fstrict-volatile-bitfields -Os -DNDEBUG -std=c99 -o /home/seq/.local/share/virtualenvs/seq-r0_WvjRo/lib/python3.5/site-packages/nxsdk/driver/compilers/../../../temp/1592569746.8206239/1_reset_init.c.o -c /home/seq/.local/share/virtualenvs/seq-r0_WvjRo/lib/python3.5/site-packages/nxsdk/driver/compilers/../../../temp/1592569746.8206239/1_reset_init.c\n",
      "Compiling without -c /home/seq/.local/share/virtualenvs/seq-r0_WvjRo/lib/python3.5/site-packages/nxsdk/driver/compilers/../../../temp/1592569746.8206239/2_reset.c\n",
      "gcc -Wall -I/home/seq/.local/share/virtualenvs/seq-r0_WvjRo/lib/python3.5/site-packages/nxsdk/graph/nxinputgen/../../snips/ -I/home/seq/05-reward/v0.x/pelenet/snips/ -Inxsdk/include -fno-stack-protector -msoft-float -m32 -march=i586 -fno-builtin-printf -fno-builtin-sprintf -fno-builtin-fprintf -fno-builtin-memcpy -fstrict-volatile-bitfields -Os -DNDEBUG -std=c99 -o /home/seq/.local/share/virtualenvs/seq-r0_WvjRo/lib/python3.5/site-packages/nxsdk/driver/compilers/../../../temp/1592569746.8206239/2_reset.c.o -c /home/seq/.local/share/virtualenvs/seq-r0_WvjRo/lib/python3.5/site-packages/nxsdk/driver/compilers/../../../temp/1592569746.8206239/2_reset.c\n",
      "/home/seq/05-reward/v0.x/pelenet/snips//reset.c: In function ‘reset’:\n",
      "/home/seq/05-reward/v0.x/pelenet/snips//reset.c:45:9: warning: dereferencing type-punned pointer will break strict-aliasing rules [-Wstrict-aliasing]\n",
      "         nx_fast_init64(nc->cx_state, neuronsPerCore, *(uint64_t*)&cxs);\n",
      "         ^~~~~~~~~~~~~~\n",
      "/home/seq/05-reward/v0.x/pelenet/snips//reset.c:60:13: warning: dereferencing type-punned pointer will break strict-aliasing rules [-Wstrict-aliasing]\n",
      "             nx_fast_init32(nc->cx_meta_state, neuronsPerCore/4, *(uint32_t*)&ms);\n",
      "             ^~~~~~~~~~~~~~\n",
      "Compiling without -c /home/seq/.local/share/virtualenvs/seq-r0_WvjRo/lib/python3.5/site-packages/nxsdk/driver/compilers/../../../temp/1592569746.8206239/main_0_0.c\n",
      "gcc -Wall -I/home/seq/.local/share/virtualenvs/seq-r0_WvjRo/lib/python3.5/site-packages/nxsdk/graph/nxinputgen/../../snips/ -I/home/seq/05-reward/v0.x/pelenet/snips/ -Inxsdk/include -fno-stack-protector -msoft-float -m32 -march=i586 -fno-builtin-printf -fno-builtin-sprintf -fno-builtin-fprintf -fno-builtin-memcpy -fstrict-volatile-bitfields -Os -DNDEBUG -std=c99 -o /home/seq/.local/share/virtualenvs/seq-r0_WvjRo/lib/python3.5/site-packages/nxsdk/driver/compilers/../../../temp/1592569746.8206239/main_0_0.c.o -c /home/seq/.local/share/virtualenvs/seq-r0_WvjRo/lib/python3.5/site-packages/nxsdk/driver/compilers/../../../temp/1592569746.8206239/main_0_0.c\n",
      "OBJFILES :  /home/seq/.local/share/virtualenvs/seq-r0_WvjRo/lib/python3.5/site-packages/nxsdk/driver/compilers/../../../temp/1592569746.8206239/initnetwork_0_0.c.o /home/seq/.local/share/virtualenvs/seq-r0_WvjRo/lib/python3.5/site-packages/nxsdk/driver/compilers/../../../temp/1592569746.8206239/0_spiking_packed.c.o /home/seq/.local/share/virtualenvs/seq-r0_WvjRo/lib/python3.5/site-packages/nxsdk/driver/compilers/../../../temp/1592569746.8206239/1_reset_init.c.o /home/seq/.local/share/virtualenvs/seq-r0_WvjRo/lib/python3.5/site-packages/nxsdk/driver/compilers/../../../temp/1592569746.8206239/2_reset.c.o /home/seq/.local/share/virtualenvs/seq-r0_WvjRo/lib/python3.5/site-packages/nxsdk/driver/compilers/../../../temp/1592569746.8206239/main_0_0.c.o\n",
      "gcc -Wall -fno-stack-protector -msoft-float -m32 -march=i586 -fno-builtin-printf -fno-builtin-sprintf -fno-builtin-fprintf -fno-builtin-memcpy -fstrict-volatile-bitfields -Os -DNDEBUG -std=c99 /home/seq/.local/share/virtualenvs/seq-r0_WvjRo/lib/python3.5/site-packages/nxsdk/driver/compilers/../../../temp/1592569746.8206239/initnetwork_0_0.c.o /home/seq/.local/share/virtualenvs/seq-r0_WvjRo/lib/python3.5/site-packages/nxsdk/driver/compilers/../../../temp/1592569746.8206239/0_spiking_packed.c.o /home/seq/.local/share/virtualenvs/seq-r0_WvjRo/lib/python3.5/site-packages/nxsdk/driver/compilers/../../../temp/1592569746.8206239/1_reset_init.c.o /home/seq/.local/share/virtualenvs/seq-r0_WvjRo/lib/python3.5/site-packages/nxsdk/driver/compilers/../../../temp/1592569746.8206239/2_reset.c.o /home/seq/.local/share/virtualenvs/seq-r0_WvjRo/lib/python3.5/site-packages/nxsdk/driver/compilers/../../../temp/1592569746.8206239/main_0_0.c.o -o /home/seq/.local/share/virtualenvs/seq-r0_WvjRo/lib/python3.5/site-packages/nxsdk/driver/compilers/../../../temp/1592569746.8206239/launcher.link nxsdk/lib/embedded/libboot.a nxsdk/lib/embedded/libembedded_nx.a nxsdk/lib/embedded/liblmt.a nxsdk/lib/embedded/libnx.a -Wl,--script=nxsdk/utils/linker.scr -Wl,--build-id=none -Wl,-N -nostdlib\n",
      "\u001b[0m\n"
     ]
    },
    {
     "name": "stdout",
     "output_type": "stream",
     "text": [
      "\u001b[1;30m\u001b[1;30m\u001b[1;30mWARNING\u001b[0m\u001b[0m\u001b[0m:\u001b[34m\u001b[34m\u001b[34mDRV\u001b[0m\u001b[0m\u001b[0m:  \u001b[33m~/.local/share/virtualenvs/seq-r0_WvjRo/lib/python3.5/site-packages ~/05-reward/v0.x\n",
      "Compiling in directory : /home/seq/.local/share/virtualenvs/seq-r0_WvjRo/lib/python3.5/site-packages/nxsdk/driver/compilers/../../../temp/1592569746.8206239\n",
      "Include dir is : /home/seq/05-reward/v0.x/pelenet/snips/\n",
      "Compiling -c /home/seq/.local/share/virtualenvs/seq-r0_WvjRo/lib/python3.5/site-packages/nxsdk/driver/compilers/../../../temp/1592569746.8206239/initnetwork_1_0.c\n",
      "gcc -Wall -I/home/seq/05-reward/v0.x/pelenet/snips/ -Inxsdk/include -fno-stack-protector -msoft-float -m32 -march=i586 -fno-builtin-printf -fno-builtin-sprintf -fno-builtin-fprintf -fno-builtin-memcpy -fstrict-volatile-bitfields -Os -DNDEBUG -std=c99 -o /home/seq/.local/share/virtualenvs/seq-r0_WvjRo/lib/python3.5/site-packages/nxsdk/driver/compilers/../../../temp/1592569746.8206239/initnetwork_1_0.c.o -c /home/seq/.local/share/virtualenvs/seq-r0_WvjRo/lib/python3.5/site-packages/nxsdk/driver/compilers/../../../temp/1592569746.8206239/initnetwork_1_0.c\n",
      "Compiling without -c /home/seq/.local/share/virtualenvs/seq-r0_WvjRo/lib/python3.5/site-packages/nxsdk/driver/compilers/../../../temp/1592569746.8206239/0_reset_init.c\n",
      "gcc -Wall -I/home/seq/05-reward/v0.x/pelenet/snips/ -Inxsdk/include -fno-stack-protector -msoft-float -m32 -march=i586 -fno-builtin-printf -fno-builtin-sprintf -fno-builtin-fprintf -fno-builtin-memcpy -fstrict-volatile-bitfields -Os -DNDEBUG -std=c99 -o /home/seq/.local/share/virtualenvs/seq-r0_WvjRo/lib/python3.5/site-packages/nxsdk/driver/compilers/../../../temp/1592569746.8206239/0_reset_init.c.o -c /home/seq/.local/share/virtualenvs/seq-r0_WvjRo/lib/python3.5/site-packages/nxsdk/driver/compilers/../../../temp/1592569746.8206239/0_reset_init.c\n",
      "Compiling without -c /home/seq/.local/share/virtualenvs/seq-r0_WvjRo/lib/python3.5/site-packages/nxsdk/driver/compilers/../../../temp/1592569746.8206239/1_reset.c\n",
      "gcc -Wall -I/home/seq/05-reward/v0.x/pelenet/snips/ -Inxsdk/include -fno-stack-protector -msoft-float -m32 -march=i586 -fno-builtin-printf -fno-builtin-sprintf -fno-builtin-fprintf -fno-builtin-memcpy -fstrict-volatile-bitfields -Os -DNDEBUG -std=c99 -o /home/seq/.local/share/virtualenvs/seq-r0_WvjRo/lib/python3.5/site-packages/nxsdk/driver/compilers/../../../temp/1592569746.8206239/1_reset.c.o -c /home/seq/.local/share/virtualenvs/seq-r0_WvjRo/lib/python3.5/site-packages/nxsdk/driver/compilers/../../../temp/1592569746.8206239/1_reset.c\n",
      "/home/seq/05-reward/v0.x/pelenet/snips//reset.c: In function ‘reset’:\n",
      "/home/seq/05-reward/v0.x/pelenet/snips//reset.c:45:9: warning: dereferencing type-punned pointer will break strict-aliasing rules [-Wstrict-aliasing]\n",
      "         nx_fast_init64(nc->cx_state, neuronsPerCore, *(uint64_t*)&cxs);\n",
      "         ^~~~~~~~~~~~~~\n",
      "/home/seq/05-reward/v0.x/pelenet/snips//reset.c:60:13: warning: dereferencing type-punned pointer will break strict-aliasing rules [-Wstrict-aliasing]\n",
      "             nx_fast_init32(nc->cx_meta_state, neuronsPerCore/4, *(uint32_t*)&ms);\n",
      "             ^~~~~~~~~~~~~~\n",
      "Compiling without -c /home/seq/.local/share/virtualenvs/seq-r0_WvjRo/lib/python3.5/site-packages/nxsdk/driver/compilers/../../../temp/1592569746.8206239/main_1_0.c\n",
      "gcc -Wall -I/home/seq/05-reward/v0.x/pelenet/snips/ -Inxsdk/include -fno-stack-protector -msoft-float -m32 -march=i586 -fno-builtin-printf -fno-builtin-sprintf -fno-builtin-fprintf -fno-builtin-memcpy -fstrict-volatile-bitfields -Os -DNDEBUG -std=c99 -o /home/seq/.local/share/virtualenvs/seq-r0_WvjRo/lib/python3.5/site-packages/nxsdk/driver/compilers/../../../temp/1592569746.8206239/main_1_0.c.o -c /home/seq/.local/share/virtualenvs/seq-r0_WvjRo/lib/python3.5/site-packages/nxsdk/driver/compilers/../../../temp/1592569746.8206239/main_1_0.c\n",
      "OBJFILES :  /home/seq/.local/share/virtualenvs/seq-r0_WvjRo/lib/python3.5/site-packages/nxsdk/driver/compilers/../../../temp/1592569746.8206239/initnetwork_1_0.c.o /home/seq/.local/share/virtualenvs/seq-r0_WvjRo/lib/python3.5/site-packages/nxsdk/driver/compilers/../../../temp/1592569746.8206239/0_reset_init.c.o /home/seq/.local/share/virtualenvs/seq-r0_WvjRo/lib/python3.5/site-packages/nxsdk/driver/compilers/../../../temp/1592569746.8206239/1_reset.c.o /home/seq/.local/share/virtualenvs/seq-r0_WvjRo/lib/python3.5/site-packages/nxsdk/driver/compilers/../../../temp/1592569746.8206239/main_1_0.c.o\n",
      "gcc -Wall -fno-stack-protector -msoft-float -m32 -march=i586 -fno-builtin-printf -fno-builtin-sprintf -fno-builtin-fprintf -fno-builtin-memcpy -fstrict-volatile-bitfields -Os -DNDEBUG -std=c99 /home/seq/.local/share/virtualenvs/seq-r0_WvjRo/lib/python3.5/site-packages/nxsdk/driver/compilers/../../../temp/1592569746.8206239/initnetwork_1_0.c.o /home/seq/.local/share/virtualenvs/seq-r0_WvjRo/lib/python3.5/site-packages/nxsdk/driver/compilers/../../../temp/1592569746.8206239/0_reset_init.c.o /home/seq/.local/share/virtualenvs/seq-r0_WvjRo/lib/python3.5/site-packages/nxsdk/driver/compilers/../../../temp/1592569746.8206239/1_reset.c.o /home/seq/.local/share/virtualenvs/seq-r0_WvjRo/lib/python3.5/site-packages/nxsdk/driver/compilers/../../../temp/1592569746.8206239/main_1_0.c.o -o /home/seq/.local/share/virtualenvs/seq-r0_WvjRo/lib/python3.5/site-packages/nxsdk/driver/compilers/../../../temp/1592569746.8206239/launcher.link nxsdk/lib/embedded/libboot.a nxsdk/lib/embedded/libembedded_nx.a nxsdk/lib/embedded/liblmt.a nxsdk/lib/embedded/libnx.a -Wl,--script=nxsdk/utils/linker.scr -Wl,--build-id=none -Wl,-N -nostdlib\n",
      "\u001b[0m\n",
      "\u001b[1;30m\u001b[1;30m\u001b[1;30mINFO\u001b[0m\u001b[0m\u001b[0m:\u001b[34m\u001b[34m\u001b[34mDRV\u001b[0m\u001b[0m\u001b[0m:      Compiling Embedded snips....Done 0.67s\n",
      "\u001b[1;30m\u001b[1;30m\u001b[1;30mINFO\u001b[0m\u001b[0m\u001b[0m:\u001b[34m\u001b[34m\u001b[34mDRV\u001b[0m\u001b[0m\u001b[0m:      Encoding probes.............Done 3.93ms\n",
      "\u001b[1;30m\u001b[1;30m\u001b[1;30mINFO\u001b[0m\u001b[0m\u001b[0m:\u001b[34m\u001b[34m\u001b[34mHST\u001b[0m\u001b[0m\u001b[0m:  Using Kapoho Bay serial number 308\n",
      "\u001b[1;30m\u001b[1;30m\u001b[1;30mINFO\u001b[0m\u001b[0m\u001b[0m:\u001b[34m\u001b[34m\u001b[34mHST\u001b[0m\u001b[0m\u001b[0m:  Args chip=0 cpu=0 /home/seq/.local/share/virtualenvs/seq-r0_WvjRo/lib/python3.5/site-packages/nxsdk/driver/compilers/../../../temp/1592569746.8206239/launcher_chip0_lmt0.bin --chips=2 --remote-relay=0 --epoch=0 \n",
      "\u001b[1;30m\u001b[1;30m\u001b[1;30mINFO\u001b[0m\u001b[0m\u001b[0m:\u001b[34m\u001b[34m\u001b[34mHST\u001b[0m\u001b[0m\u001b[0m:  Args chip=1 cpu=0 /home/seq/.local/share/virtualenvs/seq-r0_WvjRo/lib/python3.5/site-packages/nxsdk/driver/compilers/../../../temp/1592569746.8206239/launcher_chip1_lmt0.bin --chips=2 --remote-relay=0 --epoch=0 \n",
      "\u001b[1;30m\u001b[1;30m\u001b[1;30mINFO\u001b[0m\u001b[0m\u001b[0m:\u001b[34m\u001b[34m\u001b[34mHST\u001b[0m\u001b[0m\u001b[0m:  Lakemont_driver...\n",
      "\u001b[1;30m\u001b[1;30m\u001b[1;30mINFO\u001b[0m\u001b[0m\u001b[0m:\u001b[34m\u001b[34m\u001b[34mDRV\u001b[0m\u001b[0m\u001b[0m:      Booting up..................Done 1.26s\n",
      "\u001b[1;30m\u001b[1;30m\u001b[1;30mINFO\u001b[0m\u001b[0m\u001b[0m:\u001b[34m\u001b[34m\u001b[34mDRV\u001b[0m\u001b[0m\u001b[0m:      Configuring registers.......Done 16.26s\n",
      "\u001b[1;30m\u001b[1;30m\u001b[1;30mINFO\u001b[0m\u001b[0m\u001b[0m:\u001b[34m\u001b[34m\u001b[34mDRV\u001b[0m\u001b[0m\u001b[0m:      Transferring spikes.........Done 6.70ms\n",
      "\u001b[1;30m\u001b[1;30m\u001b[1;30mINFO\u001b[0m\u001b[0m\u001b[0m:\u001b[34m\u001b[34m\u001b[34mDRV\u001b[0m\u001b[0m\u001b[0m:      Transferring probes.........Done 0.04s\n",
      "\u001b[1;30m\u001b[1;30m\u001b[1;30mINFO\u001b[0m\u001b[0m\u001b[0m:\u001b[34m\u001b[34m\u001b[34mHST\u001b[0m\u001b[0m\u001b[0m:  chip=0 cpu=0 Transfered values 20, 535, 30 \n",
      "\u001b[1;30m\u001b[1;30m\u001b[1;30mINFO\u001b[0m\u001b[0m\u001b[0m:\u001b[34m\u001b[34m\u001b[34mHST\u001b[0m\u001b[0m\u001b[0m:  chip=1 cpu=0 Transfered values 20, 535, 30 \n",
      "\u001b[1;30m\u001b[1;30m\u001b[1;30mINFO\u001b[0m\u001b[0m\u001b[0m:\u001b[34m\u001b[34m\u001b[34mHST\u001b[0m\u001b[0m\u001b[0m:  chip=1 cpu=0 Reset current/voltage from time step 0 to 30\n",
      "\u001b[1;30m\u001b[1;30m\u001b[1;30mINFO\u001b[0m\u001b[0m\u001b[0m:\u001b[34m\u001b[34m\u001b[34mHST\u001b[0m\u001b[0m\u001b[0m:  chip=0 cpu=0 Reset current/voltage from time step 0 to 30\n",
      "\u001b[1;30m\u001b[1;30m\u001b[1;30mINFO\u001b[0m\u001b[0m\u001b[0m:\u001b[34m\u001b[34m\u001b[34mHST\u001b[0m\u001b[0m\u001b[0m:  chip=1 cpu=0 Reset functional state at 30\n",
      "\u001b[1;30m\u001b[1;30m\u001b[1;30mINFO\u001b[0m\u001b[0m\u001b[0m:\u001b[34m\u001b[34m\u001b[34mHST\u001b[0m\u001b[0m\u001b[0m:  chip=0 cpu=0 Reset functional state at 30\n",
      "\u001b[1;30m\u001b[1;30m\u001b[1;30mINFO\u001b[0m\u001b[0m\u001b[0m:\u001b[34m\u001b[34m\u001b[34mDRV\u001b[0m\u001b[0m\u001b[0m:      Executing...................Done 34.15s\n",
      "\u001b[1;30m\u001b[1;30m\u001b[1;30mINFO\u001b[0m\u001b[0m\u001b[0m:\u001b[34m\u001b[34m\u001b[34mDRV\u001b[0m\u001b[0m\u001b[0m:      Processing timeseries.......Done 0.22s\n",
      "\u001b[1;30m\u001b[1;30m\u001b[1;30mINFO\u001b[0m\u001b[0m\u001b[0m:\u001b[34m\u001b[34m\u001b[34mDRV\u001b[0m\u001b[0m\u001b[0m:  Executor: 535 timesteps.........Done 50.69s\n",
      "\u001b[1;30m\u001b[1;30m\u001b[1;30mINFO\u001b[0m\u001b[0m\u001b[0m:\u001b[34m\u001b[34m\u001b[34mHST\u001b[0m\u001b[0m\u001b[0m:  chip=1 cpu=0 halted, status=0x0\n",
      "\u001b[1;30m\u001b[1;30m\u001b[1;30mINFO\u001b[0m\u001b[0m\u001b[0m:\u001b[34m\u001b[34m\u001b[34mHST\u001b[0m\u001b[0m\u001b[0m:  chip=0 cpu=0 halted, status=0x0\n"
     ]
    }
   ],
   "source": [
    "#name = 'one_network_15_locations'\n",
    "name = 'one_location_15_networks'\n",
    "\n",
    "for i in range(13,15):\n",
    "    execRun(name, i)"
   ]
  },
  {
   "cell_type": "code",
   "execution_count": 3,
   "metadata": {},
   "outputs": [],
   "source": [
    "# Get NEST spikes\n",
    "def translateNestSpikes(nest):\n",
    "    spikes = []\n",
    "\n",
    "    mi, ma = int(np.floor(np.min(nest[0]))), int(np.ceil(np.max(nest[0])))\n",
    "    for t in range(mi, ma):\n",
    "        idcs = []\n",
    "        for i in np.arange(0.0,1.0,0.1):\n",
    "            idcs.extend(np.where(np.isclose(nest[0], t+i))[0])\n",
    "        spkVec = np.zeros(p.reservoirExSize)\n",
    "        spkVec[nest[1, idcs].astype(int)-1] = 1\n",
    "        spikes.append(spkVec)\n",
    "        \n",
    "    return np.array(spikes).T"
   ]
  },
  {
   "cell_type": "code",
   "execution_count": 4,
   "metadata": {},
   "outputs": [],
   "source": [
    "def readNestSpikes(name):\n",
    "    nest = []\n",
    "\n",
    "    for i in range(15):\n",
    "        # Add times\n",
    "        times = np.load('data/nest2/'+str(name)+'/spike_times_'+str(i)+'.npy')\n",
    "\n",
    "        # Add indices\n",
    "        lastIdc = np.where(times < 509)[0][-1]\n",
    "        inds = np.load('data/nest2/'+str(name)+'/spike_indices_'+str(i)+'.npy')\n",
    "        \n",
    "        # Combine\n",
    "        raw = np.array([times[:lastIdc], inds[:lastIdc]])\n",
    "        \n",
    "        # Translates spikes from Nest in Loihi format\n",
    "        nest.append(translateNestSpikes(raw))\n",
    "\n",
    "    # Return list of nest results\n",
    "    return np.array(nest)"
   ]
  },
  {
   "cell_type": "code",
   "execution_count": 5,
   "metadata": {},
   "outputs": [],
   "source": [
    "def readLoihiParameters():\n",
    "    #return np.load('data/loihi/'+str(name)+'/parameters.npy')\n",
    "    exp = NestComparison()\n",
    "    return exp.p"
   ]
  },
  {
   "cell_type": "code",
   "execution_count": 6,
   "metadata": {},
   "outputs": [],
   "source": [
    "def readLoihiSpikes(name):\n",
    "    loihi = []\n",
    "\n",
    "    for i in range(15):\n",
    "        loihi.append(np.load('data/loihi/'+str(name)+'/spikes_'+str(i)+'.npy'))\n",
    "        \n",
    "    return np.array(loihi)"
   ]
  },
  {
   "cell_type": "code",
   "execution_count": 7,
   "metadata": {},
   "outputs": [],
   "source": [
    "p = readLoihiParameters()\n",
    "\n",
    "sn15l = readNestSpikes('one_network_15_locations')\n",
    "sl15l = readLoihiSpikes('one_network_15_locations')\n",
    "\n",
    "sn15n = readNestSpikes('one_location_15_networks')\n",
    "sl15n = readLoihiSpikes('one_location_15_networks')"
   ]
  },
  {
   "cell_type": "code",
   "execution_count": 12,
   "metadata": {},
   "outputs": [],
   "source": [
    "twoCols = ['#41aab7', '#b74d41']\n",
    "\n",
    "# Matplotlib parameters\n",
    "plt.rcParams['axes.axisbelow'] = True\n",
    "plt.rcParams['font.family'] = 'CMU Sans Serif'\n",
    "plt.rcParams['font.size'] = 14"
   ]
  },
  {
   "cell_type": "code",
   "execution_count": 10,
   "metadata": {},
   "outputs": [
    {
     "data": {
      "image/png": "[encoded data removed]",
      "text/plain": [
       "<Figure size 432x288 with 1 Axes>"
      ]
     },
     "metadata": {
      "needs_background": "light"
     },
     "output_type": "display_data"
    }
   ],
   "source": [
    "cmap = colors.ListedColormap(['#ffffff', '#b74d41'])\n",
    "#plt.title('NEST Reservoir spikes')\n",
    "plt.xlabel('time steps')\n",
    "plt.ylabel('index of neuron')\n",
    "plt.imshow(sn15l[9], cmap=cmap, aspect='auto')\n",
    "#plt.savefig(exp2.net.plot.plotDir + 'spikes_raster_nest.svg')\n",
    "pl = plt.show()"
   ]
  },
  {
   "cell_type": "code",
   "execution_count": 35,
   "metadata": {},
   "outputs": [],
   "source": [
    "sl1 = sl[0] # spikes from loihi\n",
    "sn1 = sn[0] # spikes from nest\n",
    "\n",
    "sl2 = sl[1]  # spikes from loihi\n",
    "sn2 = sn[1] # spikes from nest"
   ]
  },
  {
   "cell_type": "code",
   "execution_count": 62,
   "metadata": {},
   "outputs": [
    {
     "data": {
      "image/png": "[encoded data removed]",
      "text/plain": [
       "<Figure size 432x144 with 1 Axes>"
      ]
     },
     "metadata": {
      "needs_background": "light"
     },
     "output_type": "display_data"
    },
    {
     "data": {
      "image/png": "[encoded data removed]",
      "text/plain": [
       "<Figure size 432x144 with 1 Axes>"
      ]
     },
     "metadata": {
      "needs_background": "light"
     },
     "output_type": "display_data"
    }
   ],
   "source": [
    "sl1m0 = np.mean(sl1, axis=0)\n",
    "sn1m0 = np.mean(sn1, axis=0)\n",
    "sl2m0 = np.mean(sl2, axis=0)\n",
    "sn2m0 = np.mean(sn2, axis=0)\n",
    "\n",
    "plt.figure(figsize=(6,2))\n",
    "plt.plot(sl1m0, color=twoCols[0], label=\"Loihi\")\n",
    "plt.plot(sn1m0, color=twoCols[1], label=\"NEST\")\n",
    "plt.xlabel('time steps')\n",
    "plt.ylabel('firing rate')\n",
    "plt.yticks(np.arange(0, 0.21, step=0.05))\n",
    "plt.ylim((0,0.2))\n",
    "#plt.savefig(exp1.net.plot.plotDir + 'firingrate_exp1.svg')\n",
    "pl = plt.show()\n",
    "\n",
    "plt.figure(figsize=(6,2))\n",
    "plt.plot(sl2m0, color=twoCols[0], label=\"Loihi\")\n",
    "plt.plot(sn2m0, color=twoCols[1], label=\"NEST\")\n",
    "plt.xlabel('time steps')\n",
    "plt.ylabel('firing rate')\n",
    "plt.yticks(np.arange(0, 0.21, step=0.05))\n",
    "plt.ylim((0,0.2))\n",
    "plt.legend()\n",
    "#plt.savefig(exp2.net.plot.plotDir + 'firingrate_exp2.svg')\n",
    "pl = plt.show()"
   ]
  },
  {
   "cell_type": "code",
   "execution_count": 15,
   "metadata": {},
   "outputs": [
    {
     "data": {
      "image/png": "[encoded data removed]",
      "text/plain": [
       "<Figure size 432x180 with 1 Axes>"
      ]
     },
     "metadata": {
      "needs_background": "light"
     },
     "output_type": "display_data"
    }
   ],
   "source": [
    "start = 100\n",
    "\n",
    "plt.figure(figsize=(6,2.5))\n",
    "barWidth = 1\n",
    "\n",
    "# Values and errors\n",
    "sl15l_f = np.mean(sl15l[:,:,start:], axis=(1,2))\n",
    "sl15n_f = np.mean(sl15n[:,:,start:], axis=(1,2))\n",
    "sn15l_f = np.mean(sn15l[:,:,start:], axis=(1,2))\n",
    "sn15n_f = np.mean(sn15n[:,:,start:], axis=(1,2))\n",
    "\n",
    "vl = [np.mean(sl15l_f), np.mean(sl15n_f)]\n",
    "el = [np.std(sl15l_f), np.std(sl15n_f)]\n",
    "\n",
    "vn = [np.mean(sn15l_f), np.mean(sn15n_f)]\n",
    "en = [np.std(sn15l_f), np.std(sn15n_f)]\n",
    "\n",
    "# Bar positions\n",
    "r1 = [1, 3.5]\n",
    "r2 = [2, 4.5]\n",
    "\n",
    "plt.bar(r1, vl, yerr=el, width=barWidth, color=twoCols[0], ecolor='black', label='Loihi', error_kw=dict(lw=1, capthick=1, capsize=4))\n",
    "plt.bar(r2, vn, yerr=en, width=barWidth, color=twoCols[1], ecolor='black', label='NEST', error_kw=dict(lw=1, capthick=1, capsize=4))\n",
    "\n",
    "plt.xticks([1.5, 4], ['15 Locations', '15 Networks'])\n",
    "#plt.yticks(np.arange(0, 0.151, step=0.025))\n",
    "\n",
    "plt.grid(axis='x')\n",
    "\n",
    "plt.legend()\n",
    "\n",
    "plt.ylabel('mean firing rate')\n",
    "#plt.xlim(-0.25, 1.25)\n",
    "plt.ylim(0,0.15)\n",
    "#plt.savefig(exp1.net.plot.plotDir + 'meanfiringrate.svg')\n",
    "pl = plt.show()"
   ]
  },
  {
   "cell_type": "code",
   "execution_count": 16,
   "metadata": {},
   "outputs": [
    {
     "name": "stdout",
     "output_type": "stream",
     "text": [
      "Ttest_indResult(statistic=5.855521450896771, pvalue=2.701472715745509e-06)\n",
      "Ttest_indResult(statistic=1.7100591649940398, pvalue=0.09831585387303951)\n"
     ]
    }
   ],
   "source": [
    "print(scipy.stats.ttest_ind(sl15l_f, sn15l_f))\n",
    "print(scipy.stats.ttest_ind(sl15n_f, sn15n_f))"
   ]
  },
  {
   "cell_type": "code",
   "execution_count": 18,
   "metadata": {},
   "outputs": [
    {
     "name": "stdout",
     "output_type": "stream",
     "text": [
      "(0.4775944816564992, 0.07179240150720048)\n",
      "(0.5590379323347727, 0.03027434850358785)\n"
     ]
    }
   ],
   "source": [
    "print(scipy.stats.pearsonr(sl15l_f, sn15l_f))\n",
    "print(scipy.stats.pearsonr(sl15n_f, sn15n_f))"
   ]
  },
  {
   "cell_type": "code",
   "execution_count": null,
   "metadata": {},
   "outputs": [],
   "source": [
    "def getClusteredFrequencies(sm, binSize, exp):\n",
    "    topologyIndices = np.arange(exp.p.reservoirExSize).reshape((exp.p.topologySize, exp.p.topologySize))\n",
    "    numBins = int(exp.p.topologySize / binSize)\n",
    "\n",
    "    smb = []\n",
    "    for i in range(numBins):\n",
    "        # Define from and to variables for index i\n",
    "        ifr, ito = i*binSize, (i+1)*binSize\n",
    "        for j in range(numBins):\n",
    "            # Define from and to variables for index j\n",
    "            jfr, jto = j*binSize, (j+1)*binSize\n",
    "            # Get topology indices and set connect neurons between output cluster and output neuron\n",
    "            idc = topologyIndices[ifr:ito,jfr:jto]\n",
    "            smb.append(np.mean(sm[idc]))\n",
    "    return np.array(smb)"
   ]
  },
  {
   "cell_type": "code",
   "execution_count": null,
   "metadata": {},
   "outputs": [],
   "source": [
    "binSize = 10\n",
    "ex = exps[1]\n",
    "numclusters = int(ex.p.reservoirExSize / np.square(binSize))\n",
    "\n",
    "# Get binned spikes\n",
    "slmb = getClusteredFrequencies(np.mean(sl1, axis=1), binSize, ex)\n",
    "snmb = getClusteredFrequencies(np.mean(sn1, axis=1), binSize, ex)\n",
    "\n",
    "# Plot Loihi\n",
    "plt.figure(figsize=(6,2))\n",
    "plt.bar(1+np.arange(numclusters), slmb, color=twoCols[0])\n",
    "#plt.title('Loihi')\n",
    "plt.xlabel('index of neuron pool')\n",
    "plt.ylabel('mean frequency')\n",
    "#plt.tick_params(bottom=False, labelbottom=False, left=False, labelleft=False)\n",
    "plt.xlim((0,numclusters+1))\n",
    "plt.ylim((0,0.3))\n",
    "plt.grid(axis='x')\n",
    "#plt.savefig(exp1.net.plot.plotDir + 'frequency_loihi.svg')\n",
    "pl = plt.show()\n",
    "\n",
    "# Plot Nest\n",
    "plt.figure(figsize=(6,2))\n",
    "plt.bar(1+np.arange(numclusters), snmb, color=twoCols[1])\n",
    "#plt.title('Nest')\n",
    "plt.xlabel('index of neuron pool')\n",
    "plt.ylabel('mean frequency')\n",
    "#plt.tick_params(bottom=False, labelbottom=False, left=False, labelleft=False)\n",
    "plt.xlim((0,numclusters+1))\n",
    "plt.ylim((0,0.3))\n",
    "plt.grid(axis='x')\n",
    "#plt.savefig(exp1.net.plot.plotDir + 'frequency_nest.svg')\n",
    "pl = plt.show()"
   ]
  },
  {
   "cell_type": "code",
   "execution_count": null,
   "metadata": {},
   "outputs": [],
   "source": [
    "exp1.net.plot.plotDir"
   ]
  },
  {
   "cell_type": "code",
   "execution_count": null,
   "metadata": {},
   "outputs": [],
   "source": [
    "print(scipy.stats.ks_2samp(slmb/np.sum(slmb), snmb/np.sum(snmb)))"
   ]
  },
  {
   "cell_type": "code",
   "execution_count": null,
   "metadata": {},
   "outputs": [],
   "source": [
    "topl = np.array([binl[:,i:i+60] for i in range(0,3600,60)])\n",
    "topl = np.moveaxis(topl,1,0)\n",
    "\n",
    "topn = np.array([binn[:,i:i+60] for i in range(0,3600,60)])\n",
    "topn = np.moveaxis(topn,1,0)"
   ]
  },
  {
   "cell_type": "code",
   "execution_count": null,
   "metadata": {},
   "outputs": [],
   "source": [
    "#topl = np.array([sl[i:i+60,:] for i in range(0,3600,60)])\n",
    "#topl = np.moveaxis(topl,1,0)\n",
    "\n",
    "#topn = np.array([sn[i:i+60,:] for i in range(0,3600,60)])\n",
    "#topn = np.moveaxis(topn,1,0)"
   ]
  },
  {
   "cell_type": "code",
   "execution_count": null,
   "metadata": {},
   "outputs": [],
   "source": [
    "topl.shape"
   ]
  },
  {
   "cell_type": "code",
   "execution_count": null,
   "metadata": {},
   "outputs": [],
   "source": [
    "topl[topl>0.2] = 1\n",
    "topl[topl<=0.2] = 0"
   ]
  },
  {
   "cell_type": "code",
   "execution_count": null,
   "metadata": {},
   "outputs": [],
   "source": [
    "%matplotlib inline\n",
    "cmap = colors.ListedColormap(['white', 'darkred'])\n",
    "pl = plt.imshow(topl[:,:,0], cmap=cmap)"
   ]
  },
  {
   "cell_type": "code",
   "execution_count": null,
   "metadata": {},
   "outputs": [],
   "source": [
    "topn[topn>0.2] = 1\n",
    "topn[topn<=0.2] = 0"
   ]
  },
  {
   "cell_type": "code",
   "execution_count": null,
   "metadata": {
    "scrolled": true
   },
   "outputs": [],
   "source": [
    "%matplotlib inline\n",
    "cmap = colors.ListedColormap(['white', 'darkred'])\n",
    "pl = plt.imshow(topn[:,:,0], cmap=cmap)"
   ]
  },
  {
   "cell_type": "markdown",
   "metadata": {},
   "source": [
    "%matplotlib notebook\n",
    "import matplotlib.animation as animation\n",
    "\n",
    "fig = plt.figure(figsize=(4,4))\n",
    "\n",
    "#cmap = colors.ListedColormap(['white', 'darkred'])\n",
    "\n",
    "frames = []\n",
    "for i in range(topl.shape[0]):\n",
    "    frames.append([plt.imshow(topl[i], animated=True)])\n",
    "\n",
    "ani = animation.ArtistAnimation(fig, frames, interval=100, blit=True, repeat_delay=1000)\n",
    "ani.save('loihi.mp4')\n",
    "plt.show()"
   ]
  },
  {
   "cell_type": "markdown",
   "metadata": {},
   "source": [
    "%matplotlib notebook\n",
    "import matplotlib.animation as animation\n",
    "\n",
    "fig = plt.figure(figsize=(4,4))\n",
    "\n",
    "#cmap = colors.ListedColormap(['white', 'darkred'])\n",
    "\n",
    "frames = []\n",
    "for i in range(topn.shape[0]):\n",
    "    frames.append([plt.imshow(topn[i], animated=True)])\n",
    "\n",
    "ani = animation.ArtistAnimation(fig, frames, interval=100, blit=True, repeat_delay=1000)\n",
    "ani.save('nest.mp4')\n",
    "plt.show()"
   ]
  }
 ],
 "metadata": {
  "kernelspec": {
   "display_name": "Python 3",
   "language": "python",
   "name": "python3"
  },
  "language_info": {
   "codemirror_mode": {
    "name": "ipython",
    "version": 3
   },
   "file_extension": ".py",
   "mimetype": "text/x-python",
   "name": "python",
   "nbconvert_exporter": "python",
   "pygments_lexer": "ipython3",
   "version": "3.5.2"
  }
 },
 "nbformat": 4,
 "nbformat_minor": 2
}
