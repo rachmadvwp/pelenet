{
 "cells": [
  {
   "cell_type": "code",
   "execution_count": 1,
   "metadata": {},
   "outputs": [],
   "source": [
    "# Allow reload of objects\n",
    "%load_ext autoreload\n",
    "%autoreload\n",
    "from pelenet.utils import Utils\n",
    "from pelenet.experiments.nestcomparison import NestComparison\n",
    "from pelenet.network import ReservoirNetwork\n",
    "\n",
    "# Official modules\n",
    "import numpy as np\n",
    "import scipy\n",
    "from scipy import stats\n",
    "from scipy.sparse import csr_matrix\n",
    "import nxsdk.api.n2a as nx\n",
    "import matplotlib\n",
    "import matplotlib.pyplot as plt\n",
    "from matplotlib import colors\n",
    "import statsmodels.api as sm\n",
    "from statsmodels.formula.api import ols\n",
    "from statsmodels.stats.anova import anova_lm\n",
    "import os\n",
    "from time import time\n",
    "import copy"
   ]
  },
  {
   "cell_type": "code",
   "execution_count": 2,
   "metadata": {},
   "outputs": [],
   "source": [
    "# Initilize utils\n",
    "utils = Utils.instance()"
   ]
  },
  {
   "cell_type": "code",
   "execution_count": 3,
   "metadata": {},
   "outputs": [],
   "source": [
    "def execRun(name, i):\n",
    "    \"\"\"\n",
    "    Read data\n",
    "    \"\"\"\n",
    "    # Add input\n",
    "    inp = np.load('data/nest2/'+str(name)+'/input_pop_'+str(i)+'.npy')\n",
    "\n",
    "    # Add mask\n",
    "    exex = csr_matrix(np.load('data/nest2/'+str(name)+'/weights_ee_'+str(i)+'.npy'))\n",
    "    exin = csr_matrix(np.load('data/nest2/'+str(name)+'/weights_ei_'+str(i)+'.npy'))\n",
    "    inex = csr_matrix(np.load('data/nest2/'+str(name)+'/weights_ii_'+str(i)+'.npy'))\n",
    "    inin = csr_matrix(np.load('data/nest2/'+str(name)+'/weights_ie_'+str(i)+'.npy'))\n",
    "    ma = { 'exex': exex, 'inin': inin, 'inex': inex, 'exin': exin }\n",
    "    \n",
    "    \"\"\"\n",
    "    Run experiment\n",
    "    \"\"\"\n",
    "    # Init experiment\n",
    "    exp = NestComparison()\n",
    "\n",
    "    # Build network\n",
    "    exp.net = ReservoirNetwork(exp.p)\n",
    "\n",
    "    # Define mask\n",
    "    exp.net.initialMasks.exex = ma['exex']\n",
    "    exp.net.initialMasks.exin = ma['exin']\n",
    "    exp.net.initialMasks.inex = ma['inex']\n",
    "    exp.net.initialMasks.inin = ma['inin']\n",
    "\n",
    "    # Set weights\n",
    "    exp.setSparseWeightMatrix()\n",
    "\n",
    "    # Connect\n",
    "    exp.net.connectReservoir()\n",
    "\n",
    "    # Add patch input\n",
    "    exp.net.addRepeatedPatchGenerator(idc = inp-1)\n",
    "\n",
    "    # Build the network structure\n",
    "    exp.net.build()\n",
    "\n",
    "    # Run network\n",
    "    exp.run()\n",
    "    \n",
    "    \"\"\"\n",
    "    Store data\n",
    "    \"\"\"\n",
    "    \n",
    "    spikes = exp.net.exSpikeTrains[:,exp.p.resetOffset:500+exp.p.resetOffset]\n",
    "    np.save('data/loihi/'+str(name)+'/spikes_'+str(i)+'.npy', spikes)\n",
    "    \n",
    "    #if i==0:\n",
    "    #    parameters = copy.deepcopy(exp.p)\n",
    "    #    np.save('data/loihi/'+str(name)+'/parameters.npy',parameters)"
   ]
  },
  {
   "cell_type": "code",
   "execution_count": 4,
   "metadata": {},
   "outputs": [],
   "source": [
    "#name = 'one_network_15_locations'\n",
    "#name = 'one_location_15_networks'\n",
    "\n",
    "#for i in range(13,15):\n",
    "#    execRun(name, i)"
   ]
  },
  {
   "cell_type": "code",
   "execution_count": 5,
   "metadata": {},
   "outputs": [],
   "source": [
    "# Get NEST spikes\n",
    "def translateNestSpikes(nest):\n",
    "    spikes = []\n",
    "\n",
    "    mi, ma = int(np.floor(np.min(nest[0]))), int(np.ceil(np.max(nest[0])))\n",
    "    for t in range(mi, ma):\n",
    "        idcs = []\n",
    "        for i in np.arange(0.0,1.0,0.1):\n",
    "            idcs.extend(np.where(np.isclose(nest[0], t+i))[0])\n",
    "        spkVec = np.zeros(p.reservoirExSize)\n",
    "        spkVec[nest[1, idcs].astype(int)-1] = 1\n",
    "        spikes.append(spkVec)\n",
    "        \n",
    "    return np.array(spikes).T"
   ]
  },
  {
   "cell_type": "code",
   "execution_count": 6,
   "metadata": {},
   "outputs": [],
   "source": [
    "def readNestSpikes(name):\n",
    "    nest = []\n",
    "\n",
    "    for i in range(15):\n",
    "        # Add times\n",
    "        times = np.load('data/nest2/'+str(name)+'/spike_times_'+str(i)+'.npy')\n",
    "\n",
    "        # Add indices\n",
    "        lastIdc = np.where(times < 509)[0][-1]\n",
    "        inds = np.load('data/nest2/'+str(name)+'/spike_indices_'+str(i)+'.npy')\n",
    "        \n",
    "        # Combine\n",
    "        raw = np.array([times[:lastIdc], inds[:lastIdc]])\n",
    "        \n",
    "        # Translates spikes from Nest in Loihi format\n",
    "        nest.append(translateNestSpikes(raw))\n",
    "\n",
    "    # Return list of nest results\n",
    "    return np.array(nest)"
   ]
  },
  {
   "cell_type": "code",
   "execution_count": 7,
   "metadata": {},
   "outputs": [],
   "source": [
    "def readLoihiParameters():\n",
    "    #return np.load('data/loihi/'+str(name)+'/parameters.npy')\n",
    "    exp = NestComparison()\n",
    "    return exp.p"
   ]
  },
  {
   "cell_type": "code",
   "execution_count": 8,
   "metadata": {},
   "outputs": [],
   "source": [
    "def readLoihiSpikes(name):\n",
    "    loihi = []\n",
    "\n",
    "    for i in range(15):\n",
    "        loihi.append(np.load('data/loihi/'+str(name)+'/spikes_'+str(i)+'.npy'))\n",
    "        \n",
    "    return np.array(loihi)"
   ]
  },
  {
   "cell_type": "code",
   "execution_count": 9,
   "metadata": {},
   "outputs": [],
   "source": [
    "p = readLoihiParameters()\n",
    "\n",
    "sn15l = readNestSpikes('one_network_15_locations')\n",
    "sl15l = readLoihiSpikes('one_network_15_locations')\n",
    "\n",
    "sn15n = readNestSpikes('one_location_15_networks')\n",
    "sl15n = readLoihiSpikes('one_location_15_networks')"
   ]
  },
  {
   "cell_type": "code",
   "execution_count": 10,
   "metadata": {},
   "outputs": [],
   "source": [
    "twoCols = ['#41aab7', '#b74d41']\n",
    "\n",
    "# Matplotlib parameters\n",
    "plt.rcParams['axes.axisbelow'] = True\n",
    "plt.rcParams['font.family'] = 'CMU Sans Serif'\n",
    "plt.rcParams['font.size'] = 14"
   ]
  },
  {
   "cell_type": "markdown",
   "metadata": {},
   "source": [
    "# Spike trains"
   ]
  },
  {
   "cell_type": "code",
   "execution_count": 11,
   "metadata": {},
   "outputs": [
    {
     "data": {
      "image/png": "[encoded data removed]",
      "text/plain": [
       "<Figure size 432x288 with 1 Axes>"
      ]
     },
     "metadata": {
      "needs_background": "light"
     },
     "output_type": "display_data"
    }
   ],
   "source": [
    "cmap = colors.ListedColormap(['#ffffff', twoCols[1]])\n",
    "#plt.title('NEST Reservoir spikes')\n",
    "plt.xlabel('time steps')\n",
    "plt.ylabel('index of neuron')\n",
    "plt.imshow(sn15n[7], cmap=cmap, aspect='auto')\n",
    "#plt.savefig(exp2.net.plot.plotDir + 'spikes_raster_nest.svg')\n",
    "plt.savefig('plots/figure3/spikes_raster_nest.svg')\n",
    "pl = plt.show()"
   ]
  },
  {
   "cell_type": "code",
   "execution_count": 12,
   "metadata": {},
   "outputs": [
    {
     "data": {
      "image/png": "[encoded data removed]",
      "text/plain": [
       "<Figure size 432x288 with 1 Axes>"
      ]
     },
     "metadata": {
      "needs_background": "light"
     },
     "output_type": "display_data"
    }
   ],
   "source": [
    "cmap = colors.ListedColormap(['#ffffff', twoCols[0]])\n",
    "#plt.title('NEST Reservoir spikes')\n",
    "plt.xlabel('time steps')\n",
    "plt.ylabel('index of neuron')\n",
    "plt.imshow(sl15n[7], cmap=cmap, aspect='auto')\n",
    "#plt.savefig(exp2.net.plot.plotDir + 'spikes_raster_nest.svg')\n",
    "plt.savefig('plots/figure3/spikes_raster_loihi.svg')\n",
    "pl = plt.show()"
   ]
  },
  {
   "cell_type": "markdown",
   "metadata": {},
   "source": [
    "# Firing rate over time"
   ]
  },
  {
   "cell_type": "code",
   "execution_count": 46,
   "metadata": {},
   "outputs": [
    {
     "data": {
      "image/png": "[encoded data removed]",
      "text/plain": [
       "<Figure size 432x144 with 1 Axes>"
      ]
     },
     "metadata": {
      "needs_background": "light"
     },
     "output_type": "display_data"
    }
   ],
   "source": [
    "idExp = 7\n",
    "\n",
    "sl1m0 = np.mean(sl15n[idExp], axis=0)\n",
    "sn1m0 = np.mean(sn15n[idExp], axis=0)\n",
    "\n",
    "plt.figure(figsize=(6,2))\n",
    "plt.plot(sl1m0, color=twoCols[0], label=\"Loihi\")\n",
    "plt.plot(sn1m0, color=twoCols[1], label=\"NEST\")\n",
    "plt.xlabel('time steps')\n",
    "plt.ylabel('firing frequency')\n",
    "plt.yticks(np.arange(0, 0.21, step=0.05))\n",
    "plt.xlim((0,500))\n",
    "plt.ylim((0,0.2))\n",
    "#plt.savefig(exp1.net.plot.plotDir + 'firingrate_exp1.svg')\n",
    "plt.savefig('plots/figure3/firingrate-over-time.svg')\n",
    "pl = plt.show()"
   ]
  },
  {
   "cell_type": "markdown",
   "metadata": {},
   "source": [
    "# Fano factors / coefficient of variation over all simulations"
   ]
  },
  {
   "cell_type": "code",
   "execution_count": 14,
   "metadata": {},
   "outputs": [
    {
     "data": {
      "text/plain": [
       "True"
      ]
     },
     "execution_count": 14,
     "metadata": {},
     "output_type": "execute_result"
    }
   ],
   "source": [
    "np.sum(sl15n[0,0]) != 0"
   ]
  },
  {
   "cell_type": "code",
   "execution_count": 15,
   "metadata": {},
   "outputs": [],
   "source": [
    "def fano(self, spikes):\n",
    "    # Get shape\n",
    "    shp = spikes.shape\n",
    "    # Iterate over all trials\n",
    "    ff = []\n",
    "    for i in range(shp[0]):\n",
    "        # Get mean and standard deviation of all spike trains\n",
    "        mn = np.mean(spikes[i], axis=1)\n",
    "        var = np.var(spikes[i], axis=1)\n",
    "\n",
    "        # Get indices of zero-values\n",
    "        mask = (mn != 0)\n",
    "        \n",
    "        # Append mean fano factors from all neurons with spiking activity\n",
    "        ff.append(np.mean(var[mask]/mn[mask]))\n",
    "\n",
    "    # Return mean fano factors for every trial\n",
    "    return ff"
   ]
  },
  {
   "cell_type": "code",
   "execution_count": 16,
   "metadata": {},
   "outputs": [],
   "source": [
    "def isicv(spikes):\n",
    "    shp = spikes.shape\n",
    "    cvs = []\n",
    "    for k in range(shp[0]):\n",
    "        for i in range(shp[1]):\n",
    "            if np.sum(spikes[k,i]) != 0:\n",
    "                isi = np.bincount(np.cumsum(spikes[0,i]).astype(int))\n",
    "                cv = np.std(isi)/np.mean(isi)\n",
    "                cvs.append(cv)\n",
    "    return cvs"
   ]
  },
  {
   "cell_type": "code",
   "execution_count": 17,
   "metadata": {},
   "outputs": [],
   "source": [
    "sl15n_cv = isicv(sl15n)\n",
    "sn15n_cv = isicv(sn15n)\n",
    "sl15l_cv = isicv(sl15l)\n",
    "sn15l_cv = isicv(sn15l)"
   ]
  },
  {
   "cell_type": "code",
   "execution_count": 18,
   "metadata": {},
   "outputs": [
    {
     "name": "stdout",
     "output_type": "stream",
     "text": [
      "2.501179066065166\n",
      "1.8009826468251733\n",
      "1.1198787381859243\n",
      "1.5665086680632536\n"
     ]
    }
   ],
   "source": [
    "# Networks\n",
    "print(np.mean(sl15n_cv))\n",
    "print(np.mean(sn15n_cv))\n",
    "\n",
    "# Locations\n",
    "print(np.mean(sl15l_cv))\n",
    "print(np.mean(sn15l_cv))"
   ]
  },
  {
   "cell_type": "code",
   "execution_count": 19,
   "metadata": {},
   "outputs": [],
   "source": [
    "# Calculate fano factors\n",
    "sl15n_ff = utils.fano(sl15n)\n",
    "sn15n_ff = utils.fano(sn15n)\n",
    "sl15l_ff = utils.fano(sl15l)\n",
    "sn15l_ff = utils.fano(sn15l)\n",
    "\n",
    "# Calculate coefficient of variation\n",
    "sl15n_cv = utils.cv(sl15n)\n",
    "sn15n_cv = utils.cv(sn15n)\n",
    "sl15l_cv = utils.cv(sl15l)\n",
    "sn15l_cv = utils.cv(sn15l)"
   ]
  },
  {
   "cell_type": "code",
   "execution_count": 20,
   "metadata": {},
   "outputs": [
    {
     "name": "stdout",
     "output_type": "stream",
     "text": [
      "fano factor\n",
      "15 networks - Loihi: 0.84819 +/- 0.01955, NEST: 0.86425 +/- 0.01327\n",
      "15 locations - Loihi: 0.83344 +/- 0.02521, NEST: 0.86526 +/- 0.01265\n",
      "coefficient of variation\n",
      "15 networks - Loihi: 4.94484, NEST: 5.11421\n",
      "15 locations - Loihi: 4.78083, NEST: 4.80307\n"
     ]
    }
   ],
   "source": [
    "print('fano factor')\n",
    "# mannwhitneyu networks\n",
    "print(\"15 networks - Loihi: {:.5f} +/- {:.5f}, NEST: {:.5f} +/- {:.5f}\".format(np.mean(sl15n_ff), np.std(sl15n_ff), np.mean(sn15n_ff), np.std(sn15n_ff)))\n",
    "# mannwhitneyu locations\n",
    "print(\"15 locations - Loihi: {:.5f} +/- {:.5f}, NEST: {:.5f} +/- {:.5f}\".format(np.mean(sl15l_ff), np.std(sl15l_ff), np.mean(sn15l_ff), np.std(sn15l_ff)))\n",
    "\n",
    "print('coefficient of variation')\n",
    "# mannwhitneyu networks\n",
    "print(\"15 networks - Loihi: {:.5f}, NEST: {:.5f}\".format(np.mean(sl15n_cv), np.mean(sn15n_cv)))\n",
    "# mannwhitneyu locations\n",
    "print(\"15 locations - Loihi: {:.5f}, NEST: {:.5f}\".format(np.mean(sl15l_cv), np.mean(sn15l_cv)))"
   ]
  },
  {
   "cell_type": "code",
   "execution_count": 21,
   "metadata": {},
   "outputs": [
    {
     "name": "stdout",
     "output_type": "stream",
     "text": [
      "(0.9240914583206177, 0.22231394052505493)\n",
      "(0.9758252501487732, 0.9330110549926758)\n",
      "(0.9226092100143433, 0.21108855307102203)\n",
      "(0.8850654363632202, 0.05650060623884201)\n",
      "(0.8980015516281128, 0.08871825784444809)\n",
      "(0.9571902751922607, 0.6437092423439026)\n",
      "(0.9375640749931335, 0.35272642970085144)\n",
      "(0.8393640518188477, 0.01232131663709879)\n"
     ]
    }
   ],
   "source": [
    "# Check normality\n",
    "print(scipy.stats.shapiro(sl15n_ff))\n",
    "print(scipy.stats.shapiro(sn15n_ff))\n",
    "print(scipy.stats.shapiro(sl15l_ff))\n",
    "print(scipy.stats.shapiro(sn15l_ff))\n",
    "\n",
    "print(scipy.stats.shapiro(sl15n_cv))\n",
    "print(scipy.stats.shapiro(sn15n_cv))\n",
    "print(scipy.stats.shapiro(sl15l_cv))\n",
    "print(scipy.stats.shapiro(sn15l_cv))"
   ]
  },
  {
   "cell_type": "code",
   "execution_count": 22,
   "metadata": {},
   "outputs": [
    {
     "name": "stdout",
     "output_type": "stream",
     "text": [
      "LeveneResult(statistic=3.324360004906396, pvalue=0.07895407888883385)\n",
      "LeveneResult(statistic=5.692904791871569, pvalue=0.02403587061048444)\n",
      "LeveneResult(statistic=0.08761374122562585, pvalue=0.7694172283480585)\n",
      "LeveneResult(statistic=1.036702220555845, pvalue=0.317307292342006)\n"
     ]
    }
   ],
   "source": [
    "# Test for equal variances\n",
    "print(scipy.stats.levene(sl15n_ff, sn15n_ff))\n",
    "print(scipy.stats.levene(sl15l_ff, sn15l_ff))\n",
    "\n",
    "print(scipy.stats.levene(sl15n_cv, sn15n_cv))\n",
    "print(scipy.stats.levene(sl15l_cv, sn15l_cv))"
   ]
  },
  {
   "cell_type": "code",
   "execution_count": 23,
   "metadata": {},
   "outputs": [
    {
     "name": "stdout",
     "output_type": "stream",
     "text": [
      "fano factor\n",
      "Ttest_indResult(statistic=-2.5436021447803854, pvalue=0.016777450225103727)\n",
      "Ttest_indResult(statistic=-4.2220898928324235, pvalue=0.0002310404955254264)\n",
      "coefficient of variation\n",
      "Ttest_indResult(statistic=-1.6047564253138746, pvalue=0.1197689039526302)\n",
      "Ttest_indResult(statistic=-0.2545580585810469, pvalue=0.800924763113805)\n"
     ]
    }
   ],
   "source": [
    "print('fano factor')\n",
    "# ttest networks\n",
    "print(scipy.stats.ttest_ind(sl15n_ff, sn15n_ff))\n",
    "# ttest locations\n",
    "print(scipy.stats.ttest_ind(sl15l_ff, sn15l_ff))\n",
    "\n",
    "print('coefficient of variation')\n",
    "# ttest networks\n",
    "print(scipy.stats.ttest_ind(sl15n_cv, sn15n_cv))\n",
    "# ttest locations\n",
    "print(scipy.stats.ttest_ind(sl15l_cv, sn15l_cv))"
   ]
  },
  {
   "cell_type": "markdown",
   "metadata": {},
   "source": [
    "# Mean firing rate over all simultions"
   ]
  },
  {
   "cell_type": "code",
   "execution_count": 24,
   "metadata": {},
   "outputs": [],
   "source": [
    "import matplotlib.patches as mpatches"
   ]
  },
  {
   "cell_type": "code",
   "execution_count": 25,
   "metadata": {},
   "outputs": [
    {
     "data": {
      "image/png": "[encoded data removed]",
      "text/plain": [
       "<Figure size 432x180 with 1 Axes>"
      ]
     },
     "metadata": {
      "needs_background": "light"
     },
     "output_type": "display_data"
    }
   ],
   "source": [
    "start = 100\n",
    "\n",
    "fig = plt.figure(figsize=(6,2.5))\n",
    "barWidth = 1\n",
    "\n",
    "# Values and errors\n",
    "sl15l_f = np.mean(sl15l[:,:,start:], axis=(1,2))  # Loihi, Locations\n",
    "sl15n_f = np.mean(sl15n[:,:,start:], axis=(1,2))  # Loihi, Networks\n",
    "sn15l_f = np.mean(sn15l[:,:,start:], axis=(1,2))  # NEST, Locations\n",
    "sn15n_f = np.mean(sn15n[:,:,start:], axis=(1,2))  # NEST, Networks\n",
    "\n",
    "# Loihi\n",
    "#r1 = [1, 3.5]\n",
    "#vl = [np.mean(sl15l_f), np.mean(sl15n_f)]  \n",
    "#el = [np.std(sl15l_f), np.std(sl15n_f)]\n",
    "\n",
    "# NEST\n",
    "#r2 = [2, 4.5]\n",
    "#vn = [np.mean(sn15l_f), np.mean(sn15n_f)]\n",
    "#en = [np.std(sn15l_f), np.std(sn15n_f)]\n",
    "\n",
    "#plt.bar(r1, vl, yerr=el, width=barWidth, color=twoCols[0], ecolor='black', label='Loihi', error_kw=dict(lw=1, capthick=1, capsize=4))\n",
    "#plt.bar(r2, vn, yerr=en, width=barWidth, color=twoCols[1], ecolor='black', label='NEST', error_kw=dict(lw=1, capthick=1, capsize=4))\n",
    "\n",
    "#inds = [0,1,2.5,3.5]\n",
    "inds = [0,0.75,2,2.75]\n",
    "partsNEST = plt.violinplot([sn15l_f, sn15n_f], positions=[inds[0],inds[2]], showmeans=False, showmedians=False, showextrema=False)\n",
    "partsLoihi = plt.violinplot([sl15l_f, sl15n_f], positions=[inds[1],inds[3]], showmeans=False, showmedians=False, showextrema=False)\n",
    "\n",
    "for pc in partsNEST['bodies']:\n",
    "    pc.set_facecolor(twoCols[1])\n",
    "    pc.set_edgecolor('#000000')\n",
    "    pc.set_alpha(1)\n",
    "\n",
    "for pc in partsLoihi['bodies']:\n",
    "    pc.set_facecolor(twoCols[0])\n",
    "    pc.set_edgecolor('#000000')\n",
    "    pc.set_alpha(1)\n",
    "\n",
    "# Calculate some statistics to build voilin plot\n",
    "data = [sn15l_f, sl15l_f, sn15n_f, sl15n_f]\n",
    "quartile1, medians, quartile3 = np.percentile(data, [25, 50, 75], axis=1)\n",
    "mins, maxs = np.min(data, axis=1), np.max(data, axis=1)\n",
    "\n",
    "# Correct a bit for nicer display\n",
    "mins = mins+0.001\n",
    "maxs = maxs-0.001\n",
    "\n",
    "# Add statistics (median, min, max)\n",
    "ax = fig.axes[0]\n",
    "ax.scatter(inds, medians, marker='o', color='white', s=25, zorder=3)\n",
    "ax.vlines(inds, mins, maxs, color='k', linestyle='-', lw=1)\n",
    "\n",
    "# Correct xticks\n",
    "plt.xticks([inds[0]+(inds[1]-inds[0])/2, inds[2]+(inds[3]-inds[2])/2], ['Locations', 'Networks'])\n",
    "#plt.yticks(np.arange(0, 0.151, step=0.025))\n",
    "\n",
    "# Set up grid\n",
    "plt.grid(axis='x')\n",
    "\n",
    "plt.ylabel('mean firing rate')\n",
    "#plt.xlim(-0.25, 1.25)\n",
    "#plt.ylim(0.0,0.2)\n",
    "plt.ylim(0.0,0.2)\n",
    "#plt.savefig(exp1.net.plot.plotDir + 'meanfiringrate.svg')\n",
    "plt.savefig('plots/figure3/meanfiringrate.svg')\n",
    "pl = plt.show()"
   ]
  },
  {
   "cell_type": "code",
   "execution_count": 26,
   "metadata": {},
   "outputs": [
    {
     "name": "stdout",
     "output_type": "stream",
     "text": [
      "Loihi: min 0.11 max 0.14\n",
      "NEST: min 0.11 max 0.12\n",
      "Loihi: min 0.10 max 0.15\n",
      "NEST: min 0.09 max 0.13\n"
     ]
    }
   ],
   "source": [
    "# Locations\n",
    "print('Loihi: min {:.2f} max {:.2f}'.format(np.min(sl15l_f), np.max(sl15l_f)))\n",
    "print('NEST: min {:.2f} max {:.2f}'.format(np.min(sn15l_f), np.max(sn15l_f)))\n",
    "# Networks\n",
    "print('Loihi: min {:.2f} max {:.2f}'.format(np.min(sl15n_f), np.max(sl15n_f)))\n",
    "print('NEST: min {:.2f} max {:.2f}'.format(np.min(sn15n_f), np.max(sn15n_f)))"
   ]
  },
  {
   "cell_type": "code",
   "execution_count": 27,
   "metadata": {},
   "outputs": [
    {
     "name": "stdout",
     "output_type": "stream",
     "text": [
      "Locations: Loihi 0.1313 +/- 0.0078 : NEST 0.1177 +/- 0.0038\n",
      "Networks: Loihi 0.1203 +/- 0.0126 : NEST 0.1131 +/- 0.0092\n"
     ]
    }
   ],
   "source": [
    "print(\"Locations: Loihi {:.4f} +/- {:.4f} : NEST {:.4f} +/- {:.4f}\".format(np.mean(sl15l_f), np.std(sl15l_f), np.mean(sn15l_f), np.std(sn15l_f)))\n",
    "print(\"Networks: Loihi {:.4f} +/- {:.4f} : NEST {:.4f} +/- {:.4f}\".format(np.mean(sl15n_f), np.std(sl15n_f), np.mean(sn15n_f), np.std(sn15n_f)))"
   ]
  },
  {
   "cell_type": "code",
   "execution_count": 28,
   "metadata": {},
   "outputs": [
    {
     "data": {
      "text/plain": [
       "'\\nerror variation network\\nx     0 loc       0 loihi\\nx     0 loc       1 nest\\nx     1 nets      0 loihi      \\nx     1 nets      1 nest\\n'"
      ]
     },
     "execution_count": 28,
     "metadata": {},
     "output_type": "execute_result"
    }
   ],
   "source": [
    "\"\"\"\n",
    "error variation network\n",
    "x     0 loc       0 loihi\n",
    "x     0 loc       1 nest\n",
    "x     1 nets      0 loihi      \n",
    "x     1 nets      1 nest\n",
    "\"\"\""
   ]
  },
  {
   "cell_type": "code",
   "execution_count": 29,
   "metadata": {},
   "outputs": [],
   "source": [
    "aovData = np.vstack((\n",
    "    np.vstack((sl15l_f, np.zeros(len(sl15l_f)), np.zeros(len(sl15l_f)))).T,\n",
    "    np.vstack((sl15n_f, np.zeros(len(sl15n_f)), np.ones(len(sl15n_f)))).T,\n",
    "    np.vstack((sn15l_f, np.ones(len(sn15l_f)), np.zeros(len(sn15l_f)))).T,\n",
    "    np.vstack((sn15n_f, np.ones(len(sn15n_f)), np.ones(len(sn15n_f)))).T\n",
    "))"
   ]
  },
  {
   "cell_type": "code",
   "execution_count": 30,
   "metadata": {},
   "outputs": [],
   "source": [
    "data = {\n",
    "    'error': aovData[:,0],\n",
    "    'variation': aovData[:,1],\n",
    "    'hardware': aovData[:,2]\n",
    "}"
   ]
  },
  {
   "cell_type": "code",
   "execution_count": 31,
   "metadata": {},
   "outputs": [],
   "source": [
    "formula = 'error ~ C(variation) + C(hardware) + C(variation):C(hardware)'\n",
    "model = ols(formula, data).fit()\n",
    "aov_table = anova_lm(model, typ=2)"
   ]
  },
  {
   "cell_type": "code",
   "execution_count": 32,
   "metadata": {},
   "outputs": [
    {
     "data": {
      "text/html": [
       "<div>\n",
       "<style scoped>\n",
       "    .dataframe tbody tr th:only-of-type {\n",
       "        vertical-align: middle;\n",
       "    }\n",
       "\n",
       "    .dataframe tbody tr th {\n",
       "        vertical-align: top;\n",
       "    }\n",
       "\n",
       "    .dataframe thead th {\n",
       "        text-align: right;\n",
       "    }\n",
       "</style>\n",
       "<table border=\"1\" class=\"dataframe\">\n",
       "  <thead>\n",
       "    <tr style=\"text-align: right;\">\n",
       "      <th></th>\n",
       "      <th>sum_sq</th>\n",
       "      <th>df</th>\n",
       "      <th>F</th>\n",
       "      <th>PR(&gt;F)</th>\n",
       "    </tr>\n",
       "  </thead>\n",
       "  <tbody>\n",
       "    <tr>\n",
       "      <th>C(variation)</th>\n",
       "      <td>0.001614</td>\n",
       "      <td>1.0</td>\n",
       "      <td>18.847511</td>\n",
       "      <td>0.000060</td>\n",
       "    </tr>\n",
       "    <tr>\n",
       "      <th>C(hardware)</th>\n",
       "      <td>0.000911</td>\n",
       "      <td>1.0</td>\n",
       "      <td>10.634742</td>\n",
       "      <td>0.001892</td>\n",
       "    </tr>\n",
       "    <tr>\n",
       "      <th>C(variation):C(hardware)</th>\n",
       "      <td>0.000157</td>\n",
       "      <td>1.0</td>\n",
       "      <td>1.829915</td>\n",
       "      <td>0.181574</td>\n",
       "    </tr>\n",
       "    <tr>\n",
       "      <th>Residual</th>\n",
       "      <td>0.004797</td>\n",
       "      <td>56.0</td>\n",
       "      <td>NaN</td>\n",
       "      <td>NaN</td>\n",
       "    </tr>\n",
       "  </tbody>\n",
       "</table>\n",
       "</div>"
      ],
      "text/plain": [
       "                            sum_sq    df          F    PR(>F)\n",
       "C(variation)              0.001614   1.0  18.847511  0.000060\n",
       "C(hardware)               0.000911   1.0  10.634742  0.001892\n",
       "C(variation):C(hardware)  0.000157   1.0   1.829915  0.181574\n",
       "Residual                  0.004797  56.0        NaN       NaN"
      ]
     },
     "execution_count": 32,
     "metadata": {},
     "output_type": "execute_result"
    }
   ],
   "source": [
    "aov_table"
   ]
  },
  {
   "cell_type": "code",
   "execution_count": 33,
   "metadata": {},
   "outputs": [
    {
     "data": {
      "image/png": "[encoded data removed]",
      "text/plain": [
       "<Figure size 432x288 with 1 Axes>"
      ]
     },
     "metadata": {
      "needs_background": "light"
     },
     "output_type": "display_data"
    }
   ],
   "source": [
    "res = model.resid \n",
    "fig = sm.qqplot(res, line='s')\n",
    "plt.show()"
   ]
  },
  {
   "cell_type": "code",
   "execution_count": 34,
   "metadata": {},
   "outputs": [
    {
     "name": "stdout",
     "output_type": "stream",
     "text": [
      "(0.8317275047302246, 0.009672505781054497)\n",
      "(0.9060710668563843, 0.1178734228014946)\n",
      "(0.9530928730964661, 0.5744109153747559)\n",
      "(0.9718447923660278, 0.8843746781349182)\n"
     ]
    }
   ],
   "source": [
    "print(scipy.stats.shapiro(sl15l_f))\n",
    "print(scipy.stats.shapiro(sn15l_f))\n",
    "print(scipy.stats.shapiro(sl15n_f))\n",
    "print(scipy.stats.shapiro(sn15n_f))"
   ]
  },
  {
   "cell_type": "code",
   "execution_count": 35,
   "metadata": {},
   "outputs": [
    {
     "name": "stdout",
     "output_type": "stream",
     "text": [
      "LeveneResult(statistic=1.5871264408771293, pvalue=0.21813700639354286)\n",
      "LeveneResult(statistic=1.4488548949833309, pvalue=0.23878978335936826)\n"
     ]
    }
   ],
   "source": [
    "print(scipy.stats.levene(sl15l_f, sn15l_f))\n",
    "print(scipy.stats.levene(sl15n_f, sn15n_f))"
   ]
  },
  {
   "cell_type": "code",
   "execution_count": 36,
   "metadata": {},
   "outputs": [
    {
     "name": "stdout",
     "output_type": "stream",
     "text": [
      "MannwhitneyuResult(statistic=27.0, pvalue=0.00021123378834695988)\n",
      "MannwhitneyuResult(statistic=78.0, pvalue=0.07923230299910178)\n"
     ]
    }
   ],
   "source": [
    "print(scipy.stats.mannwhitneyu(sl15l_f, sn15l_f))\n",
    "print(scipy.stats.mannwhitneyu(sl15n_f, sn15n_f))"
   ]
  },
  {
   "cell_type": "code",
   "execution_count": 37,
   "metadata": {},
   "outputs": [
    {
     "name": "stdout",
     "output_type": "stream",
     "text": [
      "(0.4775944816564992, 0.07179240150720048)\n",
      "(0.5590379323347727, 0.03027434850358785)\n"
     ]
    }
   ],
   "source": [
    "print(scipy.stats.pearsonr(sl15l_f, sn15l_f))\n",
    "print(scipy.stats.pearsonr(sl15n_f, sn15n_f))"
   ]
  },
  {
   "cell_type": "markdown",
   "metadata": {},
   "source": [
    "# Clustered frequencies"
   ]
  },
  {
   "cell_type": "code",
   "execution_count": 38,
   "metadata": {},
   "outputs": [],
   "source": [
    "def getClusteredFrequencies(sm, binSize):\n",
    "    topologyIndices = np.arange(p.reservoirExSize).reshape((p.topologySize, p.topologySize))\n",
    "    numBins = int(p.topologySize / binSize)\n",
    "\n",
    "    smb = []\n",
    "    for i in range(numBins):\n",
    "        # Define from and to variables for index i\n",
    "        ifr, ito = i*binSize, (i+1)*binSize\n",
    "        for j in range(numBins):\n",
    "            # Define from and to variables for index j\n",
    "            jfr, jto = j*binSize, (j+1)*binSize\n",
    "            # Get topology indices and set connect neurons between output cluster and output neuron\n",
    "            idc = topologyIndices[ifr:ito,jfr:jto]\n",
    "            smb.append(np.mean(sm[idc]))\n",
    "    return np.array(smb)"
   ]
  },
  {
   "cell_type": "code",
   "execution_count": 39,
   "metadata": {},
   "outputs": [
    {
     "data": {
      "image/png": "[encoded data removed]",
      "text/plain": [
       "<Figure size 432x144 with 1 Axes>"
      ]
     },
     "metadata": {
      "needs_background": "light"
     },
     "output_type": "display_data"
    },
    {
     "data": {
      "image/png": "[encoded data removed]",
      "text/plain": [
       "<Figure size 432x144 with 1 Axes>"
      ]
     },
     "metadata": {
      "needs_background": "light"
     },
     "output_type": "display_data"
    }
   ],
   "source": [
    "binSize = 10\n",
    "numclusters = int(p.reservoirExSize / np.square(binSize))\n",
    "\n",
    "\n",
    "idExp = 7\n",
    "\n",
    "slmb = getClusteredFrequencies(np.mean(sl15n[idExp], axis=1), binSize)\n",
    "snmb = getClusteredFrequencies(np.mean(sn15n[idExp], axis=1), binSize)\n",
    "\n",
    "# Plot Loihi\n",
    "plt.figure(figsize=(6,2))\n",
    "plt.bar(1+np.arange(numclusters), slmb, color=twoCols[0])\n",
    "#plt.title('Loihi')\n",
    "plt.xlabel('index of neuron group')\n",
    "plt.ylabel('mean firing rate')\n",
    "#plt.tick_params(bottom=False, labelbottom=False, left=False, labelleft=False)\n",
    "plt.xlim((0,numclusters+1))\n",
    "plt.ylim((0,0.4))\n",
    "plt.grid(axis='x')\n",
    "#plt.savefig(exp1.net.plot.plotDir + 'frequency_loihi.svg')\n",
    "plt.savefig('plots/figure3/frequency_loihi.svg')\n",
    "pl = plt.show()\n",
    "\n",
    "# Plot Nest\n",
    "plt.figure(figsize=(6,2))\n",
    "plt.bar(1+np.arange(numclusters), snmb, color=twoCols[1])\n",
    "#plt.title('Nest')\n",
    "plt.xlabel('index of neuron group')\n",
    "plt.ylabel('mean firing rate')\n",
    "#plt.tick_params(bottom=False, labelbottom=False, left=False, labelleft=False)\n",
    "plt.xlim((0,numclusters+1))\n",
    "plt.ylim((0,0.4))\n",
    "plt.grid(axis='x')\n",
    "#plt.savefig(exp1.net.plot.plotDir + 'frequency_nest.svg')\n",
    "plt.savefig('plots/figure3/frequency_nest.svg')\n",
    "pl = plt.show()"
   ]
  },
  {
   "cell_type": "code",
   "execution_count": 40,
   "metadata": {},
   "outputs": [
    {
     "name": "stdout",
     "output_type": "stream",
     "text": [
      "Ks_2sampResult(statistic=0.11111111111111116, pvalue=0.9713163247270222)\n"
     ]
    }
   ],
   "source": [
    "print(scipy.stats.ks_2samp(slmb/np.sum(slmb), snmb/np.sum(snmb)))"
   ]
  },
  {
   "cell_type": "code",
   "execution_count": 41,
   "metadata": {},
   "outputs": [],
   "source": [
    "slmbs = []\n",
    "snmbs = []\n",
    "for i in range(7):\n",
    "    # Cluster and sort frequencies from loihi\n",
    "    sl_cl = getClusteredFrequencies(np.mean(sl15n[i], axis=1), binSize)\n",
    "    slmbs.append(np.sort(sl_cl)[::-1])\n",
    "    # Cluster and sort frequencies from nest\n",
    "    sn_cl = getClusteredFrequencies(np.mean(sn15n[i], axis=1), binSize)\n",
    "    snmbs.append(np.sort(sn_cl)[::-1])\n",
    "\n",
    "slmbs_mn = np.mean(slmbs, axis=0)\n",
    "snmbs_mn = np.mean(snmbs, axis=0)"
   ]
  },
  {
   "cell_type": "code",
   "execution_count": 42,
   "metadata": {},
   "outputs": [
    {
     "data": {
      "text/plain": [
       "<BarContainer object of 36 artists>"
      ]
     },
     "execution_count": 42,
     "metadata": {},
     "output_type": "execute_result"
    },
    {
     "data": {
      "image/png": "[encoded data removed]",
      "text/plain": [
       "<Figure size 432x288 with 1 Axes>"
      ]
     },
     "metadata": {
      "needs_background": "light"
     },
     "output_type": "display_data"
    }
   ],
   "source": [
    "plt.bar(1+np.arange(numclusters), slmbs_mn)\n",
    "plt.bar(1+np.arange(numclusters), snmbs_mn)"
   ]
  },
  {
   "cell_type": "code",
   "execution_count": 43,
   "metadata": {},
   "outputs": [
    {
     "name": "stdout",
     "output_type": "stream",
     "text": [
      "Ks_2sampResult(statistic=0.05555555555555558, pvalue=0.9999999900335537)\n"
     ]
    }
   ],
   "source": [
    "print(scipy.stats.ks_2samp(slmbs_mn/np.sum(slmbs_mn), snmbs_mn/np.sum(snmbs_mn)))"
   ]
  }
 ],
 "metadata": {
  "kernelspec": {
   "display_name": "Python 3",
   "language": "python",
   "name": "python3"
  },
  "language_info": {
   "codemirror_mode": {
    "name": "ipython",
    "version": 3
   },
   "file_extension": ".py",
   "mimetype": "text/x-python",
   "name": "python",
   "nbconvert_exporter": "python",
   "pygments_lexer": "ipython3",
   "version": "3.5.2"
  }
 },
 "nbformat": 4,
 "nbformat_minor": 2
}
